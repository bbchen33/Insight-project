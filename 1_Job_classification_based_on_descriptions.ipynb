{
  "nbformat": 4,
  "nbformat_minor": 0,
  "metadata": {
    "colab": {
      "name": "Job-classification-based-on-descriptions.ipynb",
      "provenance": [],
      "authorship_tag": "ABX9TyMYImkWwK4K/4b8APw3itea",
      "include_colab_link": true
    },
    "kernelspec": {
      "name": "python3",
      "display_name": "Python 3"
    }
  },
  "cells": [
    {
      "cell_type": "markdown",
      "metadata": {
        "id": "view-in-github",
        "colab_type": "text"
      },
      "source": [
        "<a href=\"https://colab.research.google.com/github/bbchen33/Insight-project/blob/master/Job_classification_based_on_descriptions.ipynb\" target=\"_parent\"><img src=\"https://colab.research.google.com/assets/colab-badge.svg\" alt=\"Open In Colab\"/></a>"
      ]
    },
    {
      "cell_type": "markdown",
      "metadata": {
        "id": "NDnMRHSmB3-R",
        "colab_type": "text"
      },
      "source": [
        "Below is a list of job titles I found to be more abundant in the data I am working with so I will use them as the labels to categorize the rest of the job titles. Original dataset is from Kaggle https://www.kaggle.com/madhab/jobposts."
      ]
    },
    {
      "cell_type": "code",
      "metadata": {
        "id": "k9y5CHXHCbxy",
        "colab_type": "code",
        "colab": {}
      },
      "source": [
        "import pandas as pd\n",
        "job_posts_labeled = pd.read_csv('job_posts_labeled_all_labeled.txt', sep = '\\t')"
      ],
      "execution_count": 0,
      "outputs": []
    },
    {
      "cell_type": "markdown",
      "metadata": {
        "id": "Xisr_PXvDAZS",
        "colab_type": "text"
      },
      "source": [
        "'various job' = actual job titles in the data; 'official job' = the standardardized format of a job (e.g. accountant for financial specialist or financial manager) but right now it is mostly just copy from 'various job'. The 'official job' is the label I'll give each job at the end of my training. "
      ]
    },
    {
      "cell_type": "markdown",
      "metadata": {
        "id": "09_op93aCy04",
        "colab_type": "text"
      },
      "source": [
        "I'm dropping rows with na in the 'various job' column since the actual job titles is what I want. "
      ]
    },
    {
      "cell_type": "code",
      "metadata": {
        "id": "rkgeexlECwlI",
        "colab_type": "code",
        "colab": {}
      },
      "source": [
        "job_posts_labeled = job_posts_labeled.dropna(subset=['various job'])"
      ],
      "execution_count": 0,
      "outputs": []
    },
    {
      "cell_type": "code",
      "metadata": {
        "id": "8f_1TMb4Cpmw",
        "colab_type": "code",
        "outputId": "872cd7f5-0d9e-4457-9c1c-0c76b0150f15",
        "colab": {
          "base_uri": "https://localhost:8080/",
          "height": 314
        }
      },
      "source": [
        "job_posts_labeled.head()"
      ],
      "execution_count": 5,
      "outputs": [
        {
          "output_type": "execute_result",
          "data": {
            "text/html": [
              "<div>\n",
              "<style scoped>\n",
              "    .dataframe tbody tr th:only-of-type {\n",
              "        vertical-align: middle;\n",
              "    }\n",
              "\n",
              "    .dataframe tbody tr th {\n",
              "        vertical-align: top;\n",
              "    }\n",
              "\n",
              "    .dataframe thead th {\n",
              "        text-align: right;\n",
              "    }\n",
              "</style>\n",
              "<table border=\"1\" class=\"dataframe\">\n",
              "  <thead>\n",
              "    <tr style=\"text-align: right;\">\n",
              "      <th></th>\n",
              "      <th>various job</th>\n",
              "      <th>official job</th>\n",
              "      <th>Company</th>\n",
              "      <th>JobDescription</th>\n",
              "      <th>JobRequirment</th>\n",
              "      <th>RequiredQual</th>\n",
              "    </tr>\n",
              "  </thead>\n",
              "  <tbody>\n",
              "    <tr>\n",
              "      <th>0</th>\n",
              "      <td>journalist</td>\n",
              "      <td>journalist</td>\n",
              "      <td>News.am Information-Analytic Agency</td>\n",
              "      <td>The incumbent will be responsible for agency's...</td>\n",
              "      <td>NaN</td>\n",
              "      <td>- Higher education;\\r\\n- Good knowledge of Eng...</td>\n",
              "    </tr>\n",
              "    <tr>\n",
              "      <th>1</th>\n",
              "      <td>News Editor</td>\n",
              "      <td>Editor</td>\n",
              "      <td>BlogNews.am</td>\n",
              "      <td>BlogNews.am is looking for a News Editor. He/ ...</td>\n",
              "      <td>NaN</td>\n",
              "      <td>- At least Bachelor's degree in Journalism or ...</td>\n",
              "    </tr>\n",
              "    <tr>\n",
              "      <th>2</th>\n",
              "      <td>HR Assistant</td>\n",
              "      <td>hr specialist</td>\n",
              "      <td>Career Center</td>\n",
              "      <td>We have a new opening for the position of HR A...</td>\n",
              "      <td>Main duties include but are not limited to the...</td>\n",
              "      <td>- Relevant graduate degree;\\r\\n- Fluent writte...</td>\n",
              "    </tr>\n",
              "    <tr>\n",
              "      <th>3</th>\n",
              "      <td>HR Assistant</td>\n",
              "      <td>hr specialist</td>\n",
              "      <td>Career Center</td>\n",
              "      <td>We have a new opening for the position of HR A...</td>\n",
              "      <td>Main duties include but are not limited to the...</td>\n",
              "      <td>- Relevant graduate degree;\\r\\n- Fluent writte...</td>\n",
              "    </tr>\n",
              "    <tr>\n",
              "      <th>4</th>\n",
              "      <td>HR Assistant</td>\n",
              "      <td>hr specialist</td>\n",
              "      <td>Career Center</td>\n",
              "      <td>We have a new opening for the position of HR A...</td>\n",
              "      <td>Main duties include but are not limited to the...</td>\n",
              "      <td>- Relevant graduate degree;\\r\\n- Fluent writte...</td>\n",
              "    </tr>\n",
              "  </tbody>\n",
              "</table>\n",
              "</div>"
            ],
            "text/plain": [
              "    various job  ...                                       RequiredQual\n",
              "0    journalist  ...  - Higher education;\\r\\n- Good knowledge of Eng...\n",
              "1   News Editor  ...  - At least Bachelor's degree in Journalism or ...\n",
              "2  HR Assistant  ...  - Relevant graduate degree;\\r\\n- Fluent writte...\n",
              "3  HR Assistant  ...  - Relevant graduate degree;\\r\\n- Fluent writte...\n",
              "4  HR Assistant  ...  - Relevant graduate degree;\\r\\n- Fluent writte...\n",
              "\n",
              "[5 rows x 6 columns]"
            ]
          },
          "metadata": {
            "tags": []
          },
          "execution_count": 5
        }
      ]
    },
    {
      "cell_type": "code",
      "metadata": {
        "id": "RNZSf-meDSMe",
        "colab_type": "code",
        "outputId": "8aca82de-7f66-44f1-9447-c79367e9141c",
        "colab": {
          "base_uri": "https://localhost:8080/",
          "height": 34
        }
      },
      "source": [
        "len(job_posts_labeled)"
      ],
      "execution_count": 6,
      "outputs": [
        {
          "output_type": "execute_result",
          "data": {
            "text/plain": [
              "15090"
            ]
          },
          "metadata": {
            "tags": []
          },
          "execution_count": 6
        }
      ]
    },
    {
      "cell_type": "markdown",
      "metadata": {
        "id": "VHAWO73HCsne",
        "colab_type": "text"
      },
      "source": [
        "I have found that the 'JobDescription' is most useful for getting good classification so I will only save 'various job', 'official job' and 'JobDescription' for my actual training."
      ]
    },
    {
      "cell_type": "code",
      "metadata": {
        "id": "J6rgB8qSD_gy",
        "colab_type": "code",
        "colab": {}
      },
      "source": [
        "job_posts_features = job_posts_labeled[['various job','official job','JobDescription']]"
      ],
      "execution_count": 0,
      "outputs": []
    },
    {
      "cell_type": "markdown",
      "metadata": {
        "id": "lxSIQOIWEDCy",
        "colab_type": "text"
      },
      "source": [
        "Below is a list of job titles (52) that I hand picked and decided that they were common enough to be used to categorize most of the jobs in my data set. "
      ]
    },
    {
      "cell_type": "code",
      "metadata": {
        "id": "_9YyJkptD_p4",
        "colab_type": "code",
        "colab": {}
      },
      "source": [
        "job_titles = 'accountant, bartender, chef, chief financial officer, civil engineer, editor, research assistant, marketing specialist, salesperson, software developer, software engineer, data scientist, volunteer, lawyer, graphic designer, ceo, it specialist, project manager, product manager, technical writer, journalist, medical doctor, pharmacist, translator, qa engineer, receptionist/ administrative assistant, recruiter, hr specialist, secretary, java developer, web developer, foreign language teacher, tour guide, president, mechanical engineer, electrical engineer, driver, professor, copywriter, intern, financial analyst, general manager, procurement specialist, sales manager, insurance agent, medical representative, credit officer, database developer, deputy manager, real estate agent, data entry clerk, ai engineer'"
      ],
      "execution_count": 0,
      "outputs": []
    },
    {
      "cell_type": "code",
      "metadata": {
        "id": "u3ZF5t2dD_xG",
        "colab_type": "code",
        "outputId": "0697e183-fd8c-4bf8-e917-22a4b219350a",
        "colab": {
          "base_uri": "https://localhost:8080/",
          "height": 34
        }
      },
      "source": [
        "job_titles = job_titles.split(', ')\n",
        "len(job_titles)"
      ],
      "execution_count": 9,
      "outputs": [
        {
          "output_type": "execute_result",
          "data": {
            "text/plain": [
              "52"
            ]
          },
          "metadata": {
            "tags": []
          },
          "execution_count": 9
        }
      ]
    },
    {
      "cell_type": "markdown",
      "metadata": {
        "id": "k36Kap6hETVr",
        "colab_type": "text"
      },
      "source": [
        "Lowercase for all job titles so I can have a better chance of matching the 'vaious job' and 'official job'."
      ]
    },
    {
      "cell_type": "code",
      "metadata": {
        "id": "VNVGqjTXEOcp",
        "colab_type": "code",
        "outputId": "8ef099c2-4992-468b-f0b0-0c04854eb6c2",
        "colab": {
          "base_uri": "https://localhost:8080/",
          "height": 250
        }
      },
      "source": [
        "job_posts_features['official job'] = job_posts_features['official job'].str.lower()\n",
        "job_posts_features['various job'] = job_posts_features['various job'].str.lower()"
      ],
      "execution_count": 10,
      "outputs": [
        {
          "output_type": "stream",
          "text": [
            "/usr/local/lib/python3.6/dist-packages/ipykernel_launcher.py:1: SettingWithCopyWarning: \n",
            "A value is trying to be set on a copy of a slice from a DataFrame.\n",
            "Try using .loc[row_indexer,col_indexer] = value instead\n",
            "\n",
            "See the caveats in the documentation: http://pandas.pydata.org/pandas-docs/stable/user_guide/indexing.html#returning-a-view-versus-a-copy\n",
            "  \"\"\"Entry point for launching an IPython kernel.\n",
            "/usr/local/lib/python3.6/dist-packages/ipykernel_launcher.py:2: SettingWithCopyWarning: \n",
            "A value is trying to be set on a copy of a slice from a DataFrame.\n",
            "Try using .loc[row_indexer,col_indexer] = value instead\n",
            "\n",
            "See the caveats in the documentation: http://pandas.pydata.org/pandas-docs/stable/user_guide/indexing.html#returning-a-view-versus-a-copy\n",
            "  \n"
          ],
          "name": "stderr"
        }
      ]
    },
    {
      "cell_type": "markdown",
      "metadata": {
        "id": "xE2wc76oIF3N",
        "colab_type": "text"
      },
      "source": [
        "Finding the index where the official job is in my list of job titles so I select them for training."
      ]
    },
    {
      "cell_type": "code",
      "metadata": {
        "id": "cOyK9x9XESh2",
        "colab_type": "code",
        "colab": {}
      },
      "source": [
        "index_list = []\n",
        "for job in job_titles:\n",
        "  job_index = job_posts_features[job_posts_features['official job'] == job].index\n",
        "  if len(job_index) >= 15: # I restrict the data to be 15 rows or more for training\n",
        "    index_list.append(job_index)"
      ],
      "execution_count": 0,
      "outputs": []
    },
    {
      "cell_type": "markdown",
      "metadata": {
        "id": "V3PhNp0ZH1lk",
        "colab_type": "text"
      },
      "source": [
        "Turned out only 34 out of the 52 handpicked titles had sufficient data for training."
      ]
    },
    {
      "cell_type": "code",
      "metadata": {
        "id": "S6sJqmRHHQOx",
        "colab_type": "code",
        "outputId": "1f69a1df-e4f8-4968-ad33-04fb1e9c51c9",
        "colab": {
          "base_uri": "https://localhost:8080/",
          "height": 34
        }
      },
      "source": [
        "len(index_list)"
      ],
      "execution_count": 12,
      "outputs": [
        {
          "output_type": "execute_result",
          "data": {
            "text/plain": [
              "35"
            ]
          },
          "metadata": {
            "tags": []
          },
          "execution_count": 12
        }
      ]
    },
    {
      "cell_type": "code",
      "metadata": {
        "id": "lZyk0-q7HRc7",
        "colab_type": "code",
        "outputId": "b142e474-751b-4cf6-f319-2bbf0f1cebc9",
        "colab": {
          "base_uri": "https://localhost:8080/",
          "height": 158
        }
      },
      "source": [
        "index_list[:2]"
      ],
      "execution_count": 13,
      "outputs": [
        {
          "output_type": "execute_result",
          "data": {
            "text/plain": [
              "[Int64Index([343, 344, 345, 346, 347, 348, 349, 350, 351, 352,\n",
              "             ...\n",
              "             583, 584, 585, 586, 587, 588, 589, 590, 591, 592],\n",
              "            dtype='int64', length=250),\n",
              " Int64Index([  53, 2579, 2621, 2622, 2623, 2624, 2625, 2626, 2627, 2628, 2629,\n",
              "             2630, 2631, 2632, 2633, 2634, 2635, 2636, 2637, 2638, 2639, 2640,\n",
              "             2641, 2642, 2643, 2644, 2645, 2646, 2647, 2648, 2649],\n",
              "            dtype='int64')]"
            ]
          },
          "metadata": {
            "tags": []
          },
          "execution_count": 13
        }
      ]
    },
    {
      "cell_type": "code",
      "metadata": {
        "id": "lRoX74xCHRhH",
        "colab_type": "code",
        "colab": {}
      },
      "source": [
        "import numpy as np\n",
        "index_combined = np.concatenate(index_list) "
      ],
      "execution_count": 0,
      "outputs": []
    },
    {
      "cell_type": "code",
      "metadata": {
        "id": "lVQ8pyEkHRlD",
        "colab_type": "code",
        "outputId": "f1cf3c41-1718-4344-a465-ee4c3f0d07a5",
        "colab": {
          "base_uri": "https://localhost:8080/",
          "height": 34
        }
      },
      "source": [
        "len(index_combined)"
      ],
      "execution_count": 15,
      "outputs": [
        {
          "output_type": "execute_result",
          "data": {
            "text/plain": [
              "2004"
            ]
          },
          "metadata": {
            "tags": []
          },
          "execution_count": 15
        }
      ]
    },
    {
      "cell_type": "markdown",
      "metadata": {
        "id": "eG3M-_U-IQr-",
        "colab_type": "text"
      },
      "source": [
        "I called the ones with exactly the same labels as the handlabeled titles \"labeled_df\" for training my model while the rest as \"unlabeled_df\" to predict their \"standard job titles\" with my model."
      ]
    },
    {
      "cell_type": "code",
      "metadata": {
        "id": "B9YqXJ3_HRp8",
        "colab_type": "code",
        "colab": {}
      },
      "source": [
        "labeled_df = job_posts_features[['various job','official job', 'JobDescription']]\n",
        "labeled_df = labeled_df.iloc[index_combined]\n",
        "labeled_df = labeled_df.reset_index(drop = True)"
      ],
      "execution_count": 0,
      "outputs": []
    },
    {
      "cell_type": "code",
      "metadata": {
        "id": "_TqPrzUHIdCT",
        "colab_type": "code",
        "colab": {}
      },
      "source": [
        "unlabeled_df = job_posts_features[['various job','official job', 'JobDescription']]\n",
        "unlabeled_df = unlabeled_df[~unlabeled_df.index.isin(index_combined)]\n",
        "unlabeled_df = unlabeled_df.reset_index(drop = True)"
      ],
      "execution_count": 0,
      "outputs": []
    },
    {
      "cell_type": "code",
      "metadata": {
        "id": "d44bh6SpIepw",
        "colab_type": "code",
        "colab": {}
      },
      "source": [
        "combined_df = pd.concat([labeled_df, unlabeled_df], axis = 0)\n",
        "combined_df = combined_df.reset_index(drop = True)"
      ],
      "execution_count": 0,
      "outputs": []
    },
    {
      "cell_type": "markdown",
      "metadata": {
        "id": "YP5aBEoXImUD",
        "colab_type": "text"
      },
      "source": [
        "Now the 'combined_df' is the dataframe for training a model. I'll do some text preprocessing on the job description."
      ]
    },
    {
      "cell_type": "code",
      "metadata": {
        "id": "UR2LJ4NBIhjS",
        "colab_type": "code",
        "outputId": "3370d500-5be6-49df-f03c-797a8cec2ac6",
        "colab": {
          "base_uri": "https://localhost:8080/",
          "height": 70
        }
      },
      "source": [
        "import nltk\n",
        "nltk.download('stopwords')"
      ],
      "execution_count": 19,
      "outputs": [
        {
          "output_type": "stream",
          "text": [
            "[nltk_data] Downloading package stopwords to /root/nltk_data...\n",
            "[nltk_data]   Package stopwords is already up-to-date!\n"
          ],
          "name": "stdout"
        },
        {
          "output_type": "execute_result",
          "data": {
            "text/plain": [
              "True"
            ]
          },
          "metadata": {
            "tags": []
          },
          "execution_count": 19
        }
      ]
    },
    {
      "cell_type": "code",
      "metadata": {
        "id": "KarEHR7uIhsI",
        "colab_type": "code",
        "colab": {}
      },
      "source": [
        "from nltk.corpus import stopwords\n",
        "from nltk.stem import SnowballStemmer\n",
        "import re\n",
        "pd.options.mode.chained_assignment = None # Turning off warning\n",
        "def text_processing(text):\n",
        "  stemmer = SnowballStemmer('english')\n",
        "  text = re.sub(r'([0-9]+?)', '', text) \n",
        "  text = re.sub(r'  ', ' ', text)\n",
        "  text = re.sub(r'   ', ' ', text)\n",
        "  text = re.sub(r'(!|\"|#|\\$|%|&|\\'|\\(|\\)|\\*|\\+|,|-|\\.|/|:|;|<|=|>|\\?|@|\\[|\\\\|\\]|\\^|_|`|{|\\||}|~)+', ' ', text)\n",
        "  text = text.lower()\n",
        "  text = stemmer.stem(text)\n",
        "  text = text.strip()\n",
        "  text = [word for word in text.split() if word.lower() not in stopwords.words('english')]\n",
        "  return ' '.join(text)"
      ],
      "execution_count": 0,
      "outputs": []
    },
    {
      "cell_type": "code",
      "metadata": {
        "id": "BMqsaMeOI6oQ",
        "colab_type": "code",
        "colab": {}
      },
      "source": [
        "combined_df['JobDescription'] = combined_df['JobDescription'].apply(lambda x: text_processing(x))"
      ],
      "execution_count": 0,
      "outputs": []
    },
    {
      "cell_type": "code",
      "metadata": {
        "id": "9BT2Cg12JFs6",
        "colab_type": "code",
        "outputId": "1cbceb58-d274-497a-f307-9ef149a08fa2",
        "colab": {
          "base_uri": "https://localhost:8080/",
          "height": 87
        }
      },
      "source": [
        "combined_df['JobDescription'].head(3)"
      ],
      "execution_count": 22,
      "outputs": [
        {
          "output_type": "execute_result",
          "data": {
            "text/plain": [
              "0    sef international growing universal credit org...\n",
              "1    accountant full time national staff position b...\n",
              "2    armenian forests ngo funding tufenkian foundat...\n",
              "Name: JobDescription, dtype: object"
            ]
          },
          "metadata": {
            "tags": []
          },
          "execution_count": 22
        }
      ]
    },
    {
      "cell_type": "markdown",
      "metadata": {
        "id": "8SNwLkF9mIIG",
        "colab_type": "text"
      },
      "source": [
        "Can save combined_df and just use it for training later.\n",
        "\n"
      ]
    },
    {
      "cell_type": "code",
      "metadata": {
        "id": "GB_pp4tsJKaM",
        "colab_type": "code",
        "colab": {}
      },
      "source": [
        "len_for_training = len(labeled_df)"
      ],
      "execution_count": 0,
      "outputs": []
    },
    {
      "cell_type": "code",
      "metadata": {
        "id": "QXxOKi6cJKgv",
        "colab_type": "code",
        "outputId": "dbf101f9-d494-41ad-aad1-746b07a7dc13",
        "colab": {
          "base_uri": "https://localhost:8080/",
          "height": 656
        }
      },
      "source": [
        "combined_df['official job'][:len_for_training].value_counts()"
      ],
      "execution_count": 24,
      "outputs": [
        {
          "output_type": "execute_result",
          "data": {
            "text/plain": [
              "accountant                  250\n",
              "medical representative      187\n",
              "sales manager               143\n",
              "lawyer                      123\n",
              "software developer          121\n",
              "project manager             102\n",
              "web developer                90\n",
              "java developer               87\n",
              "marketing specialist         65\n",
              "software engineer            65\n",
              "qa engineer                  65\n",
              "graphic designer             56\n",
              "it specialist                48\n",
              "translator                   45\n",
              "driver                       43\n",
              "journalist                   38\n",
              "credit officer               36\n",
              "foreign language teacher     35\n",
              "hr specialist                34\n",
              "secretary                    34\n",
              "technical writer             31\n",
              "chief financial officer      31\n",
              "financial analyst            29\n",
              "database developer           28\n",
              "procurement specialist       25\n",
              "intern                       24\n",
              "deputy manager               23\n",
              "pharmacist                   21\n",
              "general manager              21\n",
              "salesperson                  20\n",
              "product manager              18\n",
              "recruiter                    17\n",
              "electrical engineer          17\n",
              "mechanical engineer          17\n",
              "civil engineer               15\n",
              "Name: official job, dtype: int64"
            ]
          },
          "metadata": {
            "tags": []
          },
          "execution_count": 24
        }
      ]
    },
    {
      "cell_type": "markdown",
      "metadata": {
        "id": "NVNLncLGJcPV",
        "colab_type": "text"
      },
      "source": [
        "The distribution of each class is different so I will balance it first but before balancing, I want to vectorize the text into numbers and encode the 'official job' as 34 classes."
      ]
    },
    {
      "cell_type": "code",
      "metadata": {
        "id": "8-fzWa5dJg-F",
        "colab_type": "code",
        "colab": {}
      },
      "source": [
        "!pip install --quiet zeugma # zeugma package allows easy text embedding"
      ],
      "execution_count": 0,
      "outputs": []
    },
    {
      "cell_type": "code",
      "metadata": {
        "id": "GdElqolxJygv",
        "colab_type": "code",
        "outputId": "df84a718-dfcd-484e-f882-e04785994d7f",
        "colab": {
          "base_uri": "https://localhost:8080/",
          "height": 34
        }
      },
      "source": [
        "%tensorflow_version 2.x"
      ],
      "execution_count": 26,
      "outputs": [
        {
          "output_type": "stream",
          "text": [
            "TensorFlow 2.x selected.\n"
          ],
          "name": "stdout"
        }
      ]
    },
    {
      "cell_type": "code",
      "metadata": {
        "id": "2VMeKLZ9J0Au",
        "colab_type": "code",
        "outputId": "1167957c-b8bf-48e8-e6d7-d3c387727e9b",
        "colab": {
          "base_uri": "https://localhost:8080/",
          "height": 90
        }
      },
      "source": [
        "from zeugma.embeddings import EmbeddingTransformer\n",
        "word2vec = EmbeddingTransformer('word2vec') #word2vec has worked well for me. can also use glove or fasttext."
      ],
      "execution_count": 27,
      "outputs": [
        {
          "output_type": "stream",
          "text": [
            "Using TensorFlow backend.\n",
            "/usr/local/lib/python3.6/dist-packages/smart_open/smart_open_lib.py:402: UserWarning: This function is deprecated, use smart_open.open instead. See the migration notes for details: https://github.com/RaRe-Technologies/smart_open/blob/master/README.rst#migrating-to-the-new-open-function\n",
            "  'See the migration notes for details: %s' % _MIGRATION_NOTES_URL\n"
          ],
          "name": "stderr"
        }
      ]
    },
    {
      "cell_type": "code",
      "metadata": {
        "id": "8XYw91peJ3iv",
        "colab_type": "code",
        "colab": {}
      },
      "source": [
        "from sklearn.preprocessing import LabelEncoder\n",
        "le = LabelEncoder()\n",
        "y = le.fit_transform(combined_df['official job'][:len_for_training])\n",
        "combined_X = word2vec.transform(combined_df['JobDescription'])"
      ],
      "execution_count": 0,
      "outputs": []
    },
    {
      "cell_type": "markdown",
      "metadata": {
        "id": "iTwrScvpDsr6",
        "colab_type": "text"
      },
      "source": [
        "Splitting the data into train and test before balancing so I don't oversample (duplicate) data into both train and test that will give better test accuracy than it should."
      ]
    },
    {
      "cell_type": "code",
      "metadata": {
        "id": "8dhlbvbOKJMP",
        "colab_type": "code",
        "colab": {}
      },
      "source": [
        "from sklearn.model_selection import train_test_split\n",
        "X_train, X_test, y_train, y_test = train_test_split(combined_X[:len_for_training], y, test_size = 0.3, random_state = 1)"
      ],
      "execution_count": 0,
      "outputs": []
    },
    {
      "cell_type": "markdown",
      "metadata": {
        "id": "OFNHJz6ZJ_ez",
        "colab_type": "text"
      },
      "source": [
        "Balancing the data with SMOTE."
      ]
    },
    {
      "cell_type": "code",
      "metadata": {
        "id": "mAQqYfgWJ3oa",
        "colab_type": "code",
        "colab": {
          "base_uri": "https://localhost:8080/",
          "height": 107
        },
        "outputId": "cc9d44ff-bc43-4e7d-e1f2-d3795b9c6d5d"
      },
      "source": [
        "from imblearn.over_sampling import SMOTE\n",
        "import warnings\n",
        "warnings.filterwarnings(\"ignore\")\n",
        "sm = SMOTE(random_state = 0)\n",
        "X_res, y_res = sm.fit_resample(X_train, y_train)"
      ],
      "execution_count": 30,
      "outputs": [
        {
          "output_type": "stream",
          "text": [
            "/usr/local/lib/python3.6/dist-packages/sklearn/externals/six.py:31: FutureWarning: The module is deprecated in version 0.21 and will be removed in version 0.23 since we've dropped support for Python 2.7. Please rely on the official version of six (https://pypi.org/project/six/).\n",
            "  \"(https://pypi.org/project/six/).\", FutureWarning)\n",
            "/usr/local/lib/python3.6/dist-packages/sklearn/utils/deprecation.py:144: FutureWarning: The sklearn.neighbors.base module is  deprecated in version 0.22 and will be removed in version 0.24. The corresponding classes / functions should instead be imported from sklearn.neighbors. Anything that cannot be imported from sklearn.neighbors is now part of the private API.\n",
            "  warnings.warn(message, FutureWarning)\n"
          ],
          "name": "stderr"
        }
      ]
    },
    {
      "cell_type": "markdown",
      "metadata": {
        "id": "XMGGFb1ZLRIe",
        "colab_type": "text"
      },
      "source": [
        "Making sure the classes are balanced now."
      ]
    },
    {
      "cell_type": "code",
      "metadata": {
        "id": "pn8MxTSmKGq8",
        "colab_type": "code",
        "outputId": "2bf9f23d-1dbb-4f4e-a66e-1b1815a2469a",
        "colab": {
          "base_uri": "https://localhost:8080/",
          "height": 52
        }
      },
      "source": [
        "from collections import Counter\n",
        "print('before:', sorted(Counter(y).items())[:5])\n",
        "print('after:', sorted(Counter(y_res).items())[:5])"
      ],
      "execution_count": 31,
      "outputs": [
        {
          "output_type": "stream",
          "text": [
            "before: [(0, 250), (1, 31), (2, 15), (3, 36), (4, 28)]\n",
            "after: [(0, 179), (1, 179), (2, 179), (3, 179), (4, 179)]\n"
          ],
          "name": "stdout"
        }
      ]
    },
    {
      "cell_type": "markdown",
      "metadata": {
        "id": "s203QMjXFuzo",
        "colab_type": "text"
      },
      "source": [
        "Perform SVC gridsearch to see how well the model can classify jobs based on job descriptions."
      ]
    },
    {
      "cell_type": "code",
      "metadata": {
        "id": "rY6n8tSPKJQM",
        "colab_type": "code",
        "outputId": "0a0057be-5a9f-441e-b18c-87537ae35a69",
        "colab": {
          "base_uri": "https://localhost:8080/",
          "height": 34
        }
      },
      "source": [
        "from sklearn.model_selection import GridSearchCV\n",
        "from sklearn.svm import SVC\n",
        "SVC_model = SVC()\n",
        "param_range = np.logspace(-1, 2, 4)\n",
        "param_grid = [\n",
        "              {'C':param_range,\n",
        "               'gamma':param_range}\n",
        "]\n",
        "gs = GridSearchCV(estimator = SVC_model,\n",
        "                  param_grid = param_grid,\n",
        "                  scoring = 'accuracy',\n",
        "                  cv = 3,\n",
        "                  n_jobs = -1)\n",
        "gs = gs.fit(X_res, y_res)\n",
        "print(gs.best_params_)\n"
      ],
      "execution_count": 32,
      "outputs": [
        {
          "output_type": "stream",
          "text": [
            "{'C': 10.0, 'gamma': 1.0}\n"
          ],
          "name": "stdout"
        }
      ]
    },
    {
      "cell_type": "code",
      "metadata": {
        "id": "6Y_xiBhmKJUn",
        "colab_type": "code",
        "colab": {}
      },
      "source": [
        "clf_optimized = SVC(C = 10, gamma = 1, probability = True)"
      ],
      "execution_count": 0,
      "outputs": []
    },
    {
      "cell_type": "code",
      "metadata": {
        "id": "3mQj0SF1TQjD",
        "colab_type": "code",
        "outputId": "9bb43e33-2a52-4382-e657-d4f1ad726c58",
        "colab": {
          "base_uri": "https://localhost:8080/",
          "height": 34
        }
      },
      "source": [
        "clf_optimized.fit(X_res, y_res)\n",
        "print(\"The accuracy score of the optimized SVC model is: \", clf_optimized.score(X_test, y_test))"
      ],
      "execution_count": 34,
      "outputs": [
        {
          "output_type": "stream",
          "text": [
            "The accuracy score of the optimized SVC model is:  0.8820598006644518\n"
          ],
          "name": "stdout"
        }
      ]
    },
    {
      "cell_type": "code",
      "metadata": {
        "id": "jowBfa_OTjO3",
        "colab_type": "code",
        "colab": {}
      },
      "source": [
        "y_prediction = clf_optimized.predict(X_test)"
      ],
      "execution_count": 0,
      "outputs": []
    },
    {
      "cell_type": "markdown",
      "metadata": {
        "id": "W8Wjm49KUkqQ",
        "colab_type": "text"
      },
      "source": [
        "Since I have balanced the data, accuracy score should be sufficient to see how good the model is but I included other metrics just in case."
      ]
    },
    {
      "cell_type": "code",
      "metadata": {
        "id": "BVNcBFEdTavN",
        "colab_type": "code",
        "outputId": "834f2e2e-80a7-4655-dcaf-e8f0ca3281a8",
        "colab": {
          "base_uri": "https://localhost:8080/",
          "height": 70
        }
      },
      "source": [
        "from sklearn.metrics import recall_score, precision_score, f1_score\n",
        "print(\"Recall score: \", recall_score(y_prediction, y_test, average = 'macro'))\n",
        "print(\"Precision score: \", precision_score(y_prediction, y_test, average = 'macro'))\n",
        "print(\"F1 score: \", f1_score(y_prediction, y_test, average = 'macro'))"
      ],
      "execution_count": 36,
      "outputs": [
        {
          "output_type": "stream",
          "text": [
            "Recall score:  0.8920878160330872\n",
            "Precision score:  0.8497426992188757\n",
            "F1 score:  0.8612167918975658\n"
          ],
          "name": "stdout"
        }
      ]
    },
    {
      "cell_type": "markdown",
      "metadata": {
        "id": "YoPgdQ8eT_nF",
        "colab_type": "text"
      },
      "source": [
        "The job prediction based on job description is 89% accurate. It's pretty good so I can use this model to classify the jobs using description. Note that the model was only trained on the jobs in the job title list. For jobs that are not similar to the ones in the list, the model is not expected to perform well. As a result, I used the model that can predict with > 60% probability to classify a job into one of the classes as the true label. Otherwise, I will just leave those out."
      ]
    },
    {
      "cell_type": "code",
      "metadata": {
        "id": "bJ_LbIY7K2E3",
        "colab_type": "code",
        "colab": {}
      },
      "source": [
        "from sklearn.metrics import confusion_matrix\n",
        "import matplotlib.pyplot as plt\n",
        "cm = confusion_matrix(y_test, y_prediction)\n",
        "cm = cm.astype('float')/cm.sum(axis=1)[:, np.newaxis]"
      ],
      "execution_count": 0,
      "outputs": []
    },
    {
      "cell_type": "markdown",
      "metadata": {
        "id": "MMgBqA0lLQGr",
        "colab_type": "text"
      },
      "source": [
        "Getting the id of the jobs that get confused easily (high misclassification rate)"
      ]
    },
    {
      "cell_type": "code",
      "metadata": {
        "id": "8NTYfhiOK9WF",
        "colab_type": "code",
        "outputId": "f69ba017-82f7-4d60-96a8-4f77b737f932",
        "colab": {
          "base_uri": "https://localhost:8080/",
          "height": 52
        }
      },
      "source": [
        "cm_len = len(cm) \n",
        "for i in range(cm_len):\n",
        "  for j in range(cm_len):\n",
        "    if cm[i,j] >= 0.3 and i != j: \n",
        "      print(i,j)"
      ],
      "execution_count": 40,
      "outputs": [
        {
          "output_type": "stream",
          "text": [
            "10 27\n",
            "28 27\n"
          ],
          "name": "stdout"
        }
      ]
    },
    {
      "cell_type": "code",
      "metadata": {
        "id": "1vpk0dtbK2JE",
        "colab_type": "code",
        "outputId": "74ccb18f-c534-4693-bb0f-19cc17191b7d",
        "colab": {
          "base_uri": "https://localhost:8080/",
          "height": 34
        }
      },
      "source": [
        "le.inverse_transform([10,27, 28])"
      ],
      "execution_count": 41,
      "outputs": [
        {
          "output_type": "execute_result",
          "data": {
            "text/plain": [
              "array(['general manager', 'sales manager', 'salesperson'], dtype=object)"
            ]
          },
          "metadata": {
            "tags": []
          },
          "execution_count": 41
        }
      ]
    },
    {
      "cell_type": "code",
      "metadata": {
        "id": "rLlwCd4jL3CS",
        "colab_type": "code",
        "colab": {}
      },
      "source": [
        "classes = le.inverse_transform(range(cm_len))"
      ],
      "execution_count": 0,
      "outputs": []
    },
    {
      "cell_type": "markdown",
      "metadata": {
        "id": "2SPWsdLIMFUy",
        "colab_type": "text"
      },
      "source": [
        "Plotting the confusion matrix on all 34 categories I trained. General manager, sales manager and salesperson get confused the most by my model."
      ]
    },
    {
      "cell_type": "code",
      "metadata": {
        "id": "KiNaqHQNLvuq",
        "colab_type": "code",
        "outputId": "26693183-5b3d-4f7f-8602-cd2d14d38948",
        "colab": {
          "base_uri": "https://localhost:8080/",
          "height": 1000
        }
      },
      "source": [
        "import matplotlib.pyplot as plt\n",
        "\n",
        "plt.figure(figsize=(20,20))\n",
        "plt.imshow(cm, interpolation='nearest', cmap = 'Greens')\n",
        "tick_marks = np.arange(len(classes))\n",
        "plt.xticks(tick_marks, classes, rotation = 90)\n",
        "plt.yticks(tick_marks, classes)\n",
        "plt.rcParams.update({'font.size': 20})"
      ],
      "execution_count": 44,
      "outputs": [
        {
          "output_type": "display_data",
          "data": {
            "image/png": "[encoded data removed]",
            "text/plain": [
              "<Figure size 1440x1440 with 1 Axes>"
            ]
          },
          "metadata": {
            "tags": []
          }
        }
      ]
    },
    {
      "cell_type": "markdown",
      "metadata": {
        "id": "af7ptJKQIURP",
        "colab_type": "text"
      },
      "source": [
        "Creating a new output table.\n",
        "Giving each job a standard title if the probability is > 60% and then save these rows for a new table."
      ]
    },
    {
      "cell_type": "code",
      "metadata": {
        "id": "7RlBNxX9YGMo",
        "colab_type": "code",
        "colab": {}
      },
      "source": [
        "above_60_index = combined_df['official job'][len_for_training:][clf_optimized.predict_proba(combined_X[len_for_training:]).max(axis = 1) > 0.6].index"
      ],
      "execution_count": 0,
      "outputs": []
    },
    {
      "cell_type": "code",
      "metadata": {
        "id": "PTVpoCXhUbCK",
        "colab_type": "code",
        "colab": {}
      },
      "source": [
        "prediction = le.inverse_transform(clf_optimized.predict(combined_X[len_for_training:]))[above_60_index-len_for_training]\n",
        "various_title = combined_df['various job'][above_60_index].values\n",
        "job_description = combined_df['JobDescription'][above_60_index].values"
      ],
      "execution_count": 0,
      "outputs": []
    },
    {
      "cell_type": "code",
      "metadata": {
        "id": "8oDbAnYwTzaF",
        "colab_type": "code",
        "colab": {}
      },
      "source": [
        "title_output_df = pd.DataFrame(columns = ['various job', 'official job','JobDescription'])\n",
        "title_output_df['various job'] = various_title\n",
        "title_output_df['official job'] = prediction\n",
        "title_output_df['JobDescription'] = job_description"
      ],
      "execution_count": 0,
      "outputs": []
    },
    {
      "cell_type": "code",
      "metadata": {
        "id": "ZaTRrZ8QWwq8",
        "colab_type": "code",
        "outputId": "13c39c9f-17f8-4e67-d6dd-57728d65744d",
        "colab": {
          "base_uri": "https://localhost:8080/",
          "height": 227
        }
      },
      "source": [
        "title_output_df[title_output_df.duplicated(['various job'])][:6]"
      ],
      "execution_count": 48,
      "outputs": [
        {
          "output_type": "execute_result",
          "data": {
            "text/html": [
              "<div>\n",
              "<style scoped>\n",
              "    .dataframe tbody tr th:only-of-type {\n",
              "        vertical-align: middle;\n",
              "    }\n",
              "\n",
              "    .dataframe tbody tr th {\n",
              "        vertical-align: top;\n",
              "    }\n",
              "\n",
              "    .dataframe thead th {\n",
              "        text-align: right;\n",
              "    }\n",
              "</style>\n",
              "<table border=\"1\" class=\"dataframe\">\n",
              "  <thead>\n",
              "    <tr style=\"text-align: right;\">\n",
              "      <th></th>\n",
              "      <th>various job</th>\n",
              "      <th>official job</th>\n",
              "      <th>JobDescription</th>\n",
              "    </tr>\n",
              "  </thead>\n",
              "  <tbody>\n",
              "    <tr>\n",
              "      <th>17</th>\n",
              "      <td>.net c#/ c++ software developer</td>\n",
              "      <td>software developer</td>\n",
              "      <td>altacode ltd looking highly qualified motivate...</td>\n",
              "    </tr>\n",
              "    <tr>\n",
              "      <th>18</th>\n",
              "      <td>.net c#/ c++ software developer</td>\n",
              "      <td>software developer</td>\n",
              "      <td>altacode ltd looking highly qualified motivate...</td>\n",
              "    </tr>\n",
              "    <tr>\n",
              "      <th>19</th>\n",
              "      <td>.net c#/ c++ software developer</td>\n",
              "      <td>software developer</td>\n",
              "      <td>altacode ltd looking highly qualified motivate...</td>\n",
              "    </tr>\n",
              "    <tr>\n",
              "      <th>21</th>\n",
              "      <td>.net developer</td>\n",
              "      <td>software developer</td>\n",
              "      <td>synergy international systems inc armenia seek...</td>\n",
              "    </tr>\n",
              "    <tr>\n",
              "      <th>22</th>\n",
              "      <td>.net developer</td>\n",
              "      <td>java developer</td>\n",
              "      <td>responsibilities position focused software dev...</td>\n",
              "    </tr>\n",
              "    <tr>\n",
              "      <th>23</th>\n",
              "      <td>.net developer</td>\n",
              "      <td>web developer</td>\n",
              "      <td>net developer incumbent help build company nex...</td>\n",
              "    </tr>\n",
              "  </tbody>\n",
              "</table>\n",
              "</div>"
            ],
            "text/plain": [
              "                        various job  ...                                     JobDescription\n",
              "17  .net c#/ c++ software developer  ...  altacode ltd looking highly qualified motivate...\n",
              "18  .net c#/ c++ software developer  ...  altacode ltd looking highly qualified motivate...\n",
              "19  .net c#/ c++ software developer  ...  altacode ltd looking highly qualified motivate...\n",
              "21                   .net developer  ...  synergy international systems inc armenia seek...\n",
              "22                   .net developer  ...  responsibilities position focused software dev...\n",
              "23                   .net developer  ...  net developer incumbent help build company nex...\n",
              "\n",
              "[6 rows x 3 columns]"
            ]
          },
          "metadata": {
            "tags": []
          },
          "execution_count": 48
        }
      ]
    },
    {
      "cell_type": "markdown",
      "metadata": {
        "id": "3u9kCYDQX5qM",
        "colab_type": "text"
      },
      "source": [
        "It is not useful to have actual titles that are duplicated so I will drop them."
      ]
    },
    {
      "cell_type": "code",
      "metadata": {
        "id": "F0UDbNrvTzeD",
        "colab_type": "code",
        "colab": {}
      },
      "source": [
        "title_output_df = title_output_df.drop_duplicates(subset = ['various job'])"
      ],
      "execution_count": 0,
      "outputs": []
    },
    {
      "cell_type": "code",
      "metadata": {
        "id": "C4qtnAYmTziR",
        "colab_type": "code",
        "outputId": "208070cc-08c6-451c-a52d-3d009d6e4bd8",
        "colab": {
          "base_uri": "https://localhost:8080/",
          "height": 34
        }
      },
      "source": [
        "len(title_output_df)"
      ],
      "execution_count": 50,
      "outputs": [
        {
          "output_type": "execute_result",
          "data": {
            "text/plain": [
              "1815"
            ]
          },
          "metadata": {
            "tags": []
          },
          "execution_count": 50
        }
      ]
    },
    {
      "cell_type": "markdown",
      "metadata": {
        "id": "SoDNuljjaCKg",
        "colab_type": "text"
      },
      "source": [
        "Validate the data that I've given labels to (didn't have 'official job' before) and see how robust the classification did. "
      ]
    },
    {
      "cell_type": "code",
      "metadata": {
        "id": "nSXQ8qDemySX",
        "colab_type": "code",
        "colab": {}
      },
      "source": [
        "new_y_pred = clf_optimized.predict(combined_X[len_for_training:])"
      ],
      "execution_count": 0,
      "outputs": []
    },
    {
      "cell_type": "code",
      "metadata": {
        "id": "RhV-3wAsZ9Nb",
        "colab_type": "code",
        "outputId": "56b50fdf-5c31-44b6-e85b-f7da9d920047",
        "colab": {
          "base_uri": "https://localhost:8080/",
          "height": 34
        }
      },
      "source": [
        "clf_optimized.score(combined_X[len_for_training:], new_y_pred) #100% accuracy"
      ],
      "execution_count": 52,
      "outputs": [
        {
          "output_type": "execute_result",
          "data": {
            "text/plain": [
              "1.0"
            ]
          },
          "metadata": {
            "tags": []
          },
          "execution_count": 52
        }
      ]
    },
    {
      "cell_type": "code",
      "metadata": {
        "id": "IWcinhRMWwHM",
        "colab_type": "code",
        "colab": {}
      },
      "source": [
        "title_output_df.to_csv('title_output_Feb_5.txt', sep = '\\t', index = False)"
      ],
      "execution_count": 0,
      "outputs": []
    },
    {
      "cell_type": "code",
      "metadata": {
        "id": "kgFU4dgVnHge",
        "colab_type": "code",
        "colab": {}
      },
      "source": [
        "files.download('title_output_Feb_5.txt')"
      ],
      "execution_count": 0,
      "outputs": []
    }
  ]
}
