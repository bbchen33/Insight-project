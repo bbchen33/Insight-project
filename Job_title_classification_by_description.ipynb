{
  "nbformat": 4,
  "nbformat_minor": 0,
  "metadata": {
    "colab": {
      "name": "Copy of shortlist_jobtitle_data5.ipynb",
      "provenance": [],
      "collapsed_sections": [],
      "authorship_tag": "ABX9TyPUtcZFdg2OK80lffuObQct",
      "include_colab_link": true
    },
    "kernelspec": {
      "name": "python3",
      "display_name": "Python 3"
    },
    "accelerator": "GPU"
  },
  "cells": [
    {
      "cell_type": "markdown",
      "metadata": {
        "id": "view-in-github",
        "colab_type": "text"
      },
      "source": [
        "<a href=\"https://colab.research.google.com/github/bbchen33/Insight-project/blob/master/Job_title_classification_by_description\" target=\"_parent\"><img src=\"https://colab.research.google.com/assets/colab-badge.svg\" alt=\"Open In Colab\"/></a>"
      ]
    },
    {
      "cell_type": "markdown",
      "metadata": {
        "id": "YYVdX4er9iuV",
        "colab_type": "text"
      },
      "source": [
        "# Use job description/skills to cluster job titles"
      ]
    },
    {
      "cell_type": "markdown",
      "metadata": {
        "id": "6SU9zdWh63Wj",
        "colab_type": "text"
      },
      "source": [
        "Original dataset is from Kaggle https://www.kaggle.com/madhab/jobposts."
      ]
    },
    {
      "cell_type": "code",
      "metadata": {
        "id": "oZkzNe0a9JBY",
        "colab_type": "code",
        "colab": {}
      },
      "source": [
        "import pandas as pd\n",
        "job_posts_labeled = pd.read_csv('job_posts_labeled_all_labeled.txt', sep = '\\t')"
      ],
      "execution_count": 0,
      "outputs": []
    },
    {
      "cell_type": "code",
      "metadata": {
        "id": "ivL0f7VFBOTX",
        "colab_type": "code",
        "colab": {}
      },
      "source": [
        "job_posts_labeled = job_posts_labeled.dropna(subset=['various job'])"
      ],
      "execution_count": 0,
      "outputs": []
    },
    {
      "cell_type": "markdown",
      "metadata": {
        "id": "1rsV8Lb59Tk3",
        "colab_type": "text"
      },
      "source": [
        "The official job titles are the ones in job_titles (either handlabled or just have the exactly same job titles). The 'various job' column is a list of possible job titles associated with the 'official job'."
      ]
    },
    {
      "cell_type": "code",
      "metadata": {
        "id": "eO9gQfmCC3Te",
        "colab_type": "code",
        "outputId": "a02c99bd-aeb7-4ea5-b45f-3e493fddf324",
        "colab": {
          "base_uri": "https://localhost:8080/",
          "height": 197
        }
      },
      "source": [
        "job_posts_labeled[job_posts_labeled['official job']!= job_posts_labeled['various job']][:5]"
      ],
      "execution_count": 0,
      "outputs": [
        {
          "output_type": "execute_result",
          "data": {
            "text/html": [
              "<div>\n",
              "<style scoped>\n",
              "    .dataframe tbody tr th:only-of-type {\n",
              "        vertical-align: middle;\n",
              "    }\n",
              "\n",
              "    .dataframe tbody tr th {\n",
              "        vertical-align: top;\n",
              "    }\n",
              "\n",
              "    .dataframe thead th {\n",
              "        text-align: right;\n",
              "    }\n",
              "</style>\n",
              "<table border=\"1\" class=\"dataframe\">\n",
              "  <thead>\n",
              "    <tr style=\"text-align: right;\">\n",
              "      <th></th>\n",
              "      <th>various job</th>\n",
              "      <th>official job</th>\n",
              "      <th>Company</th>\n",
              "      <th>JobDescription</th>\n",
              "      <th>JobRequirment</th>\n",
              "      <th>RequiredQual</th>\n",
              "    </tr>\n",
              "  </thead>\n",
              "  <tbody>\n",
              "    <tr>\n",
              "      <th>1</th>\n",
              "      <td>News Editor</td>\n",
              "      <td>Editor</td>\n",
              "      <td>BlogNews.am</td>\n",
              "      <td>BlogNews.am is looking for a News Editor. He/ ...</td>\n",
              "      <td>NaN</td>\n",
              "      <td>- At least Bachelor's degree in Journalism or ...</td>\n",
              "    </tr>\n",
              "    <tr>\n",
              "      <th>2</th>\n",
              "      <td>HR Assistant</td>\n",
              "      <td>HR specialist</td>\n",
              "      <td>Career Center</td>\n",
              "      <td>We have a new opening for the position of HR A...</td>\n",
              "      <td>Main duties include but are not limited to the...</td>\n",
              "      <td>- Relevant graduate degree;\\r\\n- Fluent writte...</td>\n",
              "    </tr>\n",
              "    <tr>\n",
              "      <th>3</th>\n",
              "      <td>HR Assistant</td>\n",
              "      <td>HR specialist</td>\n",
              "      <td>Career Center</td>\n",
              "      <td>We have a new opening for the position of HR A...</td>\n",
              "      <td>Main duties include but are not limited to the...</td>\n",
              "      <td>- Relevant graduate degree;\\r\\n- Fluent writte...</td>\n",
              "    </tr>\n",
              "    <tr>\n",
              "      <th>4</th>\n",
              "      <td>HR Assistant</td>\n",
              "      <td>HR specialist</td>\n",
              "      <td>Career Center</td>\n",
              "      <td>We have a new opening for the position of HR A...</td>\n",
              "      <td>Main duties include but are not limited to the...</td>\n",
              "      <td>- Relevant graduate degree;\\r\\n- Fluent writte...</td>\n",
              "    </tr>\n",
              "    <tr>\n",
              "      <th>5</th>\n",
              "      <td>HR Coordinator</td>\n",
              "      <td>HR specialist</td>\n",
              "      <td>AtTask</td>\n",
              "      <td>AtTask has an opening for an HR Coordinator in...</td>\n",
              "      <td>- Assist US based Human Resource Team with bas...</td>\n",
              "      <td>- University degree in related field;\\r\\n- At ...</td>\n",
              "    </tr>\n",
              "  </tbody>\n",
              "</table>\n",
              "</div>"
            ],
            "text/plain": [
              "      various job  ...                                       RequiredQual\n",
              "1     News Editor  ...  - At least Bachelor's degree in Journalism or ...\n",
              "2    HR Assistant  ...  - Relevant graduate degree;\\r\\n- Fluent writte...\n",
              "3    HR Assistant  ...  - Relevant graduate degree;\\r\\n- Fluent writte...\n",
              "4    HR Assistant  ...  - Relevant graduate degree;\\r\\n- Fluent writte...\n",
              "5  HR Coordinator  ...  - University degree in related field;\\r\\n- At ...\n",
              "\n",
              "[5 rows x 6 columns]"
            ]
          },
          "metadata": {
            "tags": []
          },
          "execution_count": 6
        }
      ]
    },
    {
      "cell_type": "code",
      "metadata": {
        "id": "Zp8U-BghDuKu",
        "colab_type": "code",
        "colab": {}
      },
      "source": [
        "job_posts_features = job_posts_labeled[['various job','official job','JobDescription']]"
      ],
      "execution_count": 0,
      "outputs": []
    },
    {
      "cell_type": "markdown",
      "metadata": {
        "id": "k4g9FwNOFX3u",
        "colab_type": "text"
      },
      "source": [
        "Below is a list of job titles I found to be more abundant in the data I am working with so I will use them as the labels to categorize the rest of the job titles. Original dataset is from Kaggle https://www.kaggle.com/madhab/jobposts."
      ]
    },
    {
      "cell_type": "code",
      "metadata": {
        "id": "7ZoerJ7CRRBI",
        "colab_type": "code",
        "colab": {}
      },
      "source": [
        "job_titles = 'accountant, bartender, chef, chief financial officer, civil engineer, editor, research assistant, marketing specialist, salesperson, software developer, software engineer, data scientist, volunteer, lawyer, graphic designer, ceo, it specialist, project manager, product manager, technical writer, journalist, medical doctor, pharmacist, translator, qa engineer, receptionist/ administrative assistant, recruiter, hr specialist, secretary, java developer, web developer, foreign language teacher, tour guide, president, mechanical engineer, electrical engineer, driver, professor, copywriter, intern, financial analyst, general manager, procurement specialist, sales manager, insurance agent, medical representative, credit officer, database developer, deputy manager, real estate agent, data entry clerk, ai engineer'"
      ],
      "execution_count": 0,
      "outputs": []
    },
    {
      "cell_type": "code",
      "metadata": {
        "id": "pi-0m5wsFgmF",
        "colab_type": "code",
        "outputId": "88b2de32-95b4-44a2-c39a-2f743bdb42a9",
        "colab": {
          "base_uri": "https://localhost:8080/",
          "height": 34
        }
      },
      "source": [
        "job_titles = job_titles.split(', ')\n",
        "len(job_titles)"
      ],
      "execution_count": 0,
      "outputs": [
        {
          "output_type": "execute_result",
          "data": {
            "text/plain": [
              "52"
            ]
          },
          "metadata": {
            "tags": []
          },
          "execution_count": 11
        }
      ]
    },
    {
      "cell_type": "code",
      "metadata": {
        "id": "IRLgmF6FsOAY",
        "colab_type": "code",
        "colab": {}
      },
      "source": [
        "job_posts_features['official job'] = job_posts_features['official job'].str.lower()\n",
        "job_posts_features['various job'] = job_posts_features['various job'].str.lower()"
      ],
      "execution_count": 0,
      "outputs": []
    },
    {
      "cell_type": "code",
      "metadata": {
        "id": "w_mKvbQeEAzY",
        "colab_type": "code",
        "colab": {}
      },
      "source": [
        "index_list = []\n",
        "for job in job_titles:\n",
        "  job_index = job_posts_features[job_posts_features['official job'] == job].index\n",
        "  if len(job_index) >= 15:\n",
        "    index_list.append(job_index)"
      ],
      "execution_count": 0,
      "outputs": []
    },
    {
      "cell_type": "markdown",
      "metadata": {
        "id": "n25lEd9d2PaO",
        "colab_type": "text"
      },
      "source": [
        "Only 34 out of 52 job titles occur greater or equal to 15 times in this dataframe."
      ]
    },
    {
      "cell_type": "code",
      "metadata": {
        "id": "CYxfE6M_skWw",
        "colab_type": "code",
        "outputId": "d72f4ec5-6380-48ef-8eb0-62f3e8bb8ef9",
        "colab": {
          "base_uri": "https://localhost:8080/",
          "height": 34
        }
      },
      "source": [
        "len(index_list)"
      ],
      "execution_count": 0,
      "outputs": [
        {
          "output_type": "execute_result",
          "data": {
            "text/plain": [
              "34"
            ]
          },
          "metadata": {
            "tags": []
          },
          "execution_count": 72
        }
      ]
    },
    {
      "cell_type": "code",
      "metadata": {
        "id": "ihf6PZl2F1Ib",
        "colab_type": "code",
        "colab": {}
      },
      "source": [
        "import numpy as np\n",
        "index_combined = np.concatenate(index_list)"
      ],
      "execution_count": 0,
      "outputs": []
    },
    {
      "cell_type": "code",
      "metadata": {
        "id": "RwoQM95Qs-AB",
        "colab_type": "code",
        "outputId": "807608a7-2bf5-4370-9983-a76a00991595",
        "colab": {
          "base_uri": "https://localhost:8080/",
          "height": 34
        }
      },
      "source": [
        "len(index_combined)"
      ],
      "execution_count": 0,
      "outputs": [
        {
          "output_type": "execute_result",
          "data": {
            "text/plain": [
              "2025"
            ]
          },
          "metadata": {
            "tags": []
          },
          "execution_count": 74
        }
      ]
    },
    {
      "cell_type": "markdown",
      "metadata": {
        "id": "H2WZ2qfWstjn",
        "colab_type": "text"
      },
      "source": [
        "These jobs have titles identical to the ones I handlabeled (a total of 2111 jobs) so I can use job description as the feature and job titles as the label for training."
      ]
    },
    {
      "cell_type": "markdown",
      "metadata": {
        "id": "-fgJdjiJF8v4",
        "colab_type": "text"
      },
      "source": [
        "I called the ones with exactly the same labels as the handlabeled titles \"labeled_df\" while the rest as \"unlabeled_df\"."
      ]
    },
    {
      "cell_type": "code",
      "metadata": {
        "id": "4UlWNUhR92OG",
        "colab_type": "code",
        "colab": {}
      },
      "source": [
        "labeled_df = job_posts_features[['various job','official job', 'JobDescription']]\n",
        "labeled_df = labeled_df.iloc[index_combined]\n",
        "labeled_df = labeled_df.reset_index(drop = True)"
      ],
      "execution_count": 0,
      "outputs": []
    },
    {
      "cell_type": "code",
      "metadata": {
        "id": "kgu3_ttj-QvK",
        "colab_type": "code",
        "colab": {}
      },
      "source": [
        "unlabeled_df = job_posts_features[['various job','official job', 'JobDescription']]\n",
        "unlabeled_df = unlabeled_df[~unlabeled_df.index.isin(index_combined)]\n",
        "unlabeled_df = unlabeled_df.reset_index(drop = True)"
      ],
      "execution_count": 0,
      "outputs": []
    },
    {
      "cell_type": "code",
      "metadata": {
        "id": "NFjYO6n8ARDn",
        "colab_type": "code",
        "colab": {}
      },
      "source": [
        "combined_df = pd.concat([labeled_df, unlabeled_df], axis = 0)"
      ],
      "execution_count": 0,
      "outputs": []
    },
    {
      "cell_type": "code",
      "metadata": {
        "id": "8K300cwftlZa",
        "colab_type": "code",
        "colab": {}
      },
      "source": [
        "combined_df = combined_df.reset_index(drop = True)"
      ],
      "execution_count": 0,
      "outputs": []
    },
    {
      "cell_type": "markdown",
      "metadata": {
        "id": "ryMJ7_DYtphk",
        "colab_type": "text"
      },
      "source": [
        "Cleaning the job description with text processing."
      ]
    },
    {
      "cell_type": "code",
      "metadata": {
        "id": "q6B-a3W1Fv4M",
        "colab_type": "code",
        "outputId": "9ca1b9d8-82f1-485d-9cb7-6132ad9fdd77",
        "colab": {
          "base_uri": "https://localhost:8080/",
          "height": 70
        }
      },
      "source": [
        "import nltk\n",
        "nltk.download('stopwords')"
      ],
      "execution_count": 0,
      "outputs": [
        {
          "output_type": "stream",
          "text": [
            "[nltk_data] Downloading package stopwords to /root/nltk_data...\n",
            "[nltk_data]   Unzipping corpora/stopwords.zip.\n"
          ],
          "name": "stdout"
        },
        {
          "output_type": "execute_result",
          "data": {
            "text/plain": [
              "True"
            ]
          },
          "metadata": {
            "tags": []
          },
          "execution_count": 8
        }
      ]
    },
    {
      "cell_type": "code",
      "metadata": {
        "id": "ddf6PyfSFtu8",
        "colab_type": "code",
        "colab": {}
      },
      "source": [
        "from nltk.corpus import stopwords\n",
        "from nltk.stem import SnowballStemmer\n",
        "import re\n",
        "pd.options.mode.chained_assignment = None # Turning off warning\n",
        "def text_processing(text):\n",
        "  stemmer = SnowballStemmer('english')\n",
        "  text = re.sub(r'([0-9]+?)', '', text) \n",
        "  text = re.sub(r'  ', ' ', text)\n",
        "  text = re.sub(r'   ', ' ', text)\n",
        "  text = re.sub(r'(!|\"|#|\\$|%|&|\\'|\\(|\\)|\\*|\\+|,|-|\\.|/|:|;|<|=|>|\\?|@|\\[|\\\\|\\]|\\^|_|`|{|\\||}|~)+', ' ', text)\n",
        "  text = text.lower()\n",
        "  text = stemmer.stem(text)\n",
        "  text = text.strip()\n",
        "  text = [word for word in text.split() if word.lower() not in stopwords.words('english')]\n",
        "  return ' '.join(text)\n",
        "\n",
        "def clean_description(job_description):\n",
        "  job_description = job_description.apply(lambda x:text_processing(x))\n",
        "  return job_description"
      ],
      "execution_count": 0,
      "outputs": []
    },
    {
      "cell_type": "code",
      "metadata": {
        "id": "dRnfWwb7AiRP",
        "colab_type": "code",
        "colab": {}
      },
      "source": [
        "combined_df['JobDescription'] = clean_description(combined_df['JobDescription'])"
      ],
      "execution_count": 0,
      "outputs": []
    },
    {
      "cell_type": "code",
      "metadata": {
        "id": "NyBhfez5A738",
        "colab_type": "code",
        "outputId": "67b8b6f3-39d2-4403-911a-f6d775741298",
        "colab": {
          "base_uri": "https://localhost:8080/",
          "height": 230
        }
      },
      "source": [
        "combined_df['JobDescription']"
      ],
      "execution_count": 0,
      "outputs": [
        {
          "output_type": "execute_result",
          "data": {
            "text/plain": [
              "0        sef international growing universal credit org...\n",
              "1        accountant full time national staff position b...\n",
              "2        armenian forests ngo funding tufenkian foundat...\n",
              "3        qsi international school yerevan seeks candida...\n",
              "4        responsible accountancy financial management c...\n",
              "                               ...                        \n",
              "15085    youth facility educator main care person young...\n",
              "15086    sos childrens villages armenian charity founda...\n",
              "15087    program manager charge work partnership one pr...\n",
              "15088    eu partner projects altacode ltd looking highl...\n",
              "15089    position provide direct technical clinical pro...\n",
              "Name: JobDescription, Length: 15090, dtype: object"
            ]
          },
          "metadata": {
            "tags": []
          },
          "execution_count": 117
        }
      ]
    },
    {
      "cell_type": "markdown",
      "metadata": {
        "id": "d2MU70WuGlwz",
        "colab_type": "text"
      },
      "source": [
        "Using zeugma to embed the texts inside JobDescription."
      ]
    },
    {
      "cell_type": "code",
      "metadata": {
        "id": "K6mv-tt8t96Y",
        "colab_type": "code",
        "outputId": "aed3afb4-6a2d-432d-a937-9976e8b2937b",
        "colab": {
          "base_uri": "https://localhost:8080/",
          "height": 961
        }
      },
      "source": [
        "!pip install zeugma"
      ],
      "execution_count": 0,
      "outputs": [
        {
          "output_type": "stream",
          "text": [
            "Collecting zeugma\n",
            "  Downloading https://files.pythonhosted.org/packages/37/06/987f0c591e4f46fc31446d541d17d63981394f099c455955680dfe7bd980/zeugma-0.46.tar.gz\n",
            "Requirement already satisfied: numpy>=1.13.3 in /usr/local/lib/python3.6/dist-packages (from zeugma) (1.17.5)\n",
            "Requirement already satisfied: Cython>=0.27.3 in /usr/local/lib/python3.6/dist-packages (from zeugma) (0.29.14)\n",
            "Requirement already satisfied: pandas>=0.20.3 in /usr/local/lib/python3.6/dist-packages (from zeugma) (0.25.3)\n",
            "Requirement already satisfied: gensim>=3.5.0 in /usr/local/lib/python3.6/dist-packages (from zeugma) (3.6.0)\n",
            "Requirement already satisfied: scikit_learn>=0.19.1 in /usr/local/lib/python3.6/dist-packages (from zeugma) (0.22.1)\n",
            "Requirement already satisfied: tensorflow>=1.5.0 in /usr/local/lib/python3.6/dist-packages (from zeugma) (1.15.0)\n",
            "Requirement already satisfied: keras>=2.1.3 in /usr/local/lib/python3.6/dist-packages (from zeugma) (2.2.5)\n",
            "Requirement already satisfied: pytz>=2017.2 in /usr/local/lib/python3.6/dist-packages (from pandas>=0.20.3->zeugma) (2018.9)\n",
            "Requirement already satisfied: python-dateutil>=2.6.1 in /usr/local/lib/python3.6/dist-packages (from pandas>=0.20.3->zeugma) (2.6.1)\n",
            "Requirement already satisfied: six>=1.5.0 in /usr/local/lib/python3.6/dist-packages (from gensim>=3.5.0->zeugma) (1.12.0)\n",
            "Requirement already satisfied: scipy>=0.18.1 in /usr/local/lib/python3.6/dist-packages (from gensim>=3.5.0->zeugma) (1.4.1)\n",
            "Requirement already satisfied: smart-open>=1.2.1 in /usr/local/lib/python3.6/dist-packages (from gensim>=3.5.0->zeugma) (1.9.0)\n",
            "Requirement already satisfied: joblib>=0.11 in /usr/local/lib/python3.6/dist-packages (from scikit_learn>=0.19.1->zeugma) (0.14.1)\n",
            "Requirement already satisfied: opt-einsum>=2.3.2 in /usr/local/lib/python3.6/dist-packages (from tensorflow>=1.5.0->zeugma) (3.1.0)\n",
            "Requirement already satisfied: protobuf>=3.6.1 in /usr/local/lib/python3.6/dist-packages (from tensorflow>=1.5.0->zeugma) (3.10.0)\n",
            "Requirement already satisfied: termcolor>=1.1.0 in /usr/local/lib/python3.6/dist-packages (from tensorflow>=1.5.0->zeugma) (1.1.0)\n",
            "Requirement already satisfied: tensorflow-estimator==1.15.1 in /usr/local/lib/python3.6/dist-packages (from tensorflow>=1.5.0->zeugma) (1.15.1)\n",
            "Requirement already satisfied: keras-preprocessing>=1.0.5 in /usr/local/lib/python3.6/dist-packages (from tensorflow>=1.5.0->zeugma) (1.1.0)\n",
            "Requirement already satisfied: astor>=0.6.0 in /usr/local/lib/python3.6/dist-packages (from tensorflow>=1.5.0->zeugma) (0.8.1)\n",
            "Requirement already satisfied: keras-applications>=1.0.8 in /usr/local/lib/python3.6/dist-packages (from tensorflow>=1.5.0->zeugma) (1.0.8)\n",
            "Requirement already satisfied: wrapt>=1.11.1 in /usr/local/lib/python3.6/dist-packages (from tensorflow>=1.5.0->zeugma) (1.11.2)\n",
            "Requirement already satisfied: wheel>=0.26 in /usr/local/lib/python3.6/dist-packages (from tensorflow>=1.5.0->zeugma) (0.33.6)\n",
            "Requirement already satisfied: grpcio>=1.8.6 in /usr/local/lib/python3.6/dist-packages (from tensorflow>=1.5.0->zeugma) (1.15.0)\n",
            "Requirement already satisfied: tensorboard<1.16.0,>=1.15.0 in /usr/local/lib/python3.6/dist-packages (from tensorflow>=1.5.0->zeugma) (1.15.0)\n",
            "Requirement already satisfied: google-pasta>=0.1.6 in /usr/local/lib/python3.6/dist-packages (from tensorflow>=1.5.0->zeugma) (0.1.8)\n",
            "Requirement already satisfied: gast==0.2.2 in /usr/local/lib/python3.6/dist-packages (from tensorflow>=1.5.0->zeugma) (0.2.2)\n",
            "Requirement already satisfied: absl-py>=0.7.0 in /usr/local/lib/python3.6/dist-packages (from tensorflow>=1.5.0->zeugma) (0.9.0)\n",
            "Requirement already satisfied: h5py in /usr/local/lib/python3.6/dist-packages (from keras>=2.1.3->zeugma) (2.8.0)\n",
            "Requirement already satisfied: pyyaml in /usr/local/lib/python3.6/dist-packages (from keras>=2.1.3->zeugma) (3.13)\n",
            "Requirement already satisfied: requests in /usr/local/lib/python3.6/dist-packages (from smart-open>=1.2.1->gensim>=3.5.0->zeugma) (2.21.0)\n",
            "Requirement already satisfied: boto>=2.32 in /usr/local/lib/python3.6/dist-packages (from smart-open>=1.2.1->gensim>=3.5.0->zeugma) (2.49.0)\n",
            "Requirement already satisfied: boto3 in /usr/local/lib/python3.6/dist-packages (from smart-open>=1.2.1->gensim>=3.5.0->zeugma) (1.10.47)\n",
            "Requirement already satisfied: setuptools in /usr/local/lib/python3.6/dist-packages (from protobuf>=3.6.1->tensorflow>=1.5.0->zeugma) (42.0.2)\n",
            "Requirement already satisfied: werkzeug>=0.11.15 in /usr/local/lib/python3.6/dist-packages (from tensorboard<1.16.0,>=1.15.0->tensorflow>=1.5.0->zeugma) (0.16.0)\n",
            "Requirement already satisfied: markdown>=2.6.8 in /usr/local/lib/python3.6/dist-packages (from tensorboard<1.16.0,>=1.15.0->tensorflow>=1.5.0->zeugma) (3.1.1)\n",
            "Requirement already satisfied: urllib3<1.25,>=1.21.1 in /usr/local/lib/python3.6/dist-packages (from requests->smart-open>=1.2.1->gensim>=3.5.0->zeugma) (1.24.3)\n",
            "Requirement already satisfied: certifi>=2017.4.17 in /usr/local/lib/python3.6/dist-packages (from requests->smart-open>=1.2.1->gensim>=3.5.0->zeugma) (2019.11.28)\n",
            "Requirement already satisfied: chardet<3.1.0,>=3.0.2 in /usr/local/lib/python3.6/dist-packages (from requests->smart-open>=1.2.1->gensim>=3.5.0->zeugma) (3.0.4)\n",
            "Requirement already satisfied: idna<2.9,>=2.5 in /usr/local/lib/python3.6/dist-packages (from requests->smart-open>=1.2.1->gensim>=3.5.0->zeugma) (2.8)\n",
            "Requirement already satisfied: jmespath<1.0.0,>=0.7.1 in /usr/local/lib/python3.6/dist-packages (from boto3->smart-open>=1.2.1->gensim>=3.5.0->zeugma) (0.9.4)\n",
            "Requirement already satisfied: botocore<1.14.0,>=1.13.47 in /usr/local/lib/python3.6/dist-packages (from boto3->smart-open>=1.2.1->gensim>=3.5.0->zeugma) (1.13.47)\n",
            "Requirement already satisfied: s3transfer<0.3.0,>=0.2.0 in /usr/local/lib/python3.6/dist-packages (from boto3->smart-open>=1.2.1->gensim>=3.5.0->zeugma) (0.2.1)\n",
            "Requirement already satisfied: docutils<0.16,>=0.10 in /usr/local/lib/python3.6/dist-packages (from botocore<1.14.0,>=1.13.47->boto3->smart-open>=1.2.1->gensim>=3.5.0->zeugma) (0.15.2)\n",
            "Building wheels for collected packages: zeugma\n",
            "  Building wheel for zeugma (setup.py) ... \u001b[?25l\u001b[?25hdone\n",
            "  Created wheel for zeugma: filename=zeugma-0.46-cp36-none-any.whl size=8611 sha256=fe1e3f5a28fea023166b17c92dd8644dd1fb384813291db39c2d54600f04976a\n",
            "  Stored in directory: /root/.cache/pip/wheels/49/ce/d3/22bc15de9112558b220d9dba3bfcd7d9ad0d8cc4d44d3e7813\n",
            "Successfully built zeugma\n",
            "Installing collected packages: zeugma\n",
            "Successfully installed zeugma-0.46\n"
          ],
          "name": "stdout"
        }
      ]
    },
    {
      "cell_type": "code",
      "metadata": {
        "id": "OHRkTc0J9zWV",
        "colab_type": "code",
        "outputId": "14b547a9-2d32-4671-97db-672c2a5da934",
        "colab": {
          "base_uri": "https://localhost:8080/",
          "height": 72
        }
      },
      "source": [
        "from sklearn.model_selection import train_test_split\n",
        "from sklearn.preprocessing import LabelEncoder\n",
        "from zeugma.embeddings import EmbeddingTransformer\n",
        "from sklearn.feature_extraction.text import TfidfVectorizer\n",
        "vectorizer = TfidfVectorizer('english')\n",
        "\n",
        "training_length = len(labeled_df)\n",
        "\n",
        "transformer = EmbeddingTransformer('word2vec')\n",
        "combined_X = transformer.transform(combined_df['JobDescription'])\n",
        "#combined_X = vectorizer.fit_transform(combined_df['JobDescription'])\n",
        "le = LabelEncoder()\n",
        "y = le.fit_transform(combined_df['official job'][:training_length])\n",
        "X_train, X_test, y_train, y_test = train_test_split(combined_X[:training_length], y, test_size = 0.3)"
      ],
      "execution_count": 0,
      "outputs": [
        {
          "output_type": "stream",
          "text": [
            "/usr/local/lib/python3.6/dist-packages/smart_open/smart_open_lib.py:402: UserWarning: This function is deprecated, use smart_open.open instead. See the migration notes for details: https://github.com/RaRe-Technologies/smart_open/blob/master/README.rst#migrating-to-the-new-open-function\n",
            "  'See the migration notes for details: %s' % _MIGRATION_NOTES_URL\n"
          ],
          "name": "stderr"
        }
      ]
    },
    {
      "cell_type": "code",
      "metadata": {
        "id": "fF5qu6vJBUtl",
        "colab_type": "code",
        "outputId": "14249118-053c-43cf-9cf9-a961fa22e109",
        "colab": {
          "base_uri": "https://localhost:8080/",
          "height": 34
        }
      },
      "source": [
        "from sklearn.svm import SVC\n",
        "clf = SVC(probability = True)\n",
        "clf.fit(X_train, y_train)\n",
        "clf.score(X_test, y_test)"
      ],
      "execution_count": 0,
      "outputs": [
        {
          "output_type": "execute_result",
          "data": {
            "text/plain": [
              "0.837171052631579"
            ]
          },
          "metadata": {
            "tags": []
          },
          "execution_count": 83
        }
      ]
    },
    {
      "cell_type": "code",
      "metadata": {
        "id": "asaSQ9y_8fNq",
        "colab_type": "code",
        "colab": {}
      },
      "source": [
        "y_prediction = clf.predict(X_test)"
      ],
      "execution_count": 0,
      "outputs": []
    },
    {
      "cell_type": "code",
      "metadata": {
        "id": "FoXxmAwQ8A-n",
        "colab_type": "code",
        "colab": {}
      },
      "source": [
        "from sklearn.metrics import confusion_matrix\n",
        "import matplotlib.pyplot as plt\n",
        "cm = confusion_matrix(y_test, y_prediction)"
      ],
      "execution_count": 0,
      "outputs": []
    },
    {
      "cell_type": "code",
      "metadata": {
        "id": "8kqxfR7l9NaF",
        "colab_type": "code",
        "colab": {}
      },
      "source": [
        "cm = cm.astype('float')/cm.sum(axis=1)[:, np.newaxis]"
      ],
      "execution_count": 0,
      "outputs": []
    },
    {
      "cell_type": "code",
      "metadata": {
        "id": "-8ZWDsFgCBfI",
        "colab_type": "code",
        "outputId": "7afca076-838a-43a7-cabb-b3db7675717a",
        "colab": {
          "base_uri": "https://localhost:8080/",
          "height": 52
        }
      },
      "source": [
        "for i in range(34):\n",
        "  for j in range(34):\n",
        "    if cm[i,j] >= 0.5 and i != j:\n",
        "      print(i,j)\n",
        "    "
      ],
      "execution_count": 0,
      "outputs": [
        {
          "output_type": "stream",
          "text": [
            "5 29\n",
            "27 26\n"
          ],
          "name": "stdout"
        }
      ]
    },
    {
      "cell_type": "markdown",
      "metadata": {
        "id": "sVoED9qaELI3",
        "colab_type": "text"
      },
      "source": [
        "The 'database developer' and 'software developer' have similar job descriptions. 'Sales manager' and 'salesperson' have similar job content. "
      ]
    },
    {
      "cell_type": "code",
      "metadata": {
        "id": "gNDr-TfmC6P_",
        "colab_type": "code",
        "outputId": "61590f09-135e-48c0-92cc-0c11af914adc",
        "colab": {
          "base_uri": "https://localhost:8080/",
          "height": 34
        }
      },
      "source": [
        "le.inverse_transform([5,29])"
      ],
      "execution_count": 0,
      "outputs": [
        {
          "output_type": "execute_result",
          "data": {
            "text/plain": [
              "array(['database developer', 'software developer'], dtype=object)"
            ]
          },
          "metadata": {
            "tags": []
          },
          "execution_count": 106
        }
      ]
    },
    {
      "cell_type": "code",
      "metadata": {
        "id": "JNBQEWl4C9vy",
        "colab_type": "code",
        "outputId": "41bd7351-194b-4ef2-fe7c-f00fac9d7869",
        "colab": {
          "base_uri": "https://localhost:8080/",
          "height": 34
        }
      },
      "source": [
        "le.inverse_transform([26,27])"
      ],
      "execution_count": 0,
      "outputs": [
        {
          "output_type": "execute_result",
          "data": {
            "text/plain": [
              "array(['sales manager', 'salesperson'], dtype=object)"
            ]
          },
          "metadata": {
            "tags": []
          },
          "execution_count": 107
        }
      ]
    },
    {
      "cell_type": "code",
      "metadata": {
        "id": "Hmo8ojiNBXtp",
        "colab_type": "code",
        "colab": {}
      },
      "source": [
        "classes = le.inverse_transform(np.arange(34))"
      ],
      "execution_count": 0,
      "outputs": []
    },
    {
      "cell_type": "code",
      "metadata": {
        "id": "ajoFLT5p8qaP",
        "colab_type": "code",
        "outputId": "cf7aa0ed-e86b-4649-83af-e48f7bbe742e",
        "colab": {
          "base_uri": "https://localhost:8080/",
          "height": 1000
        }
      },
      "source": [
        "plt.figure(figsize=(20,20))\n",
        "plt.imshow(cm, interpolation='nearest')\n",
        "tick_marks = np.arange(len(classes))\n",
        "plt.xticks(tick_marks, classes, rotation = 90)\n",
        "plt.yticks(tick_marks, classes)\n",
        "plt.rcParams.update({'font.size': 20})"
      ],
      "execution_count": 0,
      "outputs": [
        {
          "output_type": "display_data",
          "data": {
            "image/png": "[encoded data removed]",
            "text/plain": [
              "<Figure size 1440x1440 with 1 Axes>"
            ]
          },
          "metadata": {
            "tags": []
          }
        }
      ]
    },
    {
      "cell_type": "code",
      "metadata": {
        "id": "lX-1GhL-yA-J",
        "colab_type": "code",
        "outputId": "2ae2a68d-a010-4e6d-ee9d-15a82424dd59",
        "colab": {
          "base_uri": "https://localhost:8080/",
          "height": 70
        }
      },
      "source": [
        "from sklearn.model_selection import GridSearchCV\n",
        "\n",
        "SVC_model = SVC()\n",
        "param_range = np.logspace(-3, 2, 6)\n",
        "param_grid = [\n",
        "              {'C':param_range,\n",
        "                'kernel':['rbf'],\n",
        "                'gamma':param_range}\n",
        "]\n",
        "gs = GridSearchCV(estimator = SVC_model,\n",
        "                  param_grid = param_grid,\n",
        "                  scoring = 'accuracy',\n",
        "                  cv = 2,\n",
        "                  n_jobs = -1)\n",
        "gs = gs.fit(X_train, y_train)\n",
        "print(gs.best_score_)"
      ],
      "execution_count": 0,
      "outputs": [
        {
          "output_type": "stream",
          "text": [
            "/usr/local/lib/python3.6/dist-packages/sklearn/model_selection/_split.py:667: UserWarning: The least populated class in y has only 1 members, which is less than n_splits=2.\n",
            "  % (min_groups, self.n_splits)), UserWarning)\n"
          ],
          "name": "stderr"
        },
        {
          "output_type": "stream",
          "text": [
            "0.8375138893472832\n"
          ],
          "name": "stdout"
        }
      ]
    },
    {
      "cell_type": "markdown",
      "metadata": {
        "id": "5f-85BIMT0lL",
        "colab_type": "text"
      },
      "source": [
        "The job prediction based on job description is 88% accurate. It's pretty good but I'll use only the ones with > 80% probability to get classified into any group by SVC."
      ]
    },
    {
      "cell_type": "code",
      "metadata": {
        "id": "Fjw5uAT4y1Ze",
        "colab_type": "code",
        "colab": {}
      },
      "source": [
        "X_test_good = X_test[clf.predict_proba(X_test).max(axis = 1) > 0.7]\n",
        "y_test_good = y_test[clf.predict_proba(X_test).max(axis = 1) > 0.7]"
      ],
      "execution_count": 0,
      "outputs": []
    },
    {
      "cell_type": "code",
      "metadata": {
        "id": "AKMsP9EB9zbf",
        "colab_type": "code",
        "outputId": "ce23a559-c4e9-4526-a9e1-f207d91e0bb6",
        "colab": {
          "base_uri": "https://localhost:8080/",
          "height": 34
        }
      },
      "source": [
        "clf.score(X_test_good, y_test_good)"
      ],
      "execution_count": 0,
      "outputs": [
        {
          "output_type": "execute_result",
          "data": {
            "text/plain": [
              "0.9820359281437125"
            ]
          },
          "metadata": {
            "tags": []
          },
          "execution_count": 109
        }
      ]
    },
    {
      "cell_type": "code",
      "metadata": {
        "id": "JmrMrSRM9zfC",
        "colab_type": "code",
        "colab": {}
      },
      "source": [
        "above_70_index = combined_df['official job'][training_length:][clf.predict_proba(combined_X[training_length:]).max(axis = 1) > 0.7].index"
      ],
      "execution_count": 0,
      "outputs": []
    },
    {
      "cell_type": "code",
      "metadata": {
        "id": "18IzhHXpCw5u",
        "colab_type": "code",
        "outputId": "0fc31e62-c105-49fd-c874-68f1f29b5abb",
        "colab": {
          "base_uri": "https://localhost:8080/",
          "height": 34
        }
      },
      "source": [
        "len(above_70_index)"
      ],
      "execution_count": 0,
      "outputs": [
        {
          "output_type": "execute_result",
          "data": {
            "text/plain": [
              "1540"
            ]
          },
          "metadata": {
            "tags": []
          },
          "execution_count": 112
        }
      ]
    },
    {
      "cell_type": "code",
      "metadata": {
        "id": "ifqcCmJTxEdu",
        "colab_type": "code",
        "colab": {}
      },
      "source": [
        "title_output_df = pd.DataFrame(columns = ['various job', 'predicted official job','JobDescription'])\n",
        "\n",
        "prediction = le.inverse_transform(clf.predict(combined_X[training_length:]))[above_70_index-training_length]\n",
        "various_title = combined_df['various job'][above_70_index].values\n",
        "job_description = combined_df['JobDescription'][above_70_index].values"
      ],
      "execution_count": 0,
      "outputs": []
    },
    {
      "cell_type": "code",
      "metadata": {
        "id": "tzeiZBEVxUM2",
        "colab_type": "code",
        "colab": {}
      },
      "source": [
        "title_output_df['various job'] = various_title\n",
        "title_output_df['predicted official job'] = prediction\n",
        "title_output_df['JobDescription'] = job_description"
      ],
      "execution_count": 0,
      "outputs": []
    },
    {
      "cell_type": "markdown",
      "metadata": {
        "id": "Z4zK-p5nFkFG",
        "colab_type": "text"
      },
      "source": [
        "Since the classification gets confused with database developer and software developer, let's just re-label database developer as software developer and see if the model can do well. "
      ]
    },
    {
      "cell_type": "code",
      "metadata": {
        "id": "i7Dt71jXFHPt",
        "colab_type": "code",
        "colab": {}
      },
      "source": [
        "dd_index = title_output_df[title_output_df['predicted official job'] == 'database developer'].index"
      ],
      "execution_count": 0,
      "outputs": []
    },
    {
      "cell_type": "code",
      "metadata": {
        "id": "fW2sYcb4FwFf",
        "colab_type": "code",
        "colab": {}
      },
      "source": [
        "title_output_df['predicted official job'][dd_index] = 'software developer'"
      ],
      "execution_count": 0,
      "outputs": []
    },
    {
      "cell_type": "code",
      "metadata": {
        "id": "UF6svdNPF_yW",
        "colab_type": "code",
        "outputId": "7fe7a482-9abe-4e44-8578-5f22088a5310",
        "colab": {
          "base_uri": "https://localhost:8080/",
          "height": 34
        }
      },
      "source": [
        "len(title_output_df[title_output_df['predicted official job'] == 'sales manager'].index)"
      ],
      "execution_count": 0,
      "outputs": [
        {
          "output_type": "execute_result",
          "data": {
            "text/plain": [
              "198"
            ]
          },
          "metadata": {
            "tags": []
          },
          "execution_count": 135
        }
      ]
    },
    {
      "cell_type": "code",
      "metadata": {
        "id": "PYLSNTjzGLJo",
        "colab_type": "code",
        "outputId": "2cd6e178-50aa-475e-a834-45d32e29d5e8",
        "colab": {
          "base_uri": "https://localhost:8080/",
          "height": 34
        }
      },
      "source": [
        "len(title_output_df[title_output_df['predicted official job'] == 'salesperson'].index)"
      ],
      "execution_count": 0,
      "outputs": [
        {
          "output_type": "execute_result",
          "data": {
            "text/plain": [
              "11"
            ]
          },
          "metadata": {
            "tags": []
          },
          "execution_count": 136
        }
      ]
    },
    {
      "cell_type": "code",
      "metadata": {
        "id": "lb4FDsJLF7ky",
        "colab_type": "code",
        "colab": {}
      },
      "source": [
        "sp_index = title_output_df[title_output_df['predicted official job'] == 'salesperson'].index"
      ],
      "execution_count": 0,
      "outputs": []
    },
    {
      "cell_type": "code",
      "metadata": {
        "id": "K8Y-tD-dGTYL",
        "colab_type": "code",
        "colab": {}
      },
      "source": [
        "title_output_df['predicted official job'][sp_index] = 'sales manager'"
      ],
      "execution_count": 0,
      "outputs": []
    },
    {
      "cell_type": "markdown",
      "metadata": {
        "id": "t2LV-yRdEiR5",
        "colab_type": "text"
      },
      "source": [
        "Let's take the entire dataset and test it to see how well the model can perform classification on it."
      ]
    },
    {
      "cell_type": "code",
      "metadata": {
        "id": "xfaujmcYEhxn",
        "colab_type": "code",
        "colab": {}
      },
      "source": [
        "feature = transformer.transform(title_output_df['JobDescription'])\n",
        "new_y_prediction = clf.predict(feature)"
      ],
      "execution_count": 0,
      "outputs": []
    },
    {
      "cell_type": "code",
      "metadata": {
        "id": "C2mJdh_5Eh04",
        "colab_type": "code",
        "outputId": "d2e7491e-fda3-4a85-c512-0d59a8d20930",
        "colab": {
          "base_uri": "https://localhost:8080/",
          "height": 34
        }
      },
      "source": [
        "from sklearn.metrics import accuracy_score\n",
        "print(accuracy_score(le.inverse_transform(new_y_prediction), title_output_df['predicted official job']))"
      ],
      "execution_count": 0,
      "outputs": [
        {
          "output_type": "stream",
          "text": [
            "0.9896103896103896\n"
          ],
          "name": "stdout"
        }
      ]
    }
  ]
}
