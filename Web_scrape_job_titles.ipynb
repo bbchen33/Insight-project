{
  "nbformat": 4,
  "nbformat_minor": 0,
  "metadata": {
    "colab": {
      "name": "Web_scrape_job_titles.ipynb",
      "provenance": [],
      "authorship_tag": "ABX9TyNmHbuU5T2BQqyZX8EkQ+zA",
      "include_colab_link": true
    },
    "kernelspec": {
      "name": "python3",
      "display_name": "Python 3"
    }
  },
  "cells": [
    {
      "cell_type": "markdown",
      "metadata": {
        "id": "view-in-github",
        "colab_type": "text"
      },
      "source": [
        "<a href=\"https://colab.research.google.com/github/bbchen33/Insight-project/blob/master/Web_scrape_job_titles.ipynb\" target=\"_parent\"><img src=\"https://colab.research.google.com/assets/colab-badge.svg\" alt=\"Open In Colab\"/></a>"
      ]
    },
    {
      "cell_type": "markdown",
      "metadata": {
        "id": "b-UeoNQHJia0",
        "colab_type": "text"
      },
      "source": [
        "# Scraping job titles from Indeed"
      ]
    },
    {
      "cell_type": "code",
      "metadata": {
        "id": "r-f_6t--Jd3j",
        "colab_type": "code",
        "colab": {}
      },
      "source": [
        "from bs4 import BeautifulSoup\n",
        "import requests"
      ],
      "execution_count": 0,
      "outputs": []
    },
    {
      "cell_type": "markdown",
      "metadata": {
        "id": "h4owc_08LGc-",
        "colab_type": "text"
      },
      "source": [
        "A list of job titles that I want to scrape from Indeed (47 unique job titles I hand picked)."
      ]
    },
    {
      "cell_type": "code",
      "metadata": {
        "id": "Y-w3Rh2GK6q4",
        "colab_type": "code",
        "colab": {}
      },
      "source": [
        "job_titles = 'accountant, cook, chief financial officer, civil engineer, editor, research assistant, marketing specialist, salesperson, software developer, data scientist, volunteer, lawyer, graphic designer, ceo, it specialist, technical writer, journalist, medical doctor, pharmacist, translator, qa engineer, administrative assistant, recruiter, hr specialist, secretary, java developer, web developer, foreign language teacher, tour guide, president, mechanical engineer, electrical engineer, driver, professor, copywriter, intern, financial analyst, general manager, procurement specialist, sales manager, insurance agent, medical representative, credit officer, database developer, deputy manager, real estate agent, data entry clerk'"
      ],
      "execution_count": 0,
      "outputs": []
    },
    {
      "cell_type": "code",
      "metadata": {
        "id": "hb9z8u5ZK93c",
        "colab_type": "code",
        "colab": {}
      },
      "source": [
        "job_titles = job_titles.split(', ')"
      ],
      "execution_count": 0,
      "outputs": []
    },
    {
      "cell_type": "code",
      "metadata": {
        "id": "uoQqUrtdLBah",
        "colab_type": "code",
        "outputId": "2e9a62bc-31e2-41d5-c825-4f1c49b15ef3",
        "colab": {
          "base_uri": "https://localhost:8080/",
          "height": 34
        }
      },
      "source": [
        "job_titles[:3]"
      ],
      "execution_count": 4,
      "outputs": [
        {
          "output_type": "execute_result",
          "data": {
            "text/plain": [
              "['accountant', 'cook', 'chief financial officer']"
            ]
          },
          "metadata": {
            "tags": []
          },
          "execution_count": 4
        }
      ]
    },
    {
      "cell_type": "markdown",
      "metadata": {
        "id": "4QcpvibGe1lM",
        "colab_type": "text"
      },
      "source": [
        "Below is what it looks like when you search for 'chief financial officer' jobs at Indeed. The url will turn the title into 'chief+financial+officer'."
      ]
    },
    {
      "cell_type": "code",
      "metadata": {
        "id": "nQP_l8wvNMbb",
        "colab_type": "code",
        "outputId": "3545a674-0d6d-4953-967d-db729c850e8e",
        "colab": {
          "base_uri": "https://localhost:8080/",
          "height": 346
        }
      },
      "source": [
        "from IPython.display import Image\n",
        "Image('indeed_search.PNG')"
      ],
      "execution_count": 0,
      "outputs": [
        {
          "output_type": "execute_result",
          "data": {
            "image/png": "[encoded data removed]",
            "text/plain": [
              "<IPython.core.display.Image object>"
            ]
          },
          "metadata": {
            "tags": []
          },
          "execution_count": 19
        }
      ]
    },
    {
      "cell_type": "code",
      "metadata": {
        "id": "c2MgM4Q-es7B",
        "colab_type": "code",
        "colab": {}
      },
      "source": [
        "job_titles_for_scrape = []\n",
        "for job in job_titles:\n",
        "  text = job.split(' ')\n",
        "  job_titles_for_scrape.append('+'.join(text))\n"
      ],
      "execution_count": 0,
      "outputs": []
    },
    {
      "cell_type": "code",
      "metadata": {
        "id": "YzDRsSx7fafu",
        "colab_type": "code",
        "outputId": "ca92e5e1-57a1-42cb-d5dc-bbb8499266f8",
        "colab": {
          "base_uri": "https://localhost:8080/",
          "height": 34
        }
      },
      "source": [
        "job_titles_for_scrape[:5] # now the titles are ready to be used"
      ],
      "execution_count": 6,
      "outputs": [
        {
          "output_type": "execute_result",
          "data": {
            "text/plain": [
              "['accountant', 'cook', 'chief+financial+officer', 'civil+engineer', 'editor']"
            ]
          },
          "metadata": {
            "tags": []
          },
          "execution_count": 6
        }
      ]
    },
    {
      "cell_type": "markdown",
      "metadata": {
        "id": "kgcjk8Zuf2jy",
        "colab_type": "text"
      },
      "source": [
        "Below shows an example of getting the scraped data and then I'll write function to automate the process."
      ]
    },
    {
      "cell_type": "code",
      "metadata": {
        "id": "I4lZPqk4fj4E",
        "colab_type": "code",
        "colab": {}
      },
      "source": [
        "source = requests.get(f'https://www.indeed.com/jobs?q=accountant&start=10').text\n",
        "soup = BeautifulSoup(source, 'lxml')"
      ],
      "execution_count": 0,
      "outputs": []
    },
    {
      "cell_type": "markdown",
      "metadata": {
        "id": "uO-WkvrXmhe8",
        "colab_type": "text"
      },
      "source": [
        "cropped image of where I found the titles in the soup."
      ]
    },
    {
      "cell_type": "code",
      "metadata": {
        "id": "aXeXi3VZf2G3",
        "colab_type": "code",
        "outputId": "50db399f-fd2d-4d31-8447-a2436e132d0b",
        "colab": {
          "base_uri": "https://localhost:8080/",
          "height": 350
        }
      },
      "source": [
        "Image('soup_text.PNG')"
      ],
      "execution_count": 0,
      "outputs": [
        {
          "output_type": "execute_result",
          "data": {
            "image/png": "[encoded data removed]",
            "text/plain": [
              "<IPython.core.display.Image object>"
            ]
          },
          "metadata": {
            "tags": []
          },
          "execution_count": 60
        }
      ]
    },
    {
      "cell_type": "markdown",
      "metadata": {
        "id": "L0IxF-lqhlB8",
        "colab_type": "text"
      },
      "source": [
        "Find index of 'jobmap' inside soup text."
      ]
    },
    {
      "cell_type": "code",
      "metadata": {
        "id": "--RWvN4Zhav-",
        "colab_type": "code",
        "colab": {}
      },
      "source": [
        "import re\n",
        "soup_text = soup.get_text()\n",
        "all_jobmap = [x.start() for x in re.finditer('jobmap', soup_text)]"
      ],
      "execution_count": 0,
      "outputs": []
    },
    {
      "cell_type": "markdown",
      "metadata": {
        "id": "qAdr_yjjh1yX",
        "colab_type": "text"
      },
      "source": [
        "Use the jobmap index to find the text and where the title occurs."
      ]
    },
    {
      "cell_type": "code",
      "metadata": {
        "id": "uaz1a2awhsIb",
        "colab_type": "code",
        "colab": {}
      },
      "source": [
        "first_jobmap = soup_text[all_jobmap[0]:all_jobmap[0]+500]"
      ],
      "execution_count": 0,
      "outputs": []
    },
    {
      "cell_type": "markdown",
      "metadata": {
        "id": "HGdmt0P9iMW7",
        "colab_type": "text"
      },
      "source": [
        "Find where the keyword 'title' occurs."
      ]
    },
    {
      "cell_type": "code",
      "metadata": {
        "id": "HPwcVWZuiDgh",
        "colab_type": "code",
        "outputId": "4dd738e2-8d08-4401-d295-d98b2ad00dd6",
        "colab": {
          "base_uri": "https://localhost:8080/",
          "height": 34
        }
      },
      "source": [
        "first_jobmap.index('title')"
      ],
      "execution_count": 10,
      "outputs": [
        {
          "output_type": "execute_result",
          "data": {
            "text/plain": [
              "300"
            ]
          },
          "metadata": {
            "tags": []
          },
          "execution_count": 10
        }
      ]
    },
    {
      "cell_type": "markdown",
      "metadata": {
        "id": "QgwLksDAiPYl",
        "colab_type": "text"
      },
      "source": [
        "Show where 'title' occurs and the next 100 characters following it."
      ]
    },
    {
      "cell_type": "code",
      "metadata": {
        "id": "PIXme-WBiFx-",
        "colab_type": "code",
        "outputId": "c113bb62-4953-44af-bbe7-07059f5dda43",
        "colab": {
          "base_uri": "https://localhost:8080/",
          "height": 54
        }
      },
      "source": [
        "first_jobmap[264:264+100]"
      ],
      "execution_count": 11,
      "outputs": [
        {
          "output_type": "execute_result",
          "data": {
            "text/plain": [
              "\"GA',country:'US',zip:'',city:'Rome',title:'Senior Accountant',locid:'81483b60ff6f6fd6',rd:'KOZu4pedP\""
            ]
          },
          "metadata": {
            "tags": []
          },
          "execution_count": 11
        }
      ]
    },
    {
      "cell_type": "markdown",
      "metadata": {
        "id": "gjkxrTNqiUj-",
        "colab_type": "text"
      },
      "source": [
        "Now anyone can see the title 'Staff Accountant' and can just split the text with ',' to discard the rest of the information."
      ]
    },
    {
      "cell_type": "code",
      "metadata": {
        "id": "aKxHmgREel8w",
        "colab_type": "code",
        "colab": {}
      },
      "source": [
        "import re\n",
        "def get_titles(soup):\n",
        "  soup_text = soup.get_text()\n",
        "  all_jobmap = [x.start() for x in re.finditer('jobmap', soup_text)]\n",
        "  jobmap_text = []\n",
        "  for i in range(len(all_jobmap)):\n",
        "    jobmap_text.append(soup_text[all_jobmap[i]:all_jobmap[i]+500]) #append start of jobmap and 500 more characters after its occurence\n",
        "  title_index = []\n",
        "  for titles in jobmap_text:\n",
        "    try:\n",
        "      title_index.append(titles.index('title')) #append index where the word 'title' occurs\n",
        "    except:\n",
        "      pass\n",
        "  job_titles = []\n",
        "\n",
        "  for x,y in zip(title_index, jobmap_text):\n",
        "    job_title = y[x:x+100]\n",
        "    job_title = job_title.split(',')[0] #remove the rest of the characters after ','\n",
        "    job_title = job_title.replace('title:','') \n",
        "    job_title = job_title[1:-1]\n",
        "    job_titles.append(job_title)\n",
        "  return job_titles"
      ],
      "execution_count": 0,
      "outputs": []
    },
    {
      "cell_type": "code",
      "metadata": {
        "id": "brfvnk4Afom3",
        "colab_type": "code",
        "colab": {}
      },
      "source": [
        "job_dict = {}\n",
        "for job in job_titles_for_scrape:\n",
        "  for i in range(10, 70, 10): # start with 10 (page 2), ends with 70 (page 6) see next line\n",
        "    source = requests.get(f'https://www.indeed.com/jobs?q={job}&start={i}').text #start= is for page number, page 1 is none, page 2 is 10, page 3 is 20 and so on \n",
        "    soup = BeautifulSoup(source, 'lxml')\n",
        "    if job not in job_dict:\n",
        "      job_dict[job] = get_titles(soup)\n",
        "    else:\n",
        "      job_dict[job] += get_titles(soup)"
      ],
      "execution_count": 0,
      "outputs": []
    },
    {
      "cell_type": "code",
      "metadata": {
        "id": "hxiLaBpkemC4",
        "colab_type": "code",
        "outputId": "32feed24-b6ff-4a1c-f0d5-d6344ac52f24",
        "colab": {
          "base_uri": "https://localhost:8080/",
          "height": 34
        }
      },
      "source": [
        "len(job_dict)"
      ],
      "execution_count": 14,
      "outputs": [
        {
          "output_type": "execute_result",
          "data": {
            "text/plain": [
              "47"
            ]
          },
          "metadata": {
            "tags": []
          },
          "execution_count": 14
        }
      ]
    },
    {
      "cell_type": "code",
      "metadata": {
        "id": "ZDJ7nrpkjubT",
        "colab_type": "code",
        "outputId": "6c0a5d07-b000-4fb8-ae80-351b8bd9bd18",
        "colab": {
          "base_uri": "https://localhost:8080/",
          "height": 1000
        }
      },
      "source": [
        "job_dict['accountant']"
      ],
      "execution_count": 16,
      "outputs": [
        {
          "output_type": "execute_result",
          "data": {
            "text/plain": [
              "['Farm Accountant',\n",
              " 'Farm Accountant',\n",
              " 'Senior Accountant',\n",
              " 'Staff Accountant',\n",
              " 'Construction Accountant',\n",
              " 'Staff Accountant',\n",
              " 'Staff Accountant (accounting degree req) (Dyersbur',\n",
              " 'Staff Accountant - College Graduate',\n",
              " 'Senior Accountant',\n",
              " 'Staff Accountant',\n",
              " 'Accountant',\n",
              " 'Staff Accountant',\n",
              " 'Sr Accountant-USD',\n",
              " 'Property Accountant',\n",
              " 'Unemployment Tax Representative-Prince William',\n",
              " 'Store Accountant',\n",
              " 'STAFF ACCOUNTANT',\n",
              " 'Accountant',\n",
              " 'Staff Accountant',\n",
              " 'Accountant\\\\/Financial Analyst--Hospital',\n",
              " 'Staff Accountant',\n",
              " 'Staff Accountant',\n",
              " 'Staff Accountant',\n",
              " 'Accountant',\n",
              " 'Farm Accountant',\n",
              " 'Senior Accountant',\n",
              " 'Staff Accountant',\n",
              " 'Accountant',\n",
              " 'Unemployment Tax Representative-Prince William',\n",
              " 'Accountant',\n",
              " 'Staff Accountant',\n",
              " 'Accountant I',\n",
              " 'Full Charge Bookkeeper\\\\/Accountant',\n",
              " 'Accountant Specialist',\n",
              " 'Corporate Staff Accountant',\n",
              " 'Staff Accountant',\n",
              " 'Cost Accountant',\n",
              " 'Staff Accountant (accounting degree req) (Dyersbur',\n",
              " 'Staff Accountant - College Graduate',\n",
              " 'Accountant\\\\/Financial Analyst--Hospital',\n",
              " 'Staff Accountant',\n",
              " 'Staff Accountant',\n",
              " 'Staff Accountant - College Graduate',\n",
              " 'Accountant',\n",
              " 'Farm Accountant',\n",
              " 'Senior Accountant',\n",
              " 'Staff Accountant',\n",
              " 'Accountant',\n",
              " 'REMOTE ACCOUNTANT (VIRTUA',\n",
              " 'Accountant I',\n",
              " 'Accountant',\n",
              " 'Staff Accountant - Restricted Funds',\n",
              " 'General Accountant',\n",
              " 'Accountant',\n",
              " 'Treasury Accountant',\n",
              " 'Staff Accountant',\n",
              " 'Accountant',\n",
              " 'Staff Accountant Experience Required',\n",
              " 'Staff Accountant',\n",
              " 'Accountant\\\\/Financial Analyst--Hospital',\n",
              " 'Houston Financial Accountant Needed for Project \\\\/ Mostly Work Remotely',\n",
              " 'Houston Financial Accountant Needed for Project \\\\/ Mostly Work Remotely',\n",
              " 'Accountan',\n",
              " 'Production Accountant',\n",
              " 'Accountant',\n",
              " 'AR Cash Collections Accountant with Portuguese',\n",
              " 'Staff Accountant - Restricted Funds',\n",
              " 'Accountant',\n",
              " 'Sr. Accountant',\n",
              " 'Lead Accountant - Revenue Recognition',\n",
              " 'AP and Payroll Accountant',\n",
              " 'Staff Accountant (accounting degree req) (Dyersbur',\n",
              " 'Staff Accountant - College Graduate',\n",
              " 'Senior Accountant',\n",
              " 'Staff Accountant',\n",
              " 'Staff Accountant',\n",
              " 'Staff Accountant',\n",
              " 'Accountant',\n",
              " 'Farm Accountant',\n",
              " 'Accountant\\\\/Financial Analyst--Hospital',\n",
              " 'STAFF ACCOUNTANT',\n",
              " 'STAFF ACCOUNTANT',\n",
              " 'Accountan',\n",
              " 'Accountant',\n",
              " 'Accountant',\n",
              " 'Accountant',\n",
              " 'Senior Accountant - COSTPOINT',\n",
              " 'Staff Accountant',\n",
              " 'Accountant',\n",
              " 'Accountant I',\n",
              " 'Staff Accountant - General Ledger and Reporting',\n",
              " 'Staff Accountant (accounting degree req) (Dyersbur',\n",
              " 'Staff Accountant - College Graduate',\n",
              " 'Senior Accountant',\n",
              " 'Staff Accountant',\n",
              " 'Staff Accountant',\n",
              " 'Staff Accountant',\n",
              " 'Accountant',\n",
              " 'Farm Accountant',\n",
              " 'Accountant\\\\/Financial Analyst--Hospital',\n",
              " 'Accountant',\n",
              " 'Accountant',\n",
              " 'Production Accountant',\n",
              " 'Accountant I',\n",
              " 'PT Bookkeeper \\\\/ Accountant',\n",
              " 'AP and Payroll Accountant',\n",
              " 'ACCOUNTANT II',\n",
              " 'Accounting Associate I',\n",
              " 'Accountant 2',\n",
              " 'Staff Accountant',\n",
              " 'Senior Accountant',\n",
              " 'Staff Accountant (accounting degree req) (Dyersbur',\n",
              " 'Staff Accountant - College Graduate',\n",
              " 'Senior Accountant',\n",
              " 'Staff Accountant',\n",
              " 'Staff Accountant',\n",
              " 'Staff Accountant',\n",
              " 'Accountant',\n",
              " 'Farm Accountant',\n",
              " 'Accountant\\\\/Financial Analyst--Hospital']"
            ]
          },
          "metadata": {
            "tags": []
          },
          "execution_count": 16
        }
      ]
    },
    {
      "cell_type": "markdown",
      "metadata": {
        "id": "o1uKxD4zjK_k",
        "colab_type": "text"
      },
      "source": [
        "The length of job_dict is the number of job titles I want to scrape. It's 47 so it is correct."
      ]
    },
    {
      "cell_type": "markdown",
      "metadata": {
        "id": "r6pIpi0Mjb1y",
        "colab_type": "text"
      },
      "source": [
        "Next, let's make the dictionary into a dataframe. First, we'll need to combine all of the scraped job titles into a list."
      ]
    },
    {
      "cell_type": "code",
      "metadata": {
        "id": "hFJ5oNFqjVLg",
        "colab_type": "code",
        "colab": {}
      },
      "source": [
        "collected_job = []\n",
        "for jobs in job_dict.values():\n",
        "  for job in jobs:\n",
        "    collected_job.append(job)"
      ],
      "execution_count": 0,
      "outputs": []
    },
    {
      "cell_type": "code",
      "metadata": {
        "id": "6tPjXsIOkWHe",
        "colab_type": "code",
        "outputId": "1d4f7055-01b0-483e-9b52-580920953317",
        "colab": {
          "base_uri": "https://localhost:8080/",
          "height": 34
        }
      },
      "source": [
        "len(collected_job)"
      ],
      "execution_count": 18,
      "outputs": [
        {
          "output_type": "execute_result",
          "data": {
            "text/plain": [
              "5476"
            ]
          },
          "metadata": {
            "tags": []
          },
          "execution_count": 18
        }
      ]
    },
    {
      "cell_type": "code",
      "metadata": {
        "id": "yJl5ILPGkZSO",
        "colab_type": "code",
        "colab": {}
      },
      "source": [
        "import pandas as pd\n",
        "indeed_df = pd.DataFrame()\n",
        "indeed_df['various job'] = collected_job"
      ],
      "execution_count": 0,
      "outputs": []
    },
    {
      "cell_type": "code",
      "metadata": {
        "id": "2MSOuzo5kZYa",
        "colab_type": "code",
        "colab": {}
      },
      "source": [
        "import itertools\n",
        "official_jobs = []\n",
        "for job in job_titles_for_scrape:\n",
        "  for x in itertools.repeat(job, len(job_dict[job])):\n",
        "    official_jobs.append(x)"
      ],
      "execution_count": 0,
      "outputs": []
    },
    {
      "cell_type": "code",
      "metadata": {
        "id": "ZStE1IukkjHA",
        "colab_type": "code",
        "colab": {}
      },
      "source": [
        "indeed_df['official_job'] = official_jobs"
      ],
      "execution_count": 0,
      "outputs": []
    },
    {
      "cell_type": "code",
      "metadata": {
        "id": "dpW22YRpkgv-",
        "colab_type": "code",
        "outputId": "50eb446b-a352-48a1-80ac-9001436e46d3",
        "colab": {
          "base_uri": "https://localhost:8080/",
          "height": 197
        }
      },
      "source": [
        "indeed_df.head()"
      ],
      "execution_count": 22,
      "outputs": [
        {
          "output_type": "execute_result",
          "data": {
            "text/html": [
              "<div>\n",
              "<style scoped>\n",
              "    .dataframe tbody tr th:only-of-type {\n",
              "        vertical-align: middle;\n",
              "    }\n",
              "\n",
              "    .dataframe tbody tr th {\n",
              "        vertical-align: top;\n",
              "    }\n",
              "\n",
              "    .dataframe thead th {\n",
              "        text-align: right;\n",
              "    }\n",
              "</style>\n",
              "<table border=\"1\" class=\"dataframe\">\n",
              "  <thead>\n",
              "    <tr style=\"text-align: right;\">\n",
              "      <th></th>\n",
              "      <th>various job</th>\n",
              "      <th>official_job</th>\n",
              "    </tr>\n",
              "  </thead>\n",
              "  <tbody>\n",
              "    <tr>\n",
              "      <th>0</th>\n",
              "      <td>Farm Accountant</td>\n",
              "      <td>accountant</td>\n",
              "    </tr>\n",
              "    <tr>\n",
              "      <th>1</th>\n",
              "      <td>Farm Accountant</td>\n",
              "      <td>accountant</td>\n",
              "    </tr>\n",
              "    <tr>\n",
              "      <th>2</th>\n",
              "      <td>Senior Accountant</td>\n",
              "      <td>accountant</td>\n",
              "    </tr>\n",
              "    <tr>\n",
              "      <th>3</th>\n",
              "      <td>Staff Accountant</td>\n",
              "      <td>accountant</td>\n",
              "    </tr>\n",
              "    <tr>\n",
              "      <th>4</th>\n",
              "      <td>Construction Accountant</td>\n",
              "      <td>accountant</td>\n",
              "    </tr>\n",
              "  </tbody>\n",
              "</table>\n",
              "</div>"
            ],
            "text/plain": [
              "               various job official_job\n",
              "0          Farm Accountant   accountant\n",
              "1          Farm Accountant   accountant\n",
              "2        Senior Accountant   accountant\n",
              "3         Staff Accountant   accountant\n",
              "4  Construction Accountant   accountant"
            ]
          },
          "metadata": {
            "tags": []
          },
          "execution_count": 22
        }
      ]
    },
    {
      "cell_type": "markdown",
      "metadata": {
        "id": "307JDeklPdQd",
        "colab_type": "text"
      },
      "source": [
        "Not useful to have the same 'various job' multiple times so dropping them to reduce the file size."
      ]
    },
    {
      "cell_type": "code",
      "metadata": {
        "id": "KxwVpF4sPWzu",
        "colab_type": "code",
        "colab": {}
      },
      "source": [
        "indeed_df = indeed_df.drop_duplicates(subset = 'various job')"
      ],
      "execution_count": 0,
      "outputs": []
    },
    {
      "cell_type": "code",
      "metadata": {
        "id": "LKmws_6bPbZB",
        "colab_type": "code",
        "colab": {
          "base_uri": "https://localhost:8080/",
          "height": 34
        },
        "outputId": "efb94ca9-accd-41c7-c37d-db22892499b1"
      },
      "source": [
        "len(indeed_df)"
      ],
      "execution_count": 24,
      "outputs": [
        {
          "output_type": "execute_result",
          "data": {
            "text/plain": [
              "1980"
            ]
          },
          "metadata": {
            "tags": []
          },
          "execution_count": 24
        }
      ]
    },
    {
      "cell_type": "code",
      "metadata": {
        "id": "IXUoh7prlbtR",
        "colab_type": "code",
        "colab": {}
      },
      "source": [
        "indeed_df.to_csv('indeed_jobs_final.txt', sep = '\\t', index = False)"
      ],
      "execution_count": 0,
      "outputs": []
    },
    {
      "cell_type": "code",
      "metadata": {
        "id": "XUFQm0v0Psme",
        "colab_type": "code",
        "colab": {}
      },
      "source": [
        "from google.colab import files\n",
        "files.download('indeed_jobs_final.txt')"
      ],
      "execution_count": 0,
      "outputs": []
    }
  ]
}