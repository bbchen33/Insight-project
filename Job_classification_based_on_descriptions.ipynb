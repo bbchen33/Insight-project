{
  "nbformat": 4,
  "nbformat_minor": 0,
  "metadata": {
    "colab": {
      "name": "Job classification based on descriptions.ipynb",
      "provenance": [],
      "collapsed_sections": [],
      "authorship_tag": "ABX9TyNkVMFnx0vbKssBpBXxvADy",
      "include_colab_link": true
    },
    "kernelspec": {
      "name": "python3",
      "display_name": "Python 3"
    }
  },
  "cells": [
    {
      "cell_type": "markdown",
      "metadata": {
        "id": "view-in-github",
        "colab_type": "text"
      },
      "source": [
        "<a href=\"https://colab.research.google.com/github/bbchen33/Insight-project/blob/master/Job_classification_based_on_descriptions.ipynb\" target=\"_parent\"><img src=\"https://colab.research.google.com/assets/colab-badge.svg\" alt=\"Open In Colab\"/></a>"
      ]
    },
    {
      "cell_type": "markdown",
      "metadata": {
        "id": "NDnMRHSmB3-R",
        "colab_type": "text"
      },
      "source": [
        "Below is a list of job titles I found to be more abundant in the data I am working with so I will use them as the labels to categorize the rest of the job titles. Original dataset is from Kaggle https://www.kaggle.com/madhab/jobposts."
      ]
    },
    {
      "cell_type": "code",
      "metadata": {
        "id": "k9y5CHXHCbxy",
        "colab_type": "code",
        "colab": {}
      },
      "source": [
        "import pandas as pd\n",
        "job_posts_labeled = pd.read_csv('job_posts_labeled_all_labeled.txt', sep = '\\t')"
      ],
      "execution_count": 0,
      "outputs": []
    },
    {
      "cell_type": "markdown",
      "metadata": {
        "id": "Xisr_PXvDAZS",
        "colab_type": "text"
      },
      "source": [
        "'various job' = actual job titles in the data; 'official job' = the standardardized format of a job (e.g. accountant for financial specialist or financial manager) but right now it is mostly just copy from 'various job'. The 'official job' is the label I'll give each job at the end of my training. "
      ]
    },
    {
      "cell_type": "markdown",
      "metadata": {
        "id": "09_op93aCy04",
        "colab_type": "text"
      },
      "source": [
        "I'm dropping rows with na in the 'various job' column since the actual job titles is what I want. "
      ]
    },
    {
      "cell_type": "code",
      "metadata": {
        "id": "rkgeexlECwlI",
        "colab_type": "code",
        "colab": {}
      },
      "source": [
        "job_posts_labeled = job_posts_labeled.dropna(subset=['various job'])"
      ],
      "execution_count": 0,
      "outputs": []
    },
    {
      "cell_type": "code",
      "metadata": {
        "id": "8f_1TMb4Cpmw",
        "colab_type": "code",
        "outputId": "a31a2073-fbbc-4018-9ae3-037ca56fd60d",
        "colab": {
          "base_uri": "https://localhost:8080/",
          "height": 381
        }
      },
      "source": [
        "job_posts_labeled.head()"
      ],
      "execution_count": 0,
      "outputs": [
        {
          "output_type": "execute_result",
          "data": {
            "text/html": [
              "<div>\n",
              "<style scoped>\n",
              "    .dataframe tbody tr th:only-of-type {\n",
              "        vertical-align: middle;\n",
              "    }\n",
              "\n",
              "    .dataframe tbody tr th {\n",
              "        vertical-align: top;\n",
              "    }\n",
              "\n",
              "    .dataframe thead th {\n",
              "        text-align: right;\n",
              "    }\n",
              "</style>\n",
              "<table border=\"1\" class=\"dataframe\">\n",
              "  <thead>\n",
              "    <tr style=\"text-align: right;\">\n",
              "      <th></th>\n",
              "      <th>various job</th>\n",
              "      <th>official job</th>\n",
              "      <th>Company</th>\n",
              "      <th>JobDescription</th>\n",
              "      <th>JobRequirment</th>\n",
              "      <th>RequiredQual</th>\n",
              "    </tr>\n",
              "  </thead>\n",
              "  <tbody>\n",
              "    <tr>\n",
              "      <th>0</th>\n",
              "      <td>journalist</td>\n",
              "      <td>journalist</td>\n",
              "      <td>News.am Information-Analytic Agency</td>\n",
              "      <td>The incumbent will be responsible for agency's...</td>\n",
              "      <td>NaN</td>\n",
              "      <td>- Higher education;\\r\\n- Good knowledge of Eng...</td>\n",
              "    </tr>\n",
              "    <tr>\n",
              "      <th>1</th>\n",
              "      <td>News Editor</td>\n",
              "      <td>Editor</td>\n",
              "      <td>BlogNews.am</td>\n",
              "      <td>BlogNews.am is looking for a News Editor. He/ ...</td>\n",
              "      <td>NaN</td>\n",
              "      <td>- At least Bachelor's degree in Journalism or ...</td>\n",
              "    </tr>\n",
              "    <tr>\n",
              "      <th>2</th>\n",
              "      <td>HR Assistant</td>\n",
              "      <td>hr specialist</td>\n",
              "      <td>Career Center</td>\n",
              "      <td>We have a new opening for the position of HR A...</td>\n",
              "      <td>Main duties include but are not limited to the...</td>\n",
              "      <td>- Relevant graduate degree;\\r\\n- Fluent writte...</td>\n",
              "    </tr>\n",
              "    <tr>\n",
              "      <th>3</th>\n",
              "      <td>HR Assistant</td>\n",
              "      <td>hr specialist</td>\n",
              "      <td>Career Center</td>\n",
              "      <td>We have a new opening for the position of HR A...</td>\n",
              "      <td>Main duties include but are not limited to the...</td>\n",
              "      <td>- Relevant graduate degree;\\r\\n- Fluent writte...</td>\n",
              "    </tr>\n",
              "    <tr>\n",
              "      <th>4</th>\n",
              "      <td>HR Assistant</td>\n",
              "      <td>hr specialist</td>\n",
              "      <td>Career Center</td>\n",
              "      <td>We have a new opening for the position of HR A...</td>\n",
              "      <td>Main duties include but are not limited to the...</td>\n",
              "      <td>- Relevant graduate degree;\\r\\n- Fluent writte...</td>\n",
              "    </tr>\n",
              "  </tbody>\n",
              "</table>\n",
              "</div>"
            ],
            "text/plain": [
              "    various job  ...                                       RequiredQual\n",
              "0    journalist  ...  - Higher education;\\r\\n- Good knowledge of Eng...\n",
              "1   News Editor  ...  - At least Bachelor's degree in Journalism or ...\n",
              "2  HR Assistant  ...  - Relevant graduate degree;\\r\\n- Fluent writte...\n",
              "3  HR Assistant  ...  - Relevant graduate degree;\\r\\n- Fluent writte...\n",
              "4  HR Assistant  ...  - Relevant graduate degree;\\r\\n- Fluent writte...\n",
              "\n",
              "[5 rows x 6 columns]"
            ]
          },
          "metadata": {
            "tags": []
          },
          "execution_count": 6
        }
      ]
    },
    {
      "cell_type": "code",
      "metadata": {
        "id": "RNZSf-meDSMe",
        "colab_type": "code",
        "outputId": "5cb788f1-5b93-4e9b-e9a3-aea6c3407368",
        "colab": {
          "base_uri": "https://localhost:8080/",
          "height": 34
        }
      },
      "source": [
        "len(job_posts_labeled)"
      ],
      "execution_count": 0,
      "outputs": [
        {
          "output_type": "execute_result",
          "data": {
            "text/plain": [
              "15090"
            ]
          },
          "metadata": {
            "tags": []
          },
          "execution_count": 7
        }
      ]
    },
    {
      "cell_type": "markdown",
      "metadata": {
        "id": "VHAWO73HCsne",
        "colab_type": "text"
      },
      "source": [
        "I have found that the 'JobDescription' is most useful for getting good classification so I will only save 'various job', 'official job' and 'JobDescription' for my actual training."
      ]
    },
    {
      "cell_type": "code",
      "metadata": {
        "id": "J6rgB8qSD_gy",
        "colab_type": "code",
        "colab": {}
      },
      "source": [
        "job_posts_features = job_posts_labeled[['various job','official job','JobDescription']]"
      ],
      "execution_count": 0,
      "outputs": []
    },
    {
      "cell_type": "markdown",
      "metadata": {
        "id": "lxSIQOIWEDCy",
        "colab_type": "text"
      },
      "source": [
        "Below is a list of job titles (52) that I hand picked and decided that they were common enough to be used to categorize most of the jobs in my data set. "
      ]
    },
    {
      "cell_type": "code",
      "metadata": {
        "id": "_9YyJkptD_p4",
        "colab_type": "code",
        "colab": {}
      },
      "source": [
        "job_titles = 'accountant, cook, chief financial officer, civil engineer, editor, research assistant, marketing specialist, salesperson, software developer, data scientist, volunteer, lawyer, graphic designer, ceo, it specialist, technical writer, journalist, medical doctor, pharmacist, translator, qa engineer, administrative assistant, recruiter, hr specialist, secretary, java developer, web developer, foreign language teacher, tour guide, president, mechanical engineer, electrical engineer, driver, professor, copywriter, intern, financial analyst, general manager, procurement specialist, sales manager, insurance agent, medical representative, credit officer, database developer, deputy manager, real estate agent, data entry clerk'"
      ],
      "execution_count": 0,
      "outputs": []
    },
    {
      "cell_type": "code",
      "metadata": {
        "id": "u3ZF5t2dD_xG",
        "colab_type": "code",
        "outputId": "030c2935-d6d1-45bf-ee3f-cb81b5c7d6f9",
        "colab": {
          "base_uri": "https://localhost:8080/",
          "height": 34
        }
      },
      "source": [
        "job_titles = job_titles.split(', ')\n",
        "len(job_titles)"
      ],
      "execution_count": 0,
      "outputs": [
        {
          "output_type": "execute_result",
          "data": {
            "text/plain": [
              "47"
            ]
          },
          "metadata": {
            "tags": []
          },
          "execution_count": 10
        }
      ]
    },
    {
      "cell_type": "markdown",
      "metadata": {
        "id": "k36Kap6hETVr",
        "colab_type": "text"
      },
      "source": [
        "Lowercase for all job titles so I can have a better chance of matching the 'vaious job' and 'official job'."
      ]
    },
    {
      "cell_type": "code",
      "metadata": {
        "id": "VNVGqjTXEOcp",
        "colab_type": "code",
        "outputId": "677b5ea2-b1d7-4ca8-b4d2-89dfe352e85e",
        "colab": {
          "base_uri": "https://localhost:8080/",
          "height": 250
        }
      },
      "source": [
        "job_posts_features['official job'] = job_posts_features['official job'].str.lower()\n",
        "job_posts_features['various job'] = job_posts_features['various job'].str.lower()"
      ],
      "execution_count": 0,
      "outputs": [
        {
          "output_type": "stream",
          "text": [
            "/usr/local/lib/python3.6/dist-packages/ipykernel_launcher.py:1: SettingWithCopyWarning: \n",
            "A value is trying to be set on a copy of a slice from a DataFrame.\n",
            "Try using .loc[row_indexer,col_indexer] = value instead\n",
            "\n",
            "See the caveats in the documentation: http://pandas.pydata.org/pandas-docs/stable/user_guide/indexing.html#returning-a-view-versus-a-copy\n",
            "  \"\"\"Entry point for launching an IPython kernel.\n",
            "/usr/local/lib/python3.6/dist-packages/ipykernel_launcher.py:2: SettingWithCopyWarning: \n",
            "A value is trying to be set on a copy of a slice from a DataFrame.\n",
            "Try using .loc[row_indexer,col_indexer] = value instead\n",
            "\n",
            "See the caveats in the documentation: http://pandas.pydata.org/pandas-docs/stable/user_guide/indexing.html#returning-a-view-versus-a-copy\n",
            "  \n"
          ],
          "name": "stderr"
        }
      ]
    },
    {
      "cell_type": "markdown",
      "metadata": {
        "id": "xE2wc76oIF3N",
        "colab_type": "text"
      },
      "source": [
        "Finding the index where the official job is in my list of job titles so I select them for training."
      ]
    },
    {
      "cell_type": "code",
      "metadata": {
        "id": "cOyK9x9XESh2",
        "colab_type": "code",
        "colab": {}
      },
      "source": [
        "index_list = []\n",
        "for job in job_titles:\n",
        "  job_index = job_posts_features[job_posts_features['official job'] == job].index\n",
        "  if len(job_index) >= 15: # I restrict the data to be 15 rows or more for training\n",
        "    index_list.append(job_index)"
      ],
      "execution_count": 0,
      "outputs": []
    },
    {
      "cell_type": "markdown",
      "metadata": {
        "id": "V3PhNp0ZH1lk",
        "colab_type": "text"
      },
      "source": [
        "Turned out only 34 out of the 52 handpicked titles had sufficient data for training."
      ]
    },
    {
      "cell_type": "code",
      "metadata": {
        "id": "S6sJqmRHHQOx",
        "colab_type": "code",
        "outputId": "1d66db56-b969-4cda-caa5-8eca770f5bb8",
        "colab": {
          "base_uri": "https://localhost:8080/",
          "height": 34
        }
      },
      "source": [
        "len(index_list)"
      ],
      "execution_count": 0,
      "outputs": [
        {
          "output_type": "execute_result",
          "data": {
            "text/plain": [
              "34"
            ]
          },
          "metadata": {
            "tags": []
          },
          "execution_count": 13
        }
      ]
    },
    {
      "cell_type": "code",
      "metadata": {
        "id": "lZyk0-q7HRc7",
        "colab_type": "code",
        "outputId": "68883fe8-0ceb-47f0-a605-0e206e329feb",
        "colab": {
          "base_uri": "https://localhost:8080/",
          "height": 158
        }
      },
      "source": [
        "index_list[:2]"
      ],
      "execution_count": 0,
      "outputs": [
        {
          "output_type": "execute_result",
          "data": {
            "text/plain": [
              "[Int64Index([343, 344, 345, 346, 347, 348, 349, 350, 351, 352,\n",
              "             ...\n",
              "             583, 584, 585, 586, 587, 588, 589, 590, 591, 592],\n",
              "            dtype='int64', length=250),\n",
              " Int64Index([  33,   34,   35,   36,   37,   38,   39,   40,   41,   42,   43,\n",
              "               44,   45,   46,   47,   48,   49,   50,   51, 2386, 2387, 2388,\n",
              "             3184, 3185],\n",
              "            dtype='int64')]"
            ]
          },
          "metadata": {
            "tags": []
          },
          "execution_count": 14
        }
      ]
    },
    {
      "cell_type": "code",
      "metadata": {
        "id": "lRoX74xCHRhH",
        "colab_type": "code",
        "colab": {}
      },
      "source": [
        "import numpy as np\n",
        "index_combined = np.concatenate(index_list) "
      ],
      "execution_count": 0,
      "outputs": []
    },
    {
      "cell_type": "code",
      "metadata": {
        "id": "lVQ8pyEkHRlD",
        "colab_type": "code",
        "outputId": "3d753516-92de-46b5-fcae-fd7b73903e16",
        "colab": {
          "base_uri": "https://localhost:8080/",
          "height": 34
        }
      },
      "source": [
        "len(index_combined)"
      ],
      "execution_count": 0,
      "outputs": [
        {
          "output_type": "execute_result",
          "data": {
            "text/plain": [
              "2020"
            ]
          },
          "metadata": {
            "tags": []
          },
          "execution_count": 16
        }
      ]
    },
    {
      "cell_type": "markdown",
      "metadata": {
        "id": "eG3M-_U-IQr-",
        "colab_type": "text"
      },
      "source": [
        "I called the ones with exactly the same labels as the handlabeled titles \"labeled_df\" for training my model while the rest as \"unlabeled_df\" to predict their \"standard job titles\" with my model."
      ]
    },
    {
      "cell_type": "code",
      "metadata": {
        "id": "B9YqXJ3_HRp8",
        "colab_type": "code",
        "colab": {}
      },
      "source": [
        "labeled_df = job_posts_features[['various job','official job', 'JobDescription']]\n",
        "labeled_df = labeled_df.iloc[index_combined]\n",
        "labeled_df = labeled_df.reset_index(drop = True)"
      ],
      "execution_count": 0,
      "outputs": []
    },
    {
      "cell_type": "code",
      "metadata": {
        "id": "_TqPrzUHIdCT",
        "colab_type": "code",
        "colab": {}
      },
      "source": [
        "unlabeled_df = job_posts_features[['various job','official job', 'JobDescription']]\n",
        "unlabeled_df = unlabeled_df[~unlabeled_df.index.isin(index_combined)]\n",
        "unlabeled_df = unlabeled_df.reset_index(drop = True)"
      ],
      "execution_count": 0,
      "outputs": []
    },
    {
      "cell_type": "code",
      "metadata": {
        "id": "d44bh6SpIepw",
        "colab_type": "code",
        "colab": {}
      },
      "source": [
        "combined_df = pd.concat([labeled_df, unlabeled_df], axis = 0)\n",
        "combined_df = combined_df.reset_index(drop = True)"
      ],
      "execution_count": 0,
      "outputs": []
    },
    {
      "cell_type": "markdown",
      "metadata": {
        "id": "YP5aBEoXImUD",
        "colab_type": "text"
      },
      "source": [
        "Now the 'combined_df' is the dataframe for training a model. I'll do some text preprocessing on the job description."
      ]
    },
    {
      "cell_type": "code",
      "metadata": {
        "id": "UR2LJ4NBIhjS",
        "colab_type": "code",
        "outputId": "867e2567-8e2e-4dff-8ad2-7291b901ed69",
        "colab": {
          "base_uri": "https://localhost:8080/",
          "height": 70
        }
      },
      "source": [
        "import nltk\n",
        "nltk.download('stopwords')"
      ],
      "execution_count": 0,
      "outputs": [
        {
          "output_type": "stream",
          "text": [
            "[nltk_data] Downloading package stopwords to /root/nltk_data...\n",
            "[nltk_data]   Package stopwords is already up-to-date!\n"
          ],
          "name": "stdout"
        },
        {
          "output_type": "execute_result",
          "data": {
            "text/plain": [
              "True"
            ]
          },
          "metadata": {
            "tags": []
          },
          "execution_count": 20
        }
      ]
    },
    {
      "cell_type": "code",
      "metadata": {
        "id": "KarEHR7uIhsI",
        "colab_type": "code",
        "colab": {}
      },
      "source": [
        "from nltk.corpus import stopwords\n",
        "from nltk.stem import SnowballStemmer\n",
        "import re\n",
        "pd.options.mode.chained_assignment = None # Turning off warning\n",
        "def text_processing(text):\n",
        "  stemmer = SnowballStemmer('english')\n",
        "  text = re.sub(r'([0-9]+?)', '', text) \n",
        "  text = re.sub(r'  ', ' ', text)\n",
        "  text = re.sub(r'   ', ' ', text)\n",
        "  text = re.sub(r'(!|\"|#|\\$|%|&|\\'|\\(|\\)|\\*|\\+|,|-|\\.|/|:|;|<|=|>|\\?|@|\\[|\\\\|\\]|\\^|_|`|{|\\||}|~)+', ' ', text)\n",
        "  text = text.lower()\n",
        "  text = stemmer.stem(text)\n",
        "  text = text.strip()\n",
        "  text = [word for word in text.split() if word.lower() not in stopwords.words('english')]\n",
        "  return ' '.join(text)"
      ],
      "execution_count": 0,
      "outputs": []
    },
    {
      "cell_type": "code",
      "metadata": {
        "id": "BMqsaMeOI6oQ",
        "colab_type": "code",
        "colab": {}
      },
      "source": [
        "combined_df['JobDescription'] = combined_df['JobDescription'].apply(lambda x: text_processing(x))"
      ],
      "execution_count": 0,
      "outputs": []
    },
    {
      "cell_type": "code",
      "metadata": {
        "id": "9BT2Cg12JFs6",
        "colab_type": "code",
        "outputId": "68e82d45-325b-4180-f544-70f03c756b54",
        "colab": {
          "base_uri": "https://localhost:8080/",
          "height": 87
        }
      },
      "source": [
        "combined_df['JobDescription'].head(3)"
      ],
      "execution_count": 0,
      "outputs": [
        {
          "output_type": "execute_result",
          "data": {
            "text/plain": [
              "0    sef international growing universal credit org...\n",
              "1    accountant full time national staff position b...\n",
              "2    armenian forests ngo funding tufenkian foundat...\n",
              "Name: JobDescription, dtype: object"
            ]
          },
          "metadata": {
            "tags": []
          },
          "execution_count": 23
        }
      ]
    },
    {
      "cell_type": "code",
      "metadata": {
        "id": "GB_pp4tsJKaM",
        "colab_type": "code",
        "colab": {}
      },
      "source": [
        "len_for_training = len(labeled_df)"
      ],
      "execution_count": 0,
      "outputs": []
    },
    {
      "cell_type": "code",
      "metadata": {
        "id": "QXxOKi6cJKgv",
        "colab_type": "code",
        "outputId": "106ffd25-8f68-4945-f366-b9970e227687",
        "colab": {
          "base_uri": "https://localhost:8080/",
          "height": 638
        }
      },
      "source": [
        "combined_df['official job'][:len_for_training].value_counts()"
      ],
      "execution_count": 0,
      "outputs": [
        {
          "output_type": "execute_result",
          "data": {
            "text/plain": [
              "accountant                  250\n",
              "medical representative      187\n",
              "administrative assistant    177\n",
              "sales manager               143\n",
              "lawyer                      123\n",
              "software developer          121\n",
              "web developer                90\n",
              "java developer               87\n",
              "marketing specialist         65\n",
              "qa engineer                  65\n",
              "graphic designer             56\n",
              "it specialist                48\n",
              "translator                   45\n",
              "driver                       43\n",
              "journalist                   38\n",
              "credit officer               36\n",
              "foreign language teacher     35\n",
              "hr specialist                34\n",
              "secretary                    34\n",
              "technical writer             31\n",
              "chief financial officer      31\n",
              "financial analyst            29\n",
              "database developer           28\n",
              "procurement specialist       25\n",
              "intern                       24\n",
              "cook                         24\n",
              "deputy manager               23\n",
              "pharmacist                   21\n",
              "general manager              21\n",
              "salesperson                  20\n",
              "mechanical engineer          17\n",
              "electrical engineer          17\n",
              "recruiter                    17\n",
              "civil engineer               15\n",
              "Name: official job, dtype: int64"
            ]
          },
          "metadata": {
            "tags": []
          },
          "execution_count": 25
        }
      ]
    },
    {
      "cell_type": "markdown",
      "metadata": {
        "id": "NVNLncLGJcPV",
        "colab_type": "text"
      },
      "source": [
        "The distribution of each class is different so I will balance it first but before balancing, I want to vectorize the text into numbers and encode the 'official job' as 34 classes."
      ]
    },
    {
      "cell_type": "code",
      "metadata": {
        "id": "8-fzWa5dJg-F",
        "colab_type": "code",
        "colab": {}
      },
      "source": [
        "!pip install --quiet zeugma # zeugma package allows easy text embedding"
      ],
      "execution_count": 0,
      "outputs": []
    },
    {
      "cell_type": "code",
      "metadata": {
        "id": "GdElqolxJygv",
        "colab_type": "code",
        "outputId": "de3f3988-ee19-4d37-baff-0fa826341cf5",
        "colab": {
          "base_uri": "https://localhost:8080/",
          "height": 34
        }
      },
      "source": [
        "%tensorflow_version 2.x"
      ],
      "execution_count": 0,
      "outputs": [
        {
          "output_type": "stream",
          "text": [
            "TensorFlow 2.x selected.\n"
          ],
          "name": "stdout"
        }
      ]
    },
    {
      "cell_type": "code",
      "metadata": {
        "id": "2VMeKLZ9J0Au",
        "colab_type": "code",
        "outputId": "3dbd415f-9152-4899-c79a-7e8f8ab7ef08",
        "colab": {
          "base_uri": "https://localhost:8080/",
          "height": 90
        }
      },
      "source": [
        "from zeugma.embeddings import EmbeddingTransformer\n",
        "word2vec = EmbeddingTransformer('word2vec') #word2vec has worked well for me. can also use glove or fasttext."
      ],
      "execution_count": 0,
      "outputs": [
        {
          "output_type": "stream",
          "text": [
            "Using TensorFlow backend.\n",
            "/usr/local/lib/python3.6/dist-packages/smart_open/smart_open_lib.py:402: UserWarning: This function is deprecated, use smart_open.open instead. See the migration notes for details: https://github.com/RaRe-Technologies/smart_open/blob/master/README.rst#migrating-to-the-new-open-function\n",
            "  'See the migration notes for details: %s' % _MIGRATION_NOTES_URL\n"
          ],
          "name": "stderr"
        }
      ]
    },
    {
      "cell_type": "code",
      "metadata": {
        "id": "8XYw91peJ3iv",
        "colab_type": "code",
        "colab": {}
      },
      "source": [
        "from sklearn.preprocessing import LabelEncoder\n",
        "le = LabelEncoder()\n",
        "y = le.fit_transform(combined_df['official job'][:len_for_training])\n",
        "combined_X = word2vec.transform(combined_df['JobDescription'])"
      ],
      "execution_count": 0,
      "outputs": []
    },
    {
      "cell_type": "markdown",
      "metadata": {
        "id": "iTwrScvpDsr6",
        "colab_type": "text"
      },
      "source": [
        "Splitting the data into train and test before balancing so I don't oversample (duplicate) data into both train and test that will give better test accuracy than it should."
      ]
    },
    {
      "cell_type": "code",
      "metadata": {
        "id": "8dhlbvbOKJMP",
        "colab_type": "code",
        "colab": {}
      },
      "source": [
        "from sklearn.model_selection import train_test_split\n",
        "X_train, X_test, y_train, y_test = train_test_split(combined_X[:len_for_training], y, test_size = 0.3, random_state = 1)"
      ],
      "execution_count": 0,
      "outputs": []
    },
    {
      "cell_type": "markdown",
      "metadata": {
        "id": "OFNHJz6ZJ_ez",
        "colab_type": "text"
      },
      "source": [
        "Balancing the data with ADASYN"
      ]
    },
    {
      "cell_type": "code",
      "metadata": {
        "id": "mAQqYfgWJ3oa",
        "colab_type": "code",
        "colab": {}
      },
      "source": [
        "from imblearn.over_sampling import SMOTE\n",
        "import warnings\n",
        "warnings.filterwarnings(\"ignore\")\n",
        "sm = SMOTE(random_state = 0)\n",
        "X_res, y_res = sm.fit_resample(X_train, y_train)"
      ],
      "execution_count": 0,
      "outputs": []
    },
    {
      "cell_type": "markdown",
      "metadata": {
        "id": "XMGGFb1ZLRIe",
        "colab_type": "text"
      },
      "source": [
        "Making sure the classes are balanced now."
      ]
    },
    {
      "cell_type": "code",
      "metadata": {
        "id": "pn8MxTSmKGq8",
        "colab_type": "code",
        "outputId": "11a2a1f4-db2c-410f-921e-e1c772d2a6a1",
        "colab": {
          "base_uri": "https://localhost:8080/",
          "height": 52
        }
      },
      "source": [
        "from collections import Counter\n",
        "print('before:', sorted(Counter(y).items())[:5])\n",
        "print('after:', sorted(Counter(y_res).items())[:5])"
      ],
      "execution_count": 0,
      "outputs": [
        {
          "output_type": "stream",
          "text": [
            "before: [(0, 250), (1, 177), (2, 31), (3, 15), (4, 24)]\n",
            "after: [(0, 178), (1, 178), (2, 178), (3, 178), (4, 178)]\n"
          ],
          "name": "stdout"
        }
      ]
    },
    {
      "cell_type": "markdown",
      "metadata": {
        "id": "s203QMjXFuzo",
        "colab_type": "text"
      },
      "source": [
        "Perform SVC gridsearch to see how well the model can classify jobs based on job descriptions."
      ]
    },
    {
      "cell_type": "code",
      "metadata": {
        "id": "rY6n8tSPKJQM",
        "colab_type": "code",
        "outputId": "538ca7dc-fd05-4934-dcd0-fd87d5a39248",
        "colab": {
          "base_uri": "https://localhost:8080/",
          "height": 34
        }
      },
      "source": [
        "from sklearn.model_selection import GridSearchCV\n",
        "from sklearn.svm import SVC\n",
        "SVC_model = SVC()\n",
        "param_range = np.logspace(-1, 2, 4)\n",
        "param_grid = [\n",
        "              {'C':param_range,\n",
        "               'gamma':param_range}\n",
        "]\n",
        "gs = GridSearchCV(estimator = SVC_model,\n",
        "                  param_grid = param_grid,\n",
        "                  scoring = 'accuracy',\n",
        "                  cv = 3,\n",
        "                  n_jobs = -1)\n",
        "gs = gs.fit(X_res, y_res)\n",
        "print(gs.best_params_)\n"
      ],
      "execution_count": 0,
      "outputs": [
        {
          "output_type": "stream",
          "text": [
            "{'C': 100.0, 'gamma': 1.0}\n"
          ],
          "name": "stdout"
        }
      ]
    },
    {
      "cell_type": "code",
      "metadata": {
        "id": "6Y_xiBhmKJUn",
        "colab_type": "code",
        "colab": {}
      },
      "source": [
        "clf_optimized = SVC(C = 100, gamma = 1, probability = True)"
      ],
      "execution_count": 0,
      "outputs": []
    },
    {
      "cell_type": "code",
      "metadata": {
        "id": "3mQj0SF1TQjD",
        "colab_type": "code",
        "outputId": "6fcf95f4-ff99-4d3e-8df5-9e327777b6e3",
        "colab": {
          "base_uri": "https://localhost:8080/",
          "height": 34
        }
      },
      "source": [
        "clf_optimized.fit(X_res, y_res)\n",
        "print(\"The accuracy score of the optimized SVC model is: \", clf_optimized.score(X_test, y_test))"
      ],
      "execution_count": 0,
      "outputs": [
        {
          "output_type": "stream",
          "text": [
            "The accuracy score of the optimized SVC model is:  0.8960396039603961\n"
          ],
          "name": "stdout"
        }
      ]
    },
    {
      "cell_type": "code",
      "metadata": {
        "id": "jowBfa_OTjO3",
        "colab_type": "code",
        "colab": {}
      },
      "source": [
        "y_prediction = clf_optimized.predict(X_test)"
      ],
      "execution_count": 0,
      "outputs": []
    },
    {
      "cell_type": "markdown",
      "metadata": {
        "id": "W8Wjm49KUkqQ",
        "colab_type": "text"
      },
      "source": [
        "Since I have balanced the data, accuracy score should be sufficient to see how good the model is but I included other metrics just in case."
      ]
    },
    {
      "cell_type": "code",
      "metadata": {
        "id": "BVNcBFEdTavN",
        "colab_type": "code",
        "outputId": "e09b0145-0ddc-407c-b9b4-086844649d3b",
        "colab": {
          "base_uri": "https://localhost:8080/",
          "height": 70
        }
      },
      "source": [
        "from sklearn.metrics import recall_score, precision_score, f1_score\n",
        "print(\"Recall score: \", recall_score(y_prediction, y_test, average = 'macro'))\n",
        "print(\"Precision score: \", precision_score(y_prediction, y_test, average = 'macro'))\n",
        "print(\"F1 score: \", f1_score(y_prediction, y_test, average = 'macro'))"
      ],
      "execution_count": 0,
      "outputs": [
        {
          "output_type": "stream",
          "text": [
            "Recall score:  0.9121922230392984\n",
            "Precision score:  0.8593155135417474\n",
            "F1 score:  0.8750879750658813\n"
          ],
          "name": "stdout"
        }
      ]
    },
    {
      "cell_type": "markdown",
      "metadata": {
        "id": "YoPgdQ8eT_nF",
        "colab_type": "text"
      },
      "source": [
        "The job prediction based on job description is 89% accurate. It's pretty good so I can use this model to classify the jobs using description. Note that the model was only trained on the jobs in the job title list. For jobs that are not similar to the ones in the list, the model is not expected to perform well. As a result, I used the model that can predict with > 60% probability to classify a job into one of the classes as the true label. Otherwise, I will just leave those out."
      ]
    },
    {
      "cell_type": "code",
      "metadata": {
        "id": "7RlBNxX9YGMo",
        "colab_type": "code",
        "colab": {}
      },
      "source": [
        "above_60_index = combined_df['official job'][len_for_training:][clf_optimized.predict_proba(combined_X[len_for_training:]).max(axis = 1) > 0.6].index"
      ],
      "execution_count": 0,
      "outputs": []
    },
    {
      "cell_type": "markdown",
      "metadata": {
        "id": "af7ptJKQIURP",
        "colab_type": "text"
      },
      "source": [
        "Giving each job a standard title if the probability is > 60% and then save these rows for a new table."
      ]
    },
    {
      "cell_type": "code",
      "metadata": {
        "id": "PTVpoCXhUbCK",
        "colab_type": "code",
        "colab": {}
      },
      "source": [
        "prediction = le.inverse_transform(clf_optimized.predict(combined_X[len_for_training:]))[above_60_index-len_for_training]\n",
        "various_title = combined_df['various job'][above_60_index].values\n",
        "job_description = combined_df['JobDescription'][above_60_index].values"
      ],
      "execution_count": 0,
      "outputs": []
    },
    {
      "cell_type": "code",
      "metadata": {
        "id": "8oDbAnYwTzaF",
        "colab_type": "code",
        "colab": {}
      },
      "source": [
        "title_output_df = pd.DataFrame(columns = ['various job', 'official job','JobDescription'])\n",
        "title_output_df['various job'] = various_title\n",
        "title_output_df['official job'] = prediction\n",
        "title_output_df['JobDescription'] = job_description"
      ],
      "execution_count": 0,
      "outputs": []
    },
    {
      "cell_type": "code",
      "metadata": {
        "id": "ZaTRrZ8QWwq8",
        "colab_type": "code",
        "outputId": "f755e402-8836-4810-a228-f127075d1b8b",
        "colab": {
          "base_uri": "https://localhost:8080/",
          "height": 227
        }
      },
      "source": [
        "title_output_df[title_output_df.duplicated(['various job'])][:6]"
      ],
      "execution_count": 0,
      "outputs": [
        {
          "output_type": "execute_result",
          "data": {
            "text/html": [
              "<div>\n",
              "<style scoped>\n",
              "    .dataframe tbody tr th:only-of-type {\n",
              "        vertical-align: middle;\n",
              "    }\n",
              "\n",
              "    .dataframe tbody tr th {\n",
              "        vertical-align: top;\n",
              "    }\n",
              "\n",
              "    .dataframe thead th {\n",
              "        text-align: right;\n",
              "    }\n",
              "</style>\n",
              "<table border=\"1\" class=\"dataframe\">\n",
              "  <thead>\n",
              "    <tr style=\"text-align: right;\">\n",
              "      <th></th>\n",
              "      <th>various job</th>\n",
              "      <th>official job</th>\n",
              "      <th>JobDescription</th>\n",
              "    </tr>\n",
              "  </thead>\n",
              "  <tbody>\n",
              "    <tr>\n",
              "      <th>18</th>\n",
              "      <td>.net c#/ c++ software developer</td>\n",
              "      <td>software developer</td>\n",
              "      <td>altacode ltd looking highly qualified motivate...</td>\n",
              "    </tr>\n",
              "    <tr>\n",
              "      <th>19</th>\n",
              "      <td>.net c#/ c++ software developer</td>\n",
              "      <td>software developer</td>\n",
              "      <td>altacode ltd looking highly qualified motivate...</td>\n",
              "    </tr>\n",
              "    <tr>\n",
              "      <th>20</th>\n",
              "      <td>.net c#/ c++ software developer</td>\n",
              "      <td>software developer</td>\n",
              "      <td>altacode ltd looking highly qualified motivate...</td>\n",
              "    </tr>\n",
              "    <tr>\n",
              "      <th>22</th>\n",
              "      <td>.net developer</td>\n",
              "      <td>java developer</td>\n",
              "      <td>responsibilities position focused software dev...</td>\n",
              "    </tr>\n",
              "    <tr>\n",
              "      <th>23</th>\n",
              "      <td>.net developer</td>\n",
              "      <td>web developer</td>\n",
              "      <td>toto international bookmakers zep zepyur llc l...</td>\n",
              "    </tr>\n",
              "    <tr>\n",
              "      <th>24</th>\n",
              "      <td>.net developer</td>\n",
              "      <td>web developer</td>\n",
              "      <td>net developer incumbent help build company nex...</td>\n",
              "    </tr>\n",
              "  </tbody>\n",
              "</table>\n",
              "</div>"
            ],
            "text/plain": [
              "                        various job  ...                                     JobDescription\n",
              "18  .net c#/ c++ software developer  ...  altacode ltd looking highly qualified motivate...\n",
              "19  .net c#/ c++ software developer  ...  altacode ltd looking highly qualified motivate...\n",
              "20  .net c#/ c++ software developer  ...  altacode ltd looking highly qualified motivate...\n",
              "22                   .net developer  ...  responsibilities position focused software dev...\n",
              "23                   .net developer  ...  toto international bookmakers zep zepyur llc l...\n",
              "24                   .net developer  ...  net developer incumbent help build company nex...\n",
              "\n",
              "[6 rows x 3 columns]"
            ]
          },
          "metadata": {
            "tags": []
          },
          "execution_count": 46
        }
      ]
    },
    {
      "cell_type": "markdown",
      "metadata": {
        "id": "3u9kCYDQX5qM",
        "colab_type": "text"
      },
      "source": [
        "It is not useful to have actual titles that are duplicated so I will drop them."
      ]
    },
    {
      "cell_type": "code",
      "metadata": {
        "id": "F0UDbNrvTzeD",
        "colab_type": "code",
        "colab": {}
      },
      "source": [
        "title_output_df = title_output_df.drop_duplicates(subset = ['various job'])"
      ],
      "execution_count": 0,
      "outputs": []
    },
    {
      "cell_type": "code",
      "metadata": {
        "id": "C4qtnAYmTziR",
        "colab_type": "code",
        "outputId": "3a5c9367-e869-4337-f5fb-f5da2455e9d8",
        "colab": {
          "base_uri": "https://localhost:8080/",
          "height": 34
        }
      },
      "source": [
        "len(title_output_df)"
      ],
      "execution_count": 0,
      "outputs": [
        {
          "output_type": "execute_result",
          "data": {
            "text/plain": [
              "1896"
            ]
          },
          "metadata": {
            "tags": []
          },
          "execution_count": 48
        }
      ]
    },
    {
      "cell_type": "markdown",
      "metadata": {
        "id": "SoDNuljjaCKg",
        "colab_type": "text"
      },
      "source": [
        "Validate the data that I've given labels to (didn't have 'official job' before)and see how robust the classification did. "
      ]
    },
    {
      "cell_type": "code",
      "metadata": {
        "id": "nSXQ8qDemySX",
        "colab_type": "code",
        "colab": {}
      },
      "source": [
        "new_y_pred = clf_optimized.predict(combined_X[len_for_training:])"
      ],
      "execution_count": 0,
      "outputs": []
    },
    {
      "cell_type": "code",
      "metadata": {
        "id": "RhV-3wAsZ9Nb",
        "colab_type": "code",
        "outputId": "7794d7b5-5c67-4124-bb8c-b1ef603153d7",
        "colab": {
          "base_uri": "https://localhost:8080/",
          "height": 34
        }
      },
      "source": [
        "clf_optimized.score(combined_X[len_for_training:], new_y_pred) #100% accuracy"
      ],
      "execution_count": 0,
      "outputs": [
        {
          "output_type": "execute_result",
          "data": {
            "text/plain": [
              "1.0"
            ]
          },
          "metadata": {
            "tags": []
          },
          "execution_count": 51
        }
      ]
    },
    {
      "cell_type": "code",
      "metadata": {
        "id": "IWcinhRMWwHM",
        "colab_type": "code",
        "colab": {}
      },
      "source": [
        "title_output_df.to_csv('title_output_final.txt', sep = '\\t', index = False)"
      ],
      "execution_count": 0,
      "outputs": []
    },
    {
      "cell_type": "code",
      "metadata": {
        "id": "kgFU4dgVnHge",
        "colab_type": "code",
        "colab": {}
      },
      "source": [
        "files.download('title_output_final.txt')"
      ],
      "execution_count": 0,
      "outputs": []
    }
  ]
}