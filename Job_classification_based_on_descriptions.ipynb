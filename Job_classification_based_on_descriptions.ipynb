{
  "nbformat": 4,
  "nbformat_minor": 0,
  "metadata": {
    "colab": {
      "name": "Job-classification-based-on-descriptions.ipynb",
      "provenance": [],
      "authorship_tag": "ABX9TyMI5c6x3sDWyXsz7+a50pLc",
      "include_colab_link": true
    },
    "kernelspec": {
      "name": "python3",
      "display_name": "Python 3"
    }
  },
  "cells": [
    {
      "cell_type": "markdown",
      "metadata": {
        "id": "view-in-github",
        "colab_type": "text"
      },
      "source": [
        "<a href=\"https://colab.research.google.com/github/bbchen33/Insight-project/blob/master/Job_classification_based_on_descriptions.ipynb\" target=\"_parent\"><img src=\"https://colab.research.google.com/assets/colab-badge.svg\" alt=\"Open In Colab\"/></a>"
      ]
    },
    {
      "cell_type": "markdown",
      "metadata": {
        "id": "NDnMRHSmB3-R",
        "colab_type": "text"
      },
      "source": [
        "Below is a list of job titles I found to be more abundant in the data I am working with so I will use them as the labels to categorize the rest of the job titles. Original dataset is from Kaggle https://www.kaggle.com/madhab/jobposts."
      ]
    },
    {
      "cell_type": "code",
      "metadata": {
        "id": "k9y5CHXHCbxy",
        "colab_type": "code",
        "colab": {}
      },
      "source": [
        "import pandas as pd\n",
        "job_posts_labeled = pd.read_csv('job_posts_labeled_all_labeled.txt', sep = '\\t')"
      ],
      "execution_count": 0,
      "outputs": []
    },
    {
      "cell_type": "markdown",
      "metadata": {
        "id": "Xisr_PXvDAZS",
        "colab_type": "text"
      },
      "source": [
        "'various job' = actual job titles in the data; 'official job' = the standardardized format of a job (e.g. accountant for financial specialist or financial manager) but right now it is mostly just copy from 'various job'. The 'official job' is the label I'll give each job at the end of my training. "
      ]
    },
    {
      "cell_type": "markdown",
      "metadata": {
        "id": "09_op93aCy04",
        "colab_type": "text"
      },
      "source": [
        "I'm dropping rows with na in the 'various job' column since the actual job titles is what I want. "
      ]
    },
    {
      "cell_type": "code",
      "metadata": {
        "id": "rkgeexlECwlI",
        "colab_type": "code",
        "colab": {}
      },
      "source": [
        "job_posts_labeled = job_posts_labeled.dropna(subset=['various job'])"
      ],
      "execution_count": 0,
      "outputs": []
    },
    {
      "cell_type": "code",
      "metadata": {
        "id": "8f_1TMb4Cpmw",
        "colab_type": "code",
        "outputId": "3d77a01b-2781-4ef2-bdbb-41c77a81de1e",
        "colab": {
          "base_uri": "https://localhost:8080/",
          "height": 297
        }
      },
      "source": [
        "job_posts_labeled.head()"
      ],
      "execution_count": 0,
      "outputs": [
        {
          "output_type": "execute_result",
          "data": {
            "text/html": [
              "<div>\n",
              "<style scoped>\n",
              "    .dataframe tbody tr th:only-of-type {\n",
              "        vertical-align: middle;\n",
              "    }\n",
              "\n",
              "    .dataframe tbody tr th {\n",
              "        vertical-align: top;\n",
              "    }\n",
              "\n",
              "    .dataframe thead th {\n",
              "        text-align: right;\n",
              "    }\n",
              "</style>\n",
              "<table border=\"1\" class=\"dataframe\">\n",
              "  <thead>\n",
              "    <tr style=\"text-align: right;\">\n",
              "      <th></th>\n",
              "      <th>various job</th>\n",
              "      <th>official job</th>\n",
              "      <th>Company</th>\n",
              "      <th>JobDescription</th>\n",
              "      <th>JobRequirment</th>\n",
              "      <th>RequiredQual</th>\n",
              "    </tr>\n",
              "  </thead>\n",
              "  <tbody>\n",
              "    <tr>\n",
              "      <th>0</th>\n",
              "      <td>Editor</td>\n",
              "      <td>Editor</td>\n",
              "      <td>News.am Information-Analytic Agency</td>\n",
              "      <td>The incumbent will be responsible for agency's...</td>\n",
              "      <td>NaN</td>\n",
              "      <td>- Higher education;\\r\\n- Good knowledge of Eng...</td>\n",
              "    </tr>\n",
              "    <tr>\n",
              "      <th>1</th>\n",
              "      <td>News Editor</td>\n",
              "      <td>Editor</td>\n",
              "      <td>BlogNews.am</td>\n",
              "      <td>BlogNews.am is looking for a News Editor. He/ ...</td>\n",
              "      <td>NaN</td>\n",
              "      <td>- At least Bachelor's degree in Journalism or ...</td>\n",
              "    </tr>\n",
              "    <tr>\n",
              "      <th>2</th>\n",
              "      <td>HR Assistant</td>\n",
              "      <td>HR specialist</td>\n",
              "      <td>Career Center</td>\n",
              "      <td>We have a new opening for the position of HR A...</td>\n",
              "      <td>Main duties include but are not limited to the...</td>\n",
              "      <td>- Relevant graduate degree;\\r\\n- Fluent writte...</td>\n",
              "    </tr>\n",
              "    <tr>\n",
              "      <th>3</th>\n",
              "      <td>HR Assistant</td>\n",
              "      <td>HR specialist</td>\n",
              "      <td>Career Center</td>\n",
              "      <td>We have a new opening for the position of HR A...</td>\n",
              "      <td>Main duties include but are not limited to the...</td>\n",
              "      <td>- Relevant graduate degree;\\r\\n- Fluent writte...</td>\n",
              "    </tr>\n",
              "    <tr>\n",
              "      <th>4</th>\n",
              "      <td>HR Assistant</td>\n",
              "      <td>HR specialist</td>\n",
              "      <td>Career Center</td>\n",
              "      <td>We have a new opening for the position of HR A...</td>\n",
              "      <td>Main duties include but are not limited to the...</td>\n",
              "      <td>- Relevant graduate degree;\\r\\n- Fluent writte...</td>\n",
              "    </tr>\n",
              "  </tbody>\n",
              "</table>\n",
              "</div>"
            ],
            "text/plain": [
              "    various job  ...                                       RequiredQual\n",
              "0        Editor  ...  - Higher education;\\r\\n- Good knowledge of Eng...\n",
              "1   News Editor  ...  - At least Bachelor's degree in Journalism or ...\n",
              "2  HR Assistant  ...  - Relevant graduate degree;\\r\\n- Fluent writte...\n",
              "3  HR Assistant  ...  - Relevant graduate degree;\\r\\n- Fluent writte...\n",
              "4  HR Assistant  ...  - Relevant graduate degree;\\r\\n- Fluent writte...\n",
              "\n",
              "[5 rows x 6 columns]"
            ]
          },
          "metadata": {
            "tags": []
          },
          "execution_count": 28
        }
      ]
    },
    {
      "cell_type": "code",
      "metadata": {
        "id": "RNZSf-meDSMe",
        "colab_type": "code",
        "outputId": "b7791413-4f42-40b6-8229-2603ab004f74",
        "colab": {
          "base_uri": "https://localhost:8080/",
          "height": 34
        }
      },
      "source": [
        "len(job_posts_labeled)"
      ],
      "execution_count": 0,
      "outputs": [
        {
          "output_type": "execute_result",
          "data": {
            "text/plain": [
              "15090"
            ]
          },
          "metadata": {
            "tags": []
          },
          "execution_count": 29
        }
      ]
    },
    {
      "cell_type": "markdown",
      "metadata": {
        "id": "VHAWO73HCsne",
        "colab_type": "text"
      },
      "source": [
        "I have found that the 'JobDescription' is most useful for getting good classification so I will only save 'various job', 'official job' and 'JobDescription' for my actual training."
      ]
    },
    {
      "cell_type": "code",
      "metadata": {
        "id": "J6rgB8qSD_gy",
        "colab_type": "code",
        "colab": {}
      },
      "source": [
        "job_posts_features = job_posts_labeled[['various job','official job','JobDescription']]"
      ],
      "execution_count": 0,
      "outputs": []
    },
    {
      "cell_type": "markdown",
      "metadata": {
        "id": "lxSIQOIWEDCy",
        "colab_type": "text"
      },
      "source": [
        "Below is a list of job titles (52) that I hand picked and decided that they were common enough to be used to categorize most of the jobs in my data set. "
      ]
    },
    {
      "cell_type": "code",
      "metadata": {
        "id": "_9YyJkptD_p4",
        "colab_type": "code",
        "colab": {}
      },
      "source": [
        "job_titles = 'accountant, bartender, chef, chief financial officer, civil engineer, editor, research assistant, marketing specialist, salesperson, software developer, software engineer, data scientist, volunteer, lawyer, graphic designer, ceo, it specialist, project manager, product manager, technical writer, journalist, medical doctor, pharmacist, translator, qa engineer, receptionist/ administrative assistant, recruiter, hr specialist, secretary, java developer, web developer, foreign language teacher, tour guide, president, mechanical engineer, electrical engineer, driver, professor, copywriter, intern, financial analyst, general manager, procurement specialist, sales manager, insurance agent, medical representative, credit officer, database developer, deputy manager, real estate agent, data entry clerk, ai engineer'"
      ],
      "execution_count": 0,
      "outputs": []
    },
    {
      "cell_type": "code",
      "metadata": {
        "id": "u3ZF5t2dD_xG",
        "colab_type": "code",
        "outputId": "fb9763fc-9323-40f2-8efa-4df5ed529515",
        "colab": {
          "base_uri": "https://localhost:8080/",
          "height": 34
        }
      },
      "source": [
        "job_titles = job_titles.split(', ')\n",
        "len(job_titles)"
      ],
      "execution_count": 0,
      "outputs": [
        {
          "output_type": "execute_result",
          "data": {
            "text/plain": [
              "52"
            ]
          },
          "metadata": {
            "tags": []
          },
          "execution_count": 32
        }
      ]
    },
    {
      "cell_type": "markdown",
      "metadata": {
        "id": "k36Kap6hETVr",
        "colab_type": "text"
      },
      "source": [
        "Lowercase for all job titles so I can have a better chance of matching the 'vaious job' and 'official job'."
      ]
    },
    {
      "cell_type": "code",
      "metadata": {
        "id": "VNVGqjTXEOcp",
        "colab_type": "code",
        "outputId": "bb4fb811-0bbf-4082-e200-648257661469",
        "colab": {
          "base_uri": "https://localhost:8080/",
          "height": 230
        }
      },
      "source": [
        "job_posts_features['official job'] = job_posts_features['official job'].str.lower()\n",
        "job_posts_features['various job'] = job_posts_features['various job'].str.lower()"
      ],
      "execution_count": 0,
      "outputs": [
        {
          "output_type": "stream",
          "text": [
            "/usr/local/lib/python3.6/dist-packages/ipykernel_launcher.py:1: SettingWithCopyWarning: \n",
            "A value is trying to be set on a copy of a slice from a DataFrame.\n",
            "Try using .loc[row_indexer,col_indexer] = value instead\n",
            "\n",
            "See the caveats in the documentation: http://pandas.pydata.org/pandas-docs/stable/user_guide/indexing.html#returning-a-view-versus-a-copy\n",
            "  \"\"\"Entry point for launching an IPython kernel.\n",
            "/usr/local/lib/python3.6/dist-packages/ipykernel_launcher.py:2: SettingWithCopyWarning: \n",
            "A value is trying to be set on a copy of a slice from a DataFrame.\n",
            "Try using .loc[row_indexer,col_indexer] = value instead\n",
            "\n",
            "See the caveats in the documentation: http://pandas.pydata.org/pandas-docs/stable/user_guide/indexing.html#returning-a-view-versus-a-copy\n",
            "  \n"
          ],
          "name": "stderr"
        }
      ]
    },
    {
      "cell_type": "markdown",
      "metadata": {
        "id": "xE2wc76oIF3N",
        "colab_type": "text"
      },
      "source": [
        "Finding the index where the official job is in my list of job titles so I select them for training."
      ]
    },
    {
      "cell_type": "code",
      "metadata": {
        "id": "cOyK9x9XESh2",
        "colab_type": "code",
        "colab": {}
      },
      "source": [
        "index_list = []\n",
        "for job in job_titles:\n",
        "  job_index = job_posts_features[job_posts_features['official job'] == job].index\n",
        "  if len(job_index) >= 15:\n",
        "    index_list.append(job_index)"
      ],
      "execution_count": 0,
      "outputs": []
    },
    {
      "cell_type": "markdown",
      "metadata": {
        "id": "V3PhNp0ZH1lk",
        "colab_type": "text"
      },
      "source": [
        "I only want to train on data with 15 or more rows so the model can do well for unseen data in the future."
      ]
    },
    {
      "cell_type": "code",
      "metadata": {
        "id": "S6sJqmRHHQOx",
        "colab_type": "code",
        "outputId": "d1a2137e-d88b-45bd-9c36-2d13f24452d1",
        "colab": {
          "base_uri": "https://localhost:8080/",
          "height": 34
        }
      },
      "source": [
        "len(index_list)"
      ],
      "execution_count": 0,
      "outputs": [
        {
          "output_type": "execute_result",
          "data": {
            "text/plain": [
              "34"
            ]
          },
          "metadata": {
            "tags": []
          },
          "execution_count": 37
        }
      ]
    },
    {
      "cell_type": "code",
      "metadata": {
        "id": "lZyk0-q7HRc7",
        "colab_type": "code",
        "outputId": "066b915d-3fe0-4cb9-8e04-cb22431d4a72",
        "colab": {
          "base_uri": "https://localhost:8080/",
          "height": 141
        }
      },
      "source": [
        "index_list[:2]"
      ],
      "execution_count": 0,
      "outputs": [
        {
          "output_type": "execute_result",
          "data": {
            "text/plain": [
              "[Int64Index([343, 344, 345, 346, 347, 348, 349, 350, 351, 352,\n",
              "             ...\n",
              "             583, 584, 585, 586, 587, 588, 589, 590, 591, 592],\n",
              "            dtype='int64', length=250),\n",
              " Int64Index([  33,   34,   35,   36,   37,   38,   39,   40,   41,   42,   43,\n",
              "               44,   45,   46,   47,   48,   49,   50,   51, 2386, 2387, 2388],\n",
              "            dtype='int64')]"
            ]
          },
          "metadata": {
            "tags": []
          },
          "execution_count": 38
        }
      ]
    },
    {
      "cell_type": "code",
      "metadata": {
        "id": "lRoX74xCHRhH",
        "colab_type": "code",
        "colab": {}
      },
      "source": [
        "import numpy as np\n",
        "index_combined = np.concatenate(index_list)"
      ],
      "execution_count": 0,
      "outputs": []
    },
    {
      "cell_type": "code",
      "metadata": {
        "id": "lVQ8pyEkHRlD",
        "colab_type": "code",
        "outputId": "11bc3467-11f4-404d-dce4-3beccb91b6f6",
        "colab": {
          "base_uri": "https://localhost:8080/",
          "height": 34
        }
      },
      "source": [
        "len(index_combined)"
      ],
      "execution_count": 0,
      "outputs": [
        {
          "output_type": "execute_result",
          "data": {
            "text/plain": [
              "2025"
            ]
          },
          "metadata": {
            "tags": []
          },
          "execution_count": 40
        }
      ]
    },
    {
      "cell_type": "markdown",
      "metadata": {
        "id": "eG3M-_U-IQr-",
        "colab_type": "text"
      },
      "source": [
        "I called the ones with exactly the same labels as the handlabeled titles \"labeled_df\" for training my model while the rest as \"unlabeled_df\" to predict their \"standard job titles\" with my model."
      ]
    },
    {
      "cell_type": "code",
      "metadata": {
        "id": "B9YqXJ3_HRp8",
        "colab_type": "code",
        "colab": {}
      },
      "source": [
        "labeled_df = job_posts_features[['various job','official job', 'JobDescription']]\n",
        "labeled_df = labeled_df.iloc[index_combined]\n",
        "labeled_df = labeled_df.reset_index(drop = True)"
      ],
      "execution_count": 0,
      "outputs": []
    },
    {
      "cell_type": "code",
      "metadata": {
        "id": "_TqPrzUHIdCT",
        "colab_type": "code",
        "colab": {}
      },
      "source": [
        "unlabeled_df = job_posts_features[['various job','official job', 'JobDescription']]\n",
        "unlabeled_df = unlabeled_df[~unlabeled_df.index.isin(index_combined)]\n",
        "unlabeled_df = unlabeled_df.reset_index(drop = True)"
      ],
      "execution_count": 0,
      "outputs": []
    },
    {
      "cell_type": "code",
      "metadata": {
        "id": "d44bh6SpIepw",
        "colab_type": "code",
        "colab": {}
      },
      "source": [
        "combined_df = pd.concat([labeled_df, unlabeled_df], axis = 0)\n",
        "combined_df = combined_df.reset_index(drop = True)"
      ],
      "execution_count": 0,
      "outputs": []
    },
    {
      "cell_type": "markdown",
      "metadata": {
        "id": "YP5aBEoXImUD",
        "colab_type": "text"
      },
      "source": [
        "Now the 'combined_df' is the dataframe for training a model. I'll do some text preprocessing on the job description."
      ]
    },
    {
      "cell_type": "code",
      "metadata": {
        "id": "UR2LJ4NBIhjS",
        "colab_type": "code",
        "outputId": "d6ce4ba7-a6e6-4a86-fd45-401b984b0b1e",
        "colab": {
          "base_uri": "https://localhost:8080/",
          "height": 70
        }
      },
      "source": [
        "import nltk\n",
        "nltk.download('stopwords')"
      ],
      "execution_count": 3,
      "outputs": [
        {
          "output_type": "stream",
          "text": [
            "[nltk_data] Downloading package stopwords to /root/nltk_data...\n",
            "[nltk_data]   Unzipping corpora/stopwords.zip.\n"
          ],
          "name": "stdout"
        },
        {
          "output_type": "execute_result",
          "data": {
            "text/plain": [
              "True"
            ]
          },
          "metadata": {
            "tags": []
          },
          "execution_count": 3
        }
      ]
    },
    {
      "cell_type": "code",
      "metadata": {
        "id": "KarEHR7uIhsI",
        "colab_type": "code",
        "colab": {}
      },
      "source": [
        "from nltk.corpus import stopwords\n",
        "from nltk.stem import SnowballStemmer\n",
        "import re\n",
        "pd.options.mode.chained_assignment = None # Turning off warning\n",
        "def text_processing(text):\n",
        "  stemmer = SnowballStemmer('english')\n",
        "  text = re.sub(r'([0-9]+?)', '', text) \n",
        "  text = re.sub(r'  ', ' ', text)\n",
        "  text = re.sub(r'   ', ' ', text)\n",
        "  text = re.sub(r'(!|\"|#|\\$|%|&|\\'|\\(|\\)|\\*|\\+|,|-|\\.|/|:|;|<|=|>|\\?|@|\\[|\\\\|\\]|\\^|_|`|{|\\||}|~)+', ' ', text)\n",
        "  text = text.lower()\n",
        "  text = stemmer.stem(text)\n",
        "  text = text.strip()\n",
        "  text = [word for word in text.split() if word.lower() not in stopwords.words('english')]\n",
        "  return ' '.join(text)"
      ],
      "execution_count": 0,
      "outputs": []
    },
    {
      "cell_type": "code",
      "metadata": {
        "id": "BMqsaMeOI6oQ",
        "colab_type": "code",
        "colab": {}
      },
      "source": [
        "combined_df['JobDescription'] = combined_df['JobDescription'].apply(lambda x: text_processing(x))"
      ],
      "execution_count": 0,
      "outputs": []
    },
    {
      "cell_type": "code",
      "metadata": {
        "id": "9BT2Cg12JFs6",
        "colab_type": "code",
        "outputId": "6011604e-1730-4d33-9b9d-3b5f3b377940",
        "colab": {
          "base_uri": "https://localhost:8080/",
          "height": 87
        }
      },
      "source": [
        "combined_df['JobDescription'].head(3)"
      ],
      "execution_count": 11,
      "outputs": [
        {
          "output_type": "execute_result",
          "data": {
            "text/plain": [
              "0    sef international growing universal credit org...\n",
              "1    accountant full time national staff position b...\n",
              "2    armenian forests ngo funding tufenkian foundat...\n",
              "Name: JobDescription, dtype: object"
            ]
          },
          "metadata": {
            "tags": []
          },
          "execution_count": 11
        }
      ]
    },
    {
      "cell_type": "code",
      "metadata": {
        "id": "GB_pp4tsJKaM",
        "colab_type": "code",
        "colab": {}
      },
      "source": [
        "len_for_training = len(labeled_df)"
      ],
      "execution_count": 0,
      "outputs": []
    },
    {
      "cell_type": "code",
      "metadata": {
        "id": "QXxOKi6cJKgv",
        "colab_type": "code",
        "outputId": "9660902d-579d-4253-85ed-c63c7d5c770c",
        "colab": {
          "base_uri": "https://localhost:8080/",
          "height": 638
        }
      },
      "source": [
        "combined_df['official job'][:len_for_training].value_counts()"
      ],
      "execution_count": 13,
      "outputs": [
        {
          "output_type": "execute_result",
          "data": {
            "text/plain": [
              "accountant                                250\n",
              "medical representative                    187\n",
              "sales manager                             143\n",
              "lawyer                                    123\n",
              "software developer                        121\n",
              "project manager                           102\n",
              "web developer                              90\n",
              "java developer                             87\n",
              "receptionist/ administrative assistant     74\n",
              "software engineer                          65\n",
              "marketing specialist                       65\n",
              "qa engineer                                65\n",
              "graphic designer                           56\n",
              "it specialist                              48\n",
              "translator                                 45\n",
              "driver                                     43\n",
              "journalist                                 37\n",
              "credit officer                             36\n",
              "foreign language teacher                   35\n",
              "secretary                                  34\n",
              "hr specialist                              33\n",
              "chief financial officer                    30\n",
              "financial analyst                          29\n",
              "database developer                         28\n",
              "technical writer                           26\n",
              "procurement specialist                     25\n",
              "chef                                       22\n",
              "general manager                            21\n",
              "salesperson                                20\n",
              "pharmacist                                 18\n",
              "product manager                            18\n",
              "electrical engineer                        17\n",
              "recruiter                                  17\n",
              "civil engineer                             15\n",
              "Name: official job, dtype: int64"
            ]
          },
          "metadata": {
            "tags": []
          },
          "execution_count": 13
        }
      ]
    },
    {
      "cell_type": "markdown",
      "metadata": {
        "id": "NVNLncLGJcPV",
        "colab_type": "text"
      },
      "source": [
        "The distribution of each class is different so I will balance it first but before balancing, I want to vectorize the text into numbers and encode the 'official job' as 34 classes."
      ]
    },
    {
      "cell_type": "code",
      "metadata": {
        "id": "8-fzWa5dJg-F",
        "colab_type": "code",
        "outputId": "c19b5eb0-b057-492d-84e2-8e1c98a5d613",
        "colab": {
          "base_uri": "https://localhost:8080/",
          "height": 961
        }
      },
      "source": [
        "!pip install zeugma # zeugma package allows easy text embedding"
      ],
      "execution_count": 14,
      "outputs": [
        {
          "output_type": "stream",
          "text": [
            "Collecting zeugma\n",
            "  Downloading https://files.pythonhosted.org/packages/37/06/987f0c591e4f46fc31446d541d17d63981394f099c455955680dfe7bd980/zeugma-0.46.tar.gz\n",
            "Requirement already satisfied: numpy>=1.13.3 in /usr/local/lib/python3.6/dist-packages (from zeugma) (1.17.5)\n",
            "Requirement already satisfied: Cython>=0.27.3 in /usr/local/lib/python3.6/dist-packages (from zeugma) (0.29.14)\n",
            "Requirement already satisfied: pandas>=0.20.3 in /usr/local/lib/python3.6/dist-packages (from zeugma) (0.25.3)\n",
            "Requirement already satisfied: gensim>=3.5.0 in /usr/local/lib/python3.6/dist-packages (from zeugma) (3.6.0)\n",
            "Requirement already satisfied: scikit_learn>=0.19.1 in /usr/local/lib/python3.6/dist-packages (from zeugma) (0.22.1)\n",
            "Requirement already satisfied: tensorflow>=1.5.0 in /usr/local/lib/python3.6/dist-packages (from zeugma) (1.15.0)\n",
            "Requirement already satisfied: keras>=2.1.3 in /usr/local/lib/python3.6/dist-packages (from zeugma) (2.2.5)\n",
            "Requirement already satisfied: pytz>=2017.2 in /usr/local/lib/python3.6/dist-packages (from pandas>=0.20.3->zeugma) (2018.9)\n",
            "Requirement already satisfied: python-dateutil>=2.6.1 in /usr/local/lib/python3.6/dist-packages (from pandas>=0.20.3->zeugma) (2.6.1)\n",
            "Requirement already satisfied: six>=1.5.0 in /usr/local/lib/python3.6/dist-packages (from gensim>=3.5.0->zeugma) (1.12.0)\n",
            "Requirement already satisfied: scipy>=0.18.1 in /usr/local/lib/python3.6/dist-packages (from gensim>=3.5.0->zeugma) (1.4.1)\n",
            "Requirement already satisfied: smart-open>=1.2.1 in /usr/local/lib/python3.6/dist-packages (from gensim>=3.5.0->zeugma) (1.9.0)\n",
            "Requirement already satisfied: joblib>=0.11 in /usr/local/lib/python3.6/dist-packages (from scikit_learn>=0.19.1->zeugma) (0.14.1)\n",
            "Requirement already satisfied: grpcio>=1.8.6 in /usr/local/lib/python3.6/dist-packages (from tensorflow>=1.5.0->zeugma) (1.15.0)\n",
            "Requirement already satisfied: protobuf>=3.6.1 in /usr/local/lib/python3.6/dist-packages (from tensorflow>=1.5.0->zeugma) (3.10.0)\n",
            "Requirement already satisfied: keras-preprocessing>=1.0.5 in /usr/local/lib/python3.6/dist-packages (from tensorflow>=1.5.0->zeugma) (1.1.0)\n",
            "Requirement already satisfied: google-pasta>=0.1.6 in /usr/local/lib/python3.6/dist-packages (from tensorflow>=1.5.0->zeugma) (0.1.8)\n",
            "Requirement already satisfied: tensorflow-estimator==1.15.1 in /usr/local/lib/python3.6/dist-packages (from tensorflow>=1.5.0->zeugma) (1.15.1)\n",
            "Requirement already satisfied: opt-einsum>=2.3.2 in /usr/local/lib/python3.6/dist-packages (from tensorflow>=1.5.0->zeugma) (3.1.0)\n",
            "Requirement already satisfied: wheel>=0.26 in /usr/local/lib/python3.6/dist-packages (from tensorflow>=1.5.0->zeugma) (0.34.2)\n",
            "Requirement already satisfied: keras-applications>=1.0.8 in /usr/local/lib/python3.6/dist-packages (from tensorflow>=1.5.0->zeugma) (1.0.8)\n",
            "Requirement already satisfied: tensorboard<1.16.0,>=1.15.0 in /usr/local/lib/python3.6/dist-packages (from tensorflow>=1.5.0->zeugma) (1.15.0)\n",
            "Requirement already satisfied: termcolor>=1.1.0 in /usr/local/lib/python3.6/dist-packages (from tensorflow>=1.5.0->zeugma) (1.1.0)\n",
            "Requirement already satisfied: astor>=0.6.0 in /usr/local/lib/python3.6/dist-packages (from tensorflow>=1.5.0->zeugma) (0.8.1)\n",
            "Requirement already satisfied: gast==0.2.2 in /usr/local/lib/python3.6/dist-packages (from tensorflow>=1.5.0->zeugma) (0.2.2)\n",
            "Requirement already satisfied: wrapt>=1.11.1 in /usr/local/lib/python3.6/dist-packages (from tensorflow>=1.5.0->zeugma) (1.11.2)\n",
            "Requirement already satisfied: absl-py>=0.7.0 in /usr/local/lib/python3.6/dist-packages (from tensorflow>=1.5.0->zeugma) (0.9.0)\n",
            "Requirement already satisfied: pyyaml in /usr/local/lib/python3.6/dist-packages (from keras>=2.1.3->zeugma) (3.13)\n",
            "Requirement already satisfied: h5py in /usr/local/lib/python3.6/dist-packages (from keras>=2.1.3->zeugma) (2.8.0)\n",
            "Requirement already satisfied: boto3 in /usr/local/lib/python3.6/dist-packages (from smart-open>=1.2.1->gensim>=3.5.0->zeugma) (1.11.9)\n",
            "Requirement already satisfied: boto>=2.32 in /usr/local/lib/python3.6/dist-packages (from smart-open>=1.2.1->gensim>=3.5.0->zeugma) (2.49.0)\n",
            "Requirement already satisfied: requests in /usr/local/lib/python3.6/dist-packages (from smart-open>=1.2.1->gensim>=3.5.0->zeugma) (2.21.0)\n",
            "Requirement already satisfied: setuptools in /usr/local/lib/python3.6/dist-packages (from protobuf>=3.6.1->tensorflow>=1.5.0->zeugma) (45.1.0)\n",
            "Requirement already satisfied: markdown>=2.6.8 in /usr/local/lib/python3.6/dist-packages (from tensorboard<1.16.0,>=1.15.0->tensorflow>=1.5.0->zeugma) (3.1.1)\n",
            "Requirement already satisfied: werkzeug>=0.11.15 in /usr/local/lib/python3.6/dist-packages (from tensorboard<1.16.0,>=1.15.0->tensorflow>=1.5.0->zeugma) (0.16.1)\n",
            "Requirement already satisfied: botocore<1.15.0,>=1.14.9 in /usr/local/lib/python3.6/dist-packages (from boto3->smart-open>=1.2.1->gensim>=3.5.0->zeugma) (1.14.9)\n",
            "Requirement already satisfied: s3transfer<0.4.0,>=0.3.0 in /usr/local/lib/python3.6/dist-packages (from boto3->smart-open>=1.2.1->gensim>=3.5.0->zeugma) (0.3.2)\n",
            "Requirement already satisfied: jmespath<1.0.0,>=0.7.1 in /usr/local/lib/python3.6/dist-packages (from boto3->smart-open>=1.2.1->gensim>=3.5.0->zeugma) (0.9.4)\n",
            "Requirement already satisfied: chardet<3.1.0,>=3.0.2 in /usr/local/lib/python3.6/dist-packages (from requests->smart-open>=1.2.1->gensim>=3.5.0->zeugma) (3.0.4)\n",
            "Requirement already satisfied: urllib3<1.25,>=1.21.1 in /usr/local/lib/python3.6/dist-packages (from requests->smart-open>=1.2.1->gensim>=3.5.0->zeugma) (1.24.3)\n",
            "Requirement already satisfied: idna<2.9,>=2.5 in /usr/local/lib/python3.6/dist-packages (from requests->smart-open>=1.2.1->gensim>=3.5.0->zeugma) (2.8)\n",
            "Requirement already satisfied: certifi>=2017.4.17 in /usr/local/lib/python3.6/dist-packages (from requests->smart-open>=1.2.1->gensim>=3.5.0->zeugma) (2019.11.28)\n",
            "Requirement already satisfied: docutils<0.16,>=0.10 in /usr/local/lib/python3.6/dist-packages (from botocore<1.15.0,>=1.14.9->boto3->smart-open>=1.2.1->gensim>=3.5.0->zeugma) (0.15.2)\n",
            "Building wheels for collected packages: zeugma\n",
            "  Building wheel for zeugma (setup.py) ... \u001b[?25l\u001b[?25hdone\n",
            "  Created wheel for zeugma: filename=zeugma-0.46-cp36-none-any.whl size=8612 sha256=7650ce1f1fe83ca3403d6601b7b2dbd2adecf5e1d0050ea7440d51be4eaf1d93\n",
            "  Stored in directory: /root/.cache/pip/wheels/49/ce/d3/22bc15de9112558b220d9dba3bfcd7d9ad0d8cc4d44d3e7813\n",
            "Successfully built zeugma\n",
            "Installing collected packages: zeugma\n",
            "Successfully installed zeugma-0.46\n"
          ],
          "name": "stdout"
        }
      ]
    },
    {
      "cell_type": "code",
      "metadata": {
        "id": "GdElqolxJygv",
        "colab_type": "code",
        "outputId": "737309f4-5e2d-4f2e-a7ac-355cdfd9c42b",
        "colab": {
          "base_uri": "https://localhost:8080/",
          "height": 34
        }
      },
      "source": [
        "%tensorflow_version 2.x"
      ],
      "execution_count": 15,
      "outputs": [
        {
          "output_type": "stream",
          "text": [
            "TensorFlow 2.x selected.\n"
          ],
          "name": "stdout"
        }
      ]
    },
    {
      "cell_type": "code",
      "metadata": {
        "id": "2VMeKLZ9J0Au",
        "colab_type": "code",
        "outputId": "3d81a14b-a1e2-475b-c6cf-0a4ad2a1c333",
        "colab": {
          "base_uri": "https://localhost:8080/",
          "height": 107
        }
      },
      "source": [
        "from zeugma.embeddings import EmbeddingTransformer\n",
        "word2vec = EmbeddingTransformer('word2vec') #word2vec has worked well for me"
      ],
      "execution_count": 16,
      "outputs": [
        {
          "output_type": "stream",
          "text": [
            "Using TensorFlow backend.\n"
          ],
          "name": "stderr"
        },
        {
          "output_type": "stream",
          "text": [
            "[=================================================-] 99.6% 1656.3/1662.8MB downloaded\n"
          ],
          "name": "stdout"
        },
        {
          "output_type": "stream",
          "text": [
            "/usr/local/lib/python3.6/dist-packages/smart_open/smart_open_lib.py:402: UserWarning: This function is deprecated, use smart_open.open instead. See the migration notes for details: https://github.com/RaRe-Technologies/smart_open/blob/master/README.rst#migrating-to-the-new-open-function\n",
            "  'See the migration notes for details: %s' % _MIGRATION_NOTES_URL\n"
          ],
          "name": "stderr"
        }
      ]
    },
    {
      "cell_type": "code",
      "metadata": {
        "id": "8XYw91peJ3iv",
        "colab_type": "code",
        "colab": {}
      },
      "source": [
        "from sklearn.preprocessing import LabelEncoder\n",
        "le = LabelEncoder()\n",
        "y = le.fit_transform(combined_df['official job'][:len_for_training])\n",
        "combined_X = word2vec.transform(combined_df['JobDescription'])"
      ],
      "execution_count": 0,
      "outputs": []
    },
    {
      "cell_type": "code",
      "metadata": {
        "id": "8dhlbvbOKJMP",
        "colab_type": "code",
        "colab": {}
      },
      "source": [
        "from sklearn.model_selection import train_test_split\n",
        "X_train, X_test, y_train, y_test = train_test_split(combined_X[:len_for_training], y, test_size = 0.3, random_state = 1)"
      ],
      "execution_count": 0,
      "outputs": []
    },
    {
      "cell_type": "markdown",
      "metadata": {
        "id": "OFNHJz6ZJ_ez",
        "colab_type": "text"
      },
      "source": [
        "Balancing the data with ADASYN"
      ]
    },
    {
      "cell_type": "code",
      "metadata": {
        "id": "mAQqYfgWJ3oa",
        "colab_type": "code",
        "colab": {
          "base_uri": "https://localhost:8080/",
          "height": 107
        },
        "outputId": "55ae8d8f-70a8-4870-b997-2d0b764c415e"
      },
      "source": [
        "from imblearn.over_sampling import ADASYN\n",
        "import warnings\n",
        "warnings.filterwarnings(\"ignore\")\n",
        "ada = ADASYN(random_state = 0)\n",
        "X_res, y_res = ada.fit_resample(X_train, y_train)"
      ],
      "execution_count": 19,
      "outputs": [
        {
          "output_type": "stream",
          "text": [
            "/usr/local/lib/python3.6/dist-packages/sklearn/externals/six.py:31: FutureWarning: The module is deprecated in version 0.21 and will be removed in version 0.23 since we've dropped support for Python 2.7. Please rely on the official version of six (https://pypi.org/project/six/).\n",
            "  \"(https://pypi.org/project/six/).\", FutureWarning)\n",
            "/usr/local/lib/python3.6/dist-packages/sklearn/utils/deprecation.py:144: FutureWarning: The sklearn.neighbors.base module is  deprecated in version 0.22 and will be removed in version 0.24. The corresponding classes / functions should instead be imported from sklearn.neighbors. Anything that cannot be imported from sklearn.neighbors is now part of the private API.\n",
            "  warnings.warn(message, FutureWarning)\n"
          ],
          "name": "stderr"
        }
      ]
    },
    {
      "cell_type": "markdown",
      "metadata": {
        "id": "XMGGFb1ZLRIe",
        "colab_type": "text"
      },
      "source": [
        "Making sure the classes are balanced now."
      ]
    },
    {
      "cell_type": "code",
      "metadata": {
        "id": "pn8MxTSmKGq8",
        "colab_type": "code",
        "outputId": "ce2de34f-975a-4c7a-a57d-b8b867aabde6",
        "colab": {
          "base_uri": "https://localhost:8080/",
          "height": 52
        }
      },
      "source": [
        "from collections import Counter\n",
        "print(sorted(Counter(y).items())[:5])\n",
        "print(sorted(Counter(y_res).items())[:5])"
      ],
      "execution_count": 20,
      "outputs": [
        {
          "output_type": "stream",
          "text": [
            "[(0, 250), (1, 22), (2, 30), (3, 15), (4, 36)]\n",
            "[(0, 179), (1, 179), (2, 180), (3, 178), (4, 179)]\n"
          ],
          "name": "stdout"
        }
      ]
    },
    {
      "cell_type": "code",
      "metadata": {
        "id": "rY6n8tSPKJQM",
        "colab_type": "code",
        "outputId": "22c4b0d1-493a-4ac7-d1e0-9d49eb49a335",
        "colab": {
          "base_uri": "https://localhost:8080/",
          "height": 34
        }
      },
      "source": [
        "from sklearn.model_selection import GridSearchCV\n",
        "from sklearn.svm import SVC\n",
        "SVC_model = SVC()\n",
        "param_range = np.logspace(-2, 2, 5)\n",
        "param_grid = [\n",
        "              {'C':param_range,\n",
        "               'gamma':param_range}\n",
        "]\n",
        "gs = GridSearchCV(estimator = SVC_model,\n",
        "                  param_grid = param_grid,\n",
        "                  scoring = 'accuracy',\n",
        "                  cv = 3,\n",
        "                  n_jobs = -1)\n",
        "gs = gs.fit(X_res, y_res)\n",
        "print(gs.best_params_)\n"
      ],
      "execution_count": 26,
      "outputs": [
        {
          "output_type": "stream",
          "text": [
            "{'C': 100.0, 'gamma': 1.0}\n"
          ],
          "name": "stdout"
        }
      ]
    },
    {
      "cell_type": "code",
      "metadata": {
        "id": "6Y_xiBhmKJUn",
        "colab_type": "code",
        "colab": {}
      },
      "source": [
        "clf_optimized = SVC(C = 100, gamma = 1, probability = True)"
      ],
      "execution_count": 0,
      "outputs": []
    },
    {
      "cell_type": "code",
      "metadata": {
        "id": "3mQj0SF1TQjD",
        "colab_type": "code",
        "outputId": "ce7dc64f-3a7c-4b62-de9b-3ab47faf1d51",
        "colab": {
          "base_uri": "https://localhost:8080/",
          "height": 34
        }
      },
      "source": [
        "clf_optimized.fit(X_res, y_res)\n",
        "print(\"The accuracy score of the optimized SVC model is: \", clf_optimized.score(X_test, y_test))"
      ],
      "execution_count": 28,
      "outputs": [
        {
          "output_type": "stream",
          "text": [
            "The accuracy score of the optimized SVC model is:  0.8832236842105263\n"
          ],
          "name": "stdout"
        }
      ]
    },
    {
      "cell_type": "code",
      "metadata": {
        "id": "jowBfa_OTjO3",
        "colab_type": "code",
        "colab": {}
      },
      "source": [
        "y_prediction = clf_optimized.predict(X_test)"
      ],
      "execution_count": 0,
      "outputs": []
    },
    {
      "cell_type": "markdown",
      "metadata": {
        "id": "W8Wjm49KUkqQ",
        "colab_type": "text"
      },
      "source": [
        "Since I have balanced the data, accuracy score should be sufficient to see how good the model is but I included other metrics just in case."
      ]
    },
    {
      "cell_type": "code",
      "metadata": {
        "id": "BVNcBFEdTavN",
        "colab_type": "code",
        "outputId": "9cab67b0-f78b-4ff4-ae68-f29428520ae0",
        "colab": {
          "base_uri": "https://localhost:8080/",
          "height": 70
        }
      },
      "source": [
        "from sklearn.metrics import recall_score, precision_score, f1_score\n",
        "print(\"Recall score: \", recall_score(y_prediction, y_test, average = 'micro'))\n",
        "print(\"Precision score: \", precision_score(y_prediction, y_test, average = 'micro'))\n",
        "print(\"F1 score: \", f1_score(y_prediction, y_test, average = 'micro'))"
      ],
      "execution_count": 30,
      "outputs": [
        {
          "output_type": "stream",
          "text": [
            "Recall score:  0.8832236842105263\n",
            "Precision score:  0.8832236842105263\n",
            "F1 score:  0.8832236842105263\n"
          ],
          "name": "stdout"
        }
      ]
    },
    {
      "cell_type": "markdown",
      "metadata": {
        "id": "YoPgdQ8eT_nF",
        "colab_type": "text"
      },
      "source": [
        "The job prediction based on job description is 99% accurate. It's pretty good so I can use this model to classify the jobs using description. Note that the model was only trained on the jobs in the job title list. For jobs that are not similar to the ones in the list, the model is not expected to perform well. As a result, I will use the model that can predict with > 60% probability to classify a job into one of the classes as the true label. Otherwise, I will just leave those out."
      ]
    },
    {
      "cell_type": "code",
      "metadata": {
        "id": "7RlBNxX9YGMo",
        "colab_type": "code",
        "colab": {}
      },
      "source": [
        "above_60_index = combined_df['official job'][len_for_training:][clf_optimized.predict_proba(combined_X[len_for_training:]).max(axis = 1) > 0.6].index"
      ],
      "execution_count": 0,
      "outputs": []
    },
    {
      "cell_type": "code",
      "metadata": {
        "id": "PTVpoCXhUbCK",
        "colab_type": "code",
        "colab": {}
      },
      "source": [
        "prediction = le.inverse_transform(clf_optimized.predict(combined_X[len_for_training:]))[above_60_index-len_for_training]\n",
        "various_title = combined_df['various job'][above_60_index].values\n",
        "job_description = combined_df['JobDescription'][above_60_index].values"
      ],
      "execution_count": 0,
      "outputs": []
    },
    {
      "cell_type": "code",
      "metadata": {
        "id": "8oDbAnYwTzaF",
        "colab_type": "code",
        "colab": {}
      },
      "source": [
        "title_output_df = pd.DataFrame(columns = ['various job', 'official job','JobDescription'])\n",
        "title_output_df['various job'] = various_title\n",
        "title_output_df['official job'] = prediction\n",
        "title_output_df['JobDescription'] = job_description"
      ],
      "execution_count": 0,
      "outputs": []
    },
    {
      "cell_type": "code",
      "metadata": {
        "id": "ZaTRrZ8QWwq8",
        "colab_type": "code",
        "outputId": "a4226c0e-6d4e-47f0-f894-6a2893c69cf2",
        "colab": {
          "base_uri": "https://localhost:8080/",
          "height": 311
        }
      },
      "source": [
        "title_output_df[title_output_df.duplicated(['various job'])][:6]"
      ],
      "execution_count": 35,
      "outputs": [
        {
          "output_type": "execute_result",
          "data": {
            "text/html": [
              "<div>\n",
              "<style scoped>\n",
              "    .dataframe tbody tr th:only-of-type {\n",
              "        vertical-align: middle;\n",
              "    }\n",
              "\n",
              "    .dataframe tbody tr th {\n",
              "        vertical-align: top;\n",
              "    }\n",
              "\n",
              "    .dataframe thead th {\n",
              "        text-align: right;\n",
              "    }\n",
              "</style>\n",
              "<table border=\"1\" class=\"dataframe\">\n",
              "  <thead>\n",
              "    <tr style=\"text-align: right;\">\n",
              "      <th></th>\n",
              "      <th>various job</th>\n",
              "      <th>official job</th>\n",
              "      <th>JobDescription</th>\n",
              "    </tr>\n",
              "  </thead>\n",
              "  <tbody>\n",
              "    <tr>\n",
              "      <th>14</th>\n",
              "      <td>.net c#/ c++ software developer</td>\n",
              "      <td>software developer</td>\n",
              "      <td>altacode ltd looking highly qualified motivate...</td>\n",
              "    </tr>\n",
              "    <tr>\n",
              "      <th>15</th>\n",
              "      <td>.net c#/ c++ software developer</td>\n",
              "      <td>software developer</td>\n",
              "      <td>altacode ltd looking highly qualified motivate...</td>\n",
              "    </tr>\n",
              "    <tr>\n",
              "      <th>16</th>\n",
              "      <td>.net c#/ c++ software developer</td>\n",
              "      <td>software developer</td>\n",
              "      <td>altacode ltd looking highly qualified motivate...</td>\n",
              "    </tr>\n",
              "    <tr>\n",
              "      <th>18</th>\n",
              "      <td>.net developer</td>\n",
              "      <td>software developer</td>\n",
              "      <td>company looking experienced net developer part...</td>\n",
              "    </tr>\n",
              "    <tr>\n",
              "      <th>19</th>\n",
              "      <td>.net developer</td>\n",
              "      <td>web developer</td>\n",
              "      <td>incumbent must experienced business logic arch...</td>\n",
              "    </tr>\n",
              "    <tr>\n",
              "      <th>20</th>\n",
              "      <td>.net developer</td>\n",
              "      <td>web developer</td>\n",
              "      <td>ideal candidate position must experienced busi...</td>\n",
              "    </tr>\n",
              "  </tbody>\n",
              "</table>\n",
              "</div>"
            ],
            "text/plain": [
              "                        various job  ...                                     JobDescription\n",
              "14  .net c#/ c++ software developer  ...  altacode ltd looking highly qualified motivate...\n",
              "15  .net c#/ c++ software developer  ...  altacode ltd looking highly qualified motivate...\n",
              "16  .net c#/ c++ software developer  ...  altacode ltd looking highly qualified motivate...\n",
              "18                   .net developer  ...  company looking experienced net developer part...\n",
              "19                   .net developer  ...  incumbent must experienced business logic arch...\n",
              "20                   .net developer  ...  ideal candidate position must experienced busi...\n",
              "\n",
              "[6 rows x 3 columns]"
            ]
          },
          "metadata": {
            "tags": []
          },
          "execution_count": 35
        }
      ]
    },
    {
      "cell_type": "markdown",
      "metadata": {
        "id": "3u9kCYDQX5qM",
        "colab_type": "text"
      },
      "source": [
        "It is not useful to have actual titles that are duplicated so I will drop them."
      ]
    },
    {
      "cell_type": "code",
      "metadata": {
        "id": "F0UDbNrvTzeD",
        "colab_type": "code",
        "colab": {}
      },
      "source": [
        "title_output_df = title_output_df.drop_duplicates(subset = ['various job'])"
      ],
      "execution_count": 0,
      "outputs": []
    },
    {
      "cell_type": "code",
      "metadata": {
        "id": "C4qtnAYmTziR",
        "colab_type": "code",
        "outputId": "15f39d30-3e94-477a-b583-a645bdca18db",
        "colab": {
          "base_uri": "https://localhost:8080/",
          "height": 34
        }
      },
      "source": [
        "len(title_output_df)"
      ],
      "execution_count": 37,
      "outputs": [
        {
          "output_type": "execute_result",
          "data": {
            "text/plain": [
              "1906"
            ]
          },
          "metadata": {
            "tags": []
          },
          "execution_count": 37
        }
      ]
    },
    {
      "cell_type": "markdown",
      "metadata": {
        "id": "SoDNuljjaCKg",
        "colab_type": "text"
      },
      "source": [
        "Validate the data that I've given labels to (didn't have 'official job' before). "
      ]
    },
    {
      "cell_type": "code",
      "metadata": {
        "id": "nSXQ8qDemySX",
        "colab_type": "code",
        "colab": {}
      },
      "source": [
        "y_pred = clf_optimized.predict(combined_X[len_for_training:])"
      ],
      "execution_count": 0,
      "outputs": []
    },
    {
      "cell_type": "code",
      "metadata": {
        "id": "RhV-3wAsZ9Nb",
        "colab_type": "code",
        "outputId": "9b568dc4-19f4-4734-876c-de2733e69294",
        "colab": {
          "base_uri": "https://localhost:8080/",
          "height": 34
        }
      },
      "source": [
        "clf_optimized.score(combined_X[len_for_training:], y_pred)"
      ],
      "execution_count": 39,
      "outputs": [
        {
          "output_type": "execute_result",
          "data": {
            "text/plain": [
              "1.0"
            ]
          },
          "metadata": {
            "tags": []
          },
          "execution_count": 39
        }
      ]
    },
    {
      "cell_type": "code",
      "metadata": {
        "id": "IWcinhRMWwHM",
        "colab_type": "code",
        "colab": {}
      },
      "source": [
        "title_output_df.to_csv('title_output.txt', sep = '\\t', index = False)"
      ],
      "execution_count": 0,
      "outputs": []
    },
    {
      "cell_type": "code",
      "metadata": {
        "id": "kgFU4dgVnHge",
        "colab_type": "code",
        "colab": {}
      },
      "source": [
        "files.download('title_output.txt')"
      ],
      "execution_count": 0,
      "outputs": []
    }
  ]
}