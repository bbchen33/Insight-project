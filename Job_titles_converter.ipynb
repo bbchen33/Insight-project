{
  "nbformat": 4,
  "nbformat_minor": 0,
  "metadata": {
    "colab": {
      "name": "Job_titles_converter.ipynb",
      "provenance": [],
      "authorship_tag": "ABX9TyOGDmg5QkDHAoJvgU5eMR3H",
      "include_colab_link": true
    },
    "kernelspec": {
      "name": "python3",
      "display_name": "Python 3"
    }
  },
  "cells": [
    {
      "cell_type": "markdown",
      "metadata": {
        "id": "view-in-github",
        "colab_type": "text"
      },
      "source": [
        "<a href=\"https://colab.research.google.com/github/bbchen33/Insight-project/blob/master/Job_titles_converter.ipynb\" target=\"_parent\"><img src=\"https://colab.research.google.com/assets/colab-badge.svg\" alt=\"Open In Colab\"/></a>"
      ]
    },
    {
      "cell_type": "markdown",
      "metadata": {
        "id": "YSr7LIVVdXzs",
        "colab_type": "text"
      },
      "source": [
        "# The notebook is for converting input job titles to output job titles"
      ]
    },
    {
      "cell_type": "code",
      "metadata": {
        "id": "jH-YCnM5dVyK",
        "colab_type": "code",
        "colab": {
          "base_uri": "https://localhost:8080/",
          "height": 34
        },
        "outputId": "b17de8d1-f485-49a9-eb0a-2546ca77f973"
      },
      "source": [
        "!pip install --quiet zeugma"
      ],
      "execution_count": 1,
      "outputs": [
        {
          "output_type": "stream",
          "text": [
            "  Building wheel for zeugma (setup.py) ... \u001b[?25l\u001b[?25hdone\n"
          ],
          "name": "stdout"
        }
      ]
    },
    {
      "cell_type": "code",
      "metadata": {
        "id": "YOemUXEsdsOS",
        "colab_type": "code",
        "colab": {
          "base_uri": "https://localhost:8080/",
          "height": 34
        },
        "outputId": "cfe3212c-5bfb-40a4-f410-cbcee82eb53c"
      },
      "source": [
        "%tensorflow_version 2.x"
      ],
      "execution_count": 2,
      "outputs": [
        {
          "output_type": "stream",
          "text": [
            "TensorFlow 2.x selected.\n"
          ],
          "name": "stdout"
        }
      ]
    },
    {
      "cell_type": "code",
      "metadata": {
        "id": "LBLWY6k6duK0",
        "colab_type": "code",
        "colab": {
          "base_uri": "https://localhost:8080/",
          "height": 90
        },
        "outputId": "06daa9cf-9b36-4170-e6ff-c35dbb4a08cc"
      },
      "source": [
        "from zeugma.embeddings import EmbeddingTransformer\n",
        "word2vec = EmbeddingTransformer('word2vec')"
      ],
      "execution_count": 3,
      "outputs": [
        {
          "output_type": "stream",
          "text": [
            "[=================================================-] 99.9% 1661.2/1662.8MB downloaded\n"
          ],
          "name": "stdout"
        },
        {
          "output_type": "stream",
          "text": [
            "/usr/local/lib/python3.6/dist-packages/smart_open/smart_open_lib.py:402: UserWarning: This function is deprecated, use smart_open.open instead. See the migration notes for details: https://github.com/RaRe-Technologies/smart_open/blob/master/README.rst#migrating-to-the-new-open-function\n",
            "  'See the migration notes for details: %s' % _MIGRATION_NOTES_URL\n"
          ],
          "name": "stderr"
        }
      ]
    },
    {
      "cell_type": "code",
      "metadata": {
        "id": "GdptuHniduSo",
        "colab_type": "code",
        "colab": {}
      },
      "source": [
        "import pickle\n",
        "from sklearn.linear_model import LogisticRegression\n",
        "with open('LR_optimized_model', 'rb') as file:\n",
        "  pretrained_model = pickle.load(file)"
      ],
      "execution_count": 0,
      "outputs": []
    },
    {
      "cell_type": "markdown",
      "metadata": {
        "id": "mLCsm2xwgAH6",
        "colab_type": "text"
      },
      "source": [
        "The 'clean_indeed_ground_truth_new_titles_and_trained_titles_Feb5_.txt' dataframe is purely for the label encoder used before. If the labelencoder can also just be saved and imported here instead of the dataframe. "
      ]
    },
    {
      "cell_type": "code",
      "metadata": {
        "id": "2UK26eNtfpks",
        "colab_type": "code",
        "colab": {}
      },
      "source": [
        "import pandas as pd\n",
        "ground_truth_combined = pd.read_csv('clean_indeed_ground_truth_new_titles_and_trained_titles_Feb5_.txt', sep = '\\t')"
      ],
      "execution_count": 0,
      "outputs": []
    },
    {
      "cell_type": "code",
      "metadata": {
        "id": "fujlITJvf5rF",
        "colab_type": "code",
        "colab": {
          "base_uri": "https://localhost:8080/",
          "height": 34
        },
        "outputId": "318a4d9d-4238-48e2-e6d2-50c50aa6c15f"
      },
      "source": [
        "from sklearn.preprocessing import LabelEncoder\n",
        "le = LabelEncoder()\n",
        "le.fit(ground_truth_combined['official job'].unique())"
      ],
      "execution_count": 12,
      "outputs": [
        {
          "output_type": "execute_result",
          "data": {
            "text/plain": [
              "LabelEncoder()"
            ]
          },
          "metadata": {
            "tags": []
          },
          "execution_count": 12
        }
      ]
    },
    {
      "cell_type": "code",
      "metadata": {
        "id": "N0OZEAJLeI3j",
        "colab_type": "code",
        "colab": {}
      },
      "source": [
        "import re\n",
        "\n",
        "def remove_symbols(text):\n",
        "  text = re.sub(r'([0-9]+?)', '', text) \n",
        "  text = re.sub(r'(!|\"|#|\\$|%|&|\\'|\\(|\\)|\\*|\\+|,|-|\\.|/|:|;|<|=|>|\\?|@|\\[|\\\\|\\]|\\^|_|`|{|\\||}|~)+', ' ', text)\n",
        "  return text\n",
        "\n",
        "def keyword_synonyms_index(job_title_series): # this function will add 'senior' or 'junior' back to the predicted job titles\n",
        "  keyword_list = ['junior','jr','senior','sr','head']\n",
        "  common_dict = {'jr':'junior', 'sr':'senior'}\n",
        "  index_and_kw_dict = {} # index where the keyword occurs\n",
        "  for title in job_title_series:\n",
        "    texts = title.split(' ')\n",
        "    for word in texts:\n",
        "      if word in keyword_list:\n",
        "        if word in common_dict:\n",
        "          index_and_kw_dict[job_title_series.index(title)] = common_dict[word]\n",
        "        else:\n",
        "          index_and_kw_dict[job_title_series.index(title)] = word\n",
        "\n",
        "  return index_and_kw_dict  \n",
        "\n",
        "def job_title_converter(input_job_list, classifier):\n",
        "  input_job = pd.Series(input_job_list)\n",
        "  input_job = input_job.str.lower()\n",
        "  input_job = input_job.apply(lambda x:remove_symbols(x))\n",
        "  input_job = input_job.str.strip()\n",
        "  \n",
        "  X = word2vec.transform(input_job)\n",
        "  output = classifier.predict(X)\n",
        "  probability_output = classifier.predict_proba(X).max(axis =1)\n",
        "  output = le.inverse_transform(output)\n",
        "  kw_array = keyword_synonyms_index(input_job_list)\n",
        "  for index in kw_array:\n",
        "    output[index] = kw_array[index]+' ' + output[index]\n",
        "\n",
        "  output_df = pd.DataFrame(columns = ['Input title', 'Output title', 'Probability'])\n",
        "  output_df['Input title'] = input_job_list\n",
        "  output_df['Output title'] = output\n",
        "  output_df['Probability'] = probability_output\n",
        "  return output_df"
      ],
      "execution_count": 0,
      "outputs": []
    },
    {
      "cell_type": "markdown",
      "metadata": {
        "id": "szD50aodkRd7",
        "colab_type": "text"
      },
      "source": [
        "# Testing the function."
      ]
    },
    {
      "cell_type": "code",
      "metadata": {
        "id": "zmm-aHVVgreY",
        "colab_type": "code",
        "colab": {
          "base_uri": "https://localhost:8080/",
          "height": 137
        },
        "outputId": "028aee51-d2ee-49a9-be6a-7279036b9617"
      },
      "source": [
        "job_title_converter(['Talent acquis', 'sr recruiting manager', 'hiring staff'], pretrained_model)"
      ],
      "execution_count": 73,
      "outputs": [
        {
          "output_type": "execute_result",
          "data": {
            "text/html": [
              "<div>\n",
              "<style scoped>\n",
              "    .dataframe tbody tr th:only-of-type {\n",
              "        vertical-align: middle;\n",
              "    }\n",
              "\n",
              "    .dataframe tbody tr th {\n",
              "        vertical-align: top;\n",
              "    }\n",
              "\n",
              "    .dataframe thead th {\n",
              "        text-align: right;\n",
              "    }\n",
              "</style>\n",
              "<table border=\"1\" class=\"dataframe\">\n",
              "  <thead>\n",
              "    <tr style=\"text-align: right;\">\n",
              "      <th></th>\n",
              "      <th>Input title</th>\n",
              "      <th>Output title</th>\n",
              "      <th>Probability</th>\n",
              "    </tr>\n",
              "  </thead>\n",
              "  <tbody>\n",
              "    <tr>\n",
              "      <th>0</th>\n",
              "      <td>Talent acquis</td>\n",
              "      <td>recruiter</td>\n",
              "      <td>0.414830</td>\n",
              "    </tr>\n",
              "    <tr>\n",
              "      <th>1</th>\n",
              "      <td>sr recruiting manager</td>\n",
              "      <td>senior recruiter</td>\n",
              "      <td>0.807367</td>\n",
              "    </tr>\n",
              "    <tr>\n",
              "      <th>2</th>\n",
              "      <td>hiring staff</td>\n",
              "      <td>recruiter</td>\n",
              "      <td>0.349558</td>\n",
              "    </tr>\n",
              "  </tbody>\n",
              "</table>\n",
              "</div>"
            ],
            "text/plain": [
              "             Input title      Output title  Probability\n",
              "0          Talent acquis         recruiter     0.414830\n",
              "1  sr recruiting manager  senior recruiter     0.807367\n",
              "2           hiring staff         recruiter     0.349558"
            ]
          },
          "metadata": {
            "tags": []
          },
          "execution_count": 73
        }
      ]
    }
  ]
}